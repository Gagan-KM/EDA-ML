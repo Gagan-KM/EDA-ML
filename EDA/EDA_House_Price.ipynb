{
 "cells": [
  {
   "cell_type": "markdown",
   "metadata": {},
   "source": [
    "<b><h2> EDA </h2></b>"
   ]
  },
  {
   "cell_type": "code",
   "execution_count": 261,
   "metadata": {},
   "outputs": [
    {
     "data": {
      "text/plain": [
       "pandas.core.frame.DataFrame"
      ]
     },
     "execution_count": 261,
     "metadata": {},
     "output_type": "execute_result"
    }
   ],
   "source": [
    "import numpy as np\n",
    "import pandas as pd\n",
    "import matplotlib.pyplot as plt\n",
    "df = pd.read_csv(\"house_data.csv\")\n",
    "type(df)"
   ]
  },
  {
   "cell_type": "code",
   "execution_count": 262,
   "metadata": {},
   "outputs": [
    {
     "data": {
      "text/plain": [
       "array(['San Francisco', 'Chicago', 'Los Angeles', 'New York', nan],\n",
       "      dtype=object)"
      ]
     },
     "execution_count": 262,
     "metadata": {},
     "output_type": "execute_result"
    }
   ],
   "source": [
    "#unique cities\n",
    "df['City'].unique()"
   ]
  },
  {
   "cell_type": "code",
   "execution_count": 263,
   "metadata": {},
   "outputs": [
    {
     "data": {
      "application/vnd.microsoft.datawrangler.viewer.v0+json": {
       "columns": [
        {
         "name": "index",
         "rawType": "int64",
         "type": "integer"
        },
        {
         "name": "Size (sq ft)",
         "rawType": "float64",
         "type": "float"
        },
        {
         "name": "Bedrooms",
         "rawType": "float64",
         "type": "float"
        },
        {
         "name": "Bathrooms",
         "rawType": "float64",
         "type": "float"
        },
        {
         "name": "Floors",
         "rawType": "float64",
         "type": "float"
        },
        {
         "name": "Age (Years)",
         "rawType": "float64",
         "type": "float"
        },
        {
         "name": "City",
         "rawType": "object",
         "type": "string"
        },
        {
         "name": "Price",
         "rawType": "float64",
         "type": "float"
        }
       ],
       "conversionMethod": "pd.DataFrame",
       "ref": "b6c60034-1d62-4689-8ad6-584f9e3d17c6",
       "rows": [
        [
         "0",
         "887.0",
         "5.0",
         "1.0",
         "2.0",
         "2.0",
         "San Francisco",
         "458015.0"
        ],
        [
         "1",
         "2011.0",
         "5.0",
         "3.0",
         "1.0",
         "47.0",
         "Chicago",
         "612437.0"
        ],
        [
         "2",
         "2020.0",
         "1.0",
         "1.0",
         "1.0",
         "6.0",
         "Los Angeles",
         "983474.0"
        ]
       ],
       "shape": {
        "columns": 7,
        "rows": 3
       }
      },
      "text/html": [
       "<div>\n",
       "<style scoped>\n",
       "    .dataframe tbody tr th:only-of-type {\n",
       "        vertical-align: middle;\n",
       "    }\n",
       "\n",
       "    .dataframe tbody tr th {\n",
       "        vertical-align: top;\n",
       "    }\n",
       "\n",
       "    .dataframe thead th {\n",
       "        text-align: right;\n",
       "    }\n",
       "</style>\n",
       "<table border=\"1\" class=\"dataframe\">\n",
       "  <thead>\n",
       "    <tr style=\"text-align: right;\">\n",
       "      <th></th>\n",
       "      <th>Size (sq ft)</th>\n",
       "      <th>Bedrooms</th>\n",
       "      <th>Bathrooms</th>\n",
       "      <th>Floors</th>\n",
       "      <th>Age (Years)</th>\n",
       "      <th>City</th>\n",
       "      <th>Price</th>\n",
       "    </tr>\n",
       "  </thead>\n",
       "  <tbody>\n",
       "    <tr>\n",
       "      <th>0</th>\n",
       "      <td>887.0</td>\n",
       "      <td>5.0</td>\n",
       "      <td>1.0</td>\n",
       "      <td>2.0</td>\n",
       "      <td>2.0</td>\n",
       "      <td>San Francisco</td>\n",
       "      <td>458015.0</td>\n",
       "    </tr>\n",
       "    <tr>\n",
       "      <th>1</th>\n",
       "      <td>2011.0</td>\n",
       "      <td>5.0</td>\n",
       "      <td>3.0</td>\n",
       "      <td>1.0</td>\n",
       "      <td>47.0</td>\n",
       "      <td>Chicago</td>\n",
       "      <td>612437.0</td>\n",
       "    </tr>\n",
       "    <tr>\n",
       "      <th>2</th>\n",
       "      <td>2020.0</td>\n",
       "      <td>1.0</td>\n",
       "      <td>1.0</td>\n",
       "      <td>1.0</td>\n",
       "      <td>6.0</td>\n",
       "      <td>Los Angeles</td>\n",
       "      <td>983474.0</td>\n",
       "    </tr>\n",
       "  </tbody>\n",
       "</table>\n",
       "</div>"
      ],
      "text/plain": [
       "   Size (sq ft)  Bedrooms  Bathrooms  Floors  Age (Years)           City  \\\n",
       "0         887.0       5.0        1.0     2.0          2.0  San Francisco   \n",
       "1        2011.0       5.0        3.0     1.0         47.0        Chicago   \n",
       "2        2020.0       1.0        1.0     1.0          6.0    Los Angeles   \n",
       "\n",
       "      Price  \n",
       "0  458015.0  \n",
       "1  612437.0  \n",
       "2  983474.0  "
      ]
     },
     "execution_count": 263,
     "metadata": {},
     "output_type": "execute_result"
    }
   ],
   "source": [
    "df.head(3)"
   ]
  },
  {
   "cell_type": "code",
   "execution_count": 264,
   "metadata": {},
   "outputs": [
    {
     "data": {
      "application/vnd.microsoft.datawrangler.viewer.v0+json": {
       "columns": [
        {
         "name": "index",
         "rawType": "int64",
         "type": "integer"
        },
        {
         "name": "Size (sq ft)",
         "rawType": "float64",
         "type": "float"
        },
        {
         "name": "Bedrooms",
         "rawType": "float64",
         "type": "float"
        },
        {
         "name": "Bathrooms",
         "rawType": "float64",
         "type": "float"
        },
        {
         "name": "Floors",
         "rawType": "float64",
         "type": "float"
        },
        {
         "name": "Age (Years)",
         "rawType": "float64",
         "type": "float"
        },
        {
         "name": "City",
         "rawType": "object",
         "type": "string"
        },
        {
         "name": "Price",
         "rawType": "float64",
         "type": "float"
        }
       ],
       "conversionMethod": "pd.DataFrame",
       "ref": "029f6d67-d14c-43c2-abca-904ecb740373",
       "rows": [
        [
         "103",
         "3170.0",
         "2.0",
         "1.0",
         "2.0",
         "44.0",
         "Los Angeles",
         "790500.0"
        ],
        [
         "104",
         "3285.0",
         "4.0",
         "2.0",
         "1.0",
         "15.0",
         "San Francisco",
         "87.0"
        ],
        [
         "105",
         "2000.0",
         "3.0",
         "1.0",
         "1.0",
         "30.0",
         "Chicago",
         "692150.0"
        ]
       ],
       "shape": {
        "columns": 7,
        "rows": 3
       }
      },
      "text/html": [
       "<div>\n",
       "<style scoped>\n",
       "    .dataframe tbody tr th:only-of-type {\n",
       "        vertical-align: middle;\n",
       "    }\n",
       "\n",
       "    .dataframe tbody tr th {\n",
       "        vertical-align: top;\n",
       "    }\n",
       "\n",
       "    .dataframe thead th {\n",
       "        text-align: right;\n",
       "    }\n",
       "</style>\n",
       "<table border=\"1\" class=\"dataframe\">\n",
       "  <thead>\n",
       "    <tr style=\"text-align: right;\">\n",
       "      <th></th>\n",
       "      <th>Size (sq ft)</th>\n",
       "      <th>Bedrooms</th>\n",
       "      <th>Bathrooms</th>\n",
       "      <th>Floors</th>\n",
       "      <th>Age (Years)</th>\n",
       "      <th>City</th>\n",
       "      <th>Price</th>\n",
       "    </tr>\n",
       "  </thead>\n",
       "  <tbody>\n",
       "    <tr>\n",
       "      <th>103</th>\n",
       "      <td>3170.0</td>\n",
       "      <td>2.0</td>\n",
       "      <td>1.0</td>\n",
       "      <td>2.0</td>\n",
       "      <td>44.0</td>\n",
       "      <td>Los Angeles</td>\n",
       "      <td>790500.0</td>\n",
       "    </tr>\n",
       "    <tr>\n",
       "      <th>104</th>\n",
       "      <td>3285.0</td>\n",
       "      <td>4.0</td>\n",
       "      <td>2.0</td>\n",
       "      <td>1.0</td>\n",
       "      <td>15.0</td>\n",
       "      <td>San Francisco</td>\n",
       "      <td>87.0</td>\n",
       "    </tr>\n",
       "    <tr>\n",
       "      <th>105</th>\n",
       "      <td>2000.0</td>\n",
       "      <td>3.0</td>\n",
       "      <td>1.0</td>\n",
       "      <td>1.0</td>\n",
       "      <td>30.0</td>\n",
       "      <td>Chicago</td>\n",
       "      <td>692150.0</td>\n",
       "    </tr>\n",
       "  </tbody>\n",
       "</table>\n",
       "</div>"
      ],
      "text/plain": [
       "     Size (sq ft)  Bedrooms  Bathrooms  Floors  Age (Years)           City  \\\n",
       "103        3170.0       2.0        1.0     2.0         44.0    Los Angeles   \n",
       "104        3285.0       4.0        2.0     1.0         15.0  San Francisco   \n",
       "105        2000.0       3.0        1.0     1.0         30.0        Chicago   \n",
       "\n",
       "        Price  \n",
       "103  790500.0  \n",
       "104      87.0  \n",
       "105  692150.0  "
      ]
     },
     "execution_count": 264,
     "metadata": {},
     "output_type": "execute_result"
    }
   ],
   "source": [
    "df.tail(3)"
   ]
  },
  {
   "cell_type": "code",
   "execution_count": 265,
   "metadata": {},
   "outputs": [
    {
     "name": "stdout",
     "output_type": "stream",
     "text": [
      "<class 'pandas.core.frame.DataFrame'>\n",
      "RangeIndex: 106 entries, 0 to 105\n",
      "Data columns (total 7 columns):\n",
      " #   Column        Non-Null Count  Dtype  \n",
      "---  ------        --------------  -----  \n",
      " 0   Size (sq ft)  101 non-null    float64\n",
      " 1   Bedrooms      101 non-null    float64\n",
      " 2   Bathrooms     102 non-null    float64\n",
      " 3   Floors        102 non-null    float64\n",
      " 4   Age (Years)   103 non-null    float64\n",
      " 5   City          105 non-null    object \n",
      " 6   Price         104 non-null    float64\n",
      "dtypes: float64(6), object(1)\n",
      "memory usage: 5.9+ KB\n"
     ]
    }
   ],
   "source": [
    "df.info()"
   ]
  },
  {
   "cell_type": "code",
   "execution_count": 266,
   "metadata": {},
   "outputs": [
    {
     "data": {
      "text/plain": [
       "(106, 7)"
      ]
     },
     "execution_count": 266,
     "metadata": {},
     "output_type": "execute_result"
    }
   ],
   "source": [
    "df.shape"
   ]
  },
  {
   "cell_type": "code",
   "execution_count": 267,
   "metadata": {},
   "outputs": [
    {
     "data": {
      "application/vnd.microsoft.datawrangler.viewer.v0+json": {
       "columns": [
        {
         "name": "index",
         "rawType": "object",
         "type": "string"
        },
        {
         "name": "Size (sq ft)",
         "rawType": "float64",
         "type": "float"
        },
        {
         "name": "Bedrooms",
         "rawType": "float64",
         "type": "float"
        },
        {
         "name": "Bathrooms",
         "rawType": "float64",
         "type": "float"
        },
        {
         "name": "Floors",
         "rawType": "float64",
         "type": "float"
        },
        {
         "name": "Age (Years)",
         "rawType": "float64",
         "type": "float"
        },
        {
         "name": "Price",
         "rawType": "float64",
         "type": "float"
        }
       ],
       "conversionMethod": "pd.DataFrame",
       "ref": "c7d35b26-c2c5-4d67-a720-9f489a38f135",
       "rows": [
        [
         "count",
         "101.0",
         "101.0",
         "102.0",
         "102.0",
         "103.0",
         "104.0"
        ],
        [
         "mean",
         "2747.267326732673",
         "2.9405940594059405",
         "2.0098039215686274",
         "1.411764705882353",
         "25.805825242718445",
         "664944.2788461539"
        ],
        [
         "std",
         "754.9608054871338",
         "1.2635013429214683",
         "0.802164127785119",
         "0.4945833565373731",
         "11.412977007128287",
         "164393.93976956795"
        ],
        [
         "min",
         "887.0",
         "1.0",
         "1.0",
         "1.0",
         "2.0",
         "87.0"
        ],
        [
         "25%",
         "2000.0",
         "2.0",
         "1.0",
         "1.0",
         "17.0",
         "580695.25"
        ],
        [
         "50%",
         "2815.0",
         "3.0",
         "2.0",
         "1.0",
         "26.0",
         "680999.0"
        ],
        [
         "75%",
         "3495.0",
         "4.0",
         "3.0",
         "2.0",
         "35.0",
         "764505.0"
        ],
        [
         "max",
         "4011.0",
         "5.0",
         "3.0",
         "2.0",
         "48.0",
         "983474.0"
        ]
       ],
       "shape": {
        "columns": 6,
        "rows": 8
       }
      },
      "text/html": [
       "<div>\n",
       "<style scoped>\n",
       "    .dataframe tbody tr th:only-of-type {\n",
       "        vertical-align: middle;\n",
       "    }\n",
       "\n",
       "    .dataframe tbody tr th {\n",
       "        vertical-align: top;\n",
       "    }\n",
       "\n",
       "    .dataframe thead th {\n",
       "        text-align: right;\n",
       "    }\n",
       "</style>\n",
       "<table border=\"1\" class=\"dataframe\">\n",
       "  <thead>\n",
       "    <tr style=\"text-align: right;\">\n",
       "      <th></th>\n",
       "      <th>Size (sq ft)</th>\n",
       "      <th>Bedrooms</th>\n",
       "      <th>Bathrooms</th>\n",
       "      <th>Floors</th>\n",
       "      <th>Age (Years)</th>\n",
       "      <th>Price</th>\n",
       "    </tr>\n",
       "  </thead>\n",
       "  <tbody>\n",
       "    <tr>\n",
       "      <th>count</th>\n",
       "      <td>101.000000</td>\n",
       "      <td>101.000000</td>\n",
       "      <td>102.000000</td>\n",
       "      <td>102.000000</td>\n",
       "      <td>103.000000</td>\n",
       "      <td>104.000000</td>\n",
       "    </tr>\n",
       "    <tr>\n",
       "      <th>mean</th>\n",
       "      <td>2747.267327</td>\n",
       "      <td>2.940594</td>\n",
       "      <td>2.009804</td>\n",
       "      <td>1.411765</td>\n",
       "      <td>25.805825</td>\n",
       "      <td>664944.278846</td>\n",
       "    </tr>\n",
       "    <tr>\n",
       "      <th>std</th>\n",
       "      <td>754.960805</td>\n",
       "      <td>1.263501</td>\n",
       "      <td>0.802164</td>\n",
       "      <td>0.494583</td>\n",
       "      <td>11.412977</td>\n",
       "      <td>164393.939770</td>\n",
       "    </tr>\n",
       "    <tr>\n",
       "      <th>min</th>\n",
       "      <td>887.000000</td>\n",
       "      <td>1.000000</td>\n",
       "      <td>1.000000</td>\n",
       "      <td>1.000000</td>\n",
       "      <td>2.000000</td>\n",
       "      <td>87.000000</td>\n",
       "    </tr>\n",
       "    <tr>\n",
       "      <th>25%</th>\n",
       "      <td>2000.000000</td>\n",
       "      <td>2.000000</td>\n",
       "      <td>1.000000</td>\n",
       "      <td>1.000000</td>\n",
       "      <td>17.000000</td>\n",
       "      <td>580695.250000</td>\n",
       "    </tr>\n",
       "    <tr>\n",
       "      <th>50%</th>\n",
       "      <td>2815.000000</td>\n",
       "      <td>3.000000</td>\n",
       "      <td>2.000000</td>\n",
       "      <td>1.000000</td>\n",
       "      <td>26.000000</td>\n",
       "      <td>680999.000000</td>\n",
       "    </tr>\n",
       "    <tr>\n",
       "      <th>75%</th>\n",
       "      <td>3495.000000</td>\n",
       "      <td>4.000000</td>\n",
       "      <td>3.000000</td>\n",
       "      <td>2.000000</td>\n",
       "      <td>35.000000</td>\n",
       "      <td>764505.000000</td>\n",
       "    </tr>\n",
       "    <tr>\n",
       "      <th>max</th>\n",
       "      <td>4011.000000</td>\n",
       "      <td>5.000000</td>\n",
       "      <td>3.000000</td>\n",
       "      <td>2.000000</td>\n",
       "      <td>48.000000</td>\n",
       "      <td>983474.000000</td>\n",
       "    </tr>\n",
       "  </tbody>\n",
       "</table>\n",
       "</div>"
      ],
      "text/plain": [
       "       Size (sq ft)    Bedrooms   Bathrooms      Floors  Age (Years)  \\\n",
       "count    101.000000  101.000000  102.000000  102.000000   103.000000   \n",
       "mean    2747.267327    2.940594    2.009804    1.411765    25.805825   \n",
       "std      754.960805    1.263501    0.802164    0.494583    11.412977   \n",
       "min      887.000000    1.000000    1.000000    1.000000     2.000000   \n",
       "25%     2000.000000    2.000000    1.000000    1.000000    17.000000   \n",
       "50%     2815.000000    3.000000    2.000000    1.000000    26.000000   \n",
       "75%     3495.000000    4.000000    3.000000    2.000000    35.000000   \n",
       "max     4011.000000    5.000000    3.000000    2.000000    48.000000   \n",
       "\n",
       "               Price  \n",
       "count     104.000000  \n",
       "mean   664944.278846  \n",
       "std    164393.939770  \n",
       "min        87.000000  \n",
       "25%    580695.250000  \n",
       "50%    680999.000000  \n",
       "75%    764505.000000  \n",
       "max    983474.000000  "
      ]
     },
     "execution_count": 267,
     "metadata": {},
     "output_type": "execute_result"
    }
   ],
   "source": [
    "df.describe()"
   ]
  },
  {
   "cell_type": "code",
   "execution_count": 268,
   "metadata": {},
   "outputs": [
    {
     "data": {
      "application/vnd.microsoft.datawrangler.viewer.v0+json": {
       "columns": [
        {
         "name": "index",
         "rawType": "object",
         "type": "string"
        },
        {
         "name": "City",
         "rawType": "object",
         "type": "unknown"
        }
       ],
       "conversionMethod": "pd.DataFrame",
       "ref": "da8124da-5b4a-4685-9509-ab2cdfaa34f7",
       "rows": [
        [
         "count",
         "105"
        ],
        [
         "unique",
         "4"
        ],
        [
         "top",
         "Chicago"
        ],
        [
         "freq",
         "33"
        ]
       ],
       "shape": {
        "columns": 1,
        "rows": 4
       }
      },
      "text/html": [
       "<div>\n",
       "<style scoped>\n",
       "    .dataframe tbody tr th:only-of-type {\n",
       "        vertical-align: middle;\n",
       "    }\n",
       "\n",
       "    .dataframe tbody tr th {\n",
       "        vertical-align: top;\n",
       "    }\n",
       "\n",
       "    .dataframe thead th {\n",
       "        text-align: right;\n",
       "    }\n",
       "</style>\n",
       "<table border=\"1\" class=\"dataframe\">\n",
       "  <thead>\n",
       "    <tr style=\"text-align: right;\">\n",
       "      <th></th>\n",
       "      <th>City</th>\n",
       "    </tr>\n",
       "  </thead>\n",
       "  <tbody>\n",
       "    <tr>\n",
       "      <th>count</th>\n",
       "      <td>105</td>\n",
       "    </tr>\n",
       "    <tr>\n",
       "      <th>unique</th>\n",
       "      <td>4</td>\n",
       "    </tr>\n",
       "    <tr>\n",
       "      <th>top</th>\n",
       "      <td>Chicago</td>\n",
       "    </tr>\n",
       "    <tr>\n",
       "      <th>freq</th>\n",
       "      <td>33</td>\n",
       "    </tr>\n",
       "  </tbody>\n",
       "</table>\n",
       "</div>"
      ],
      "text/plain": [
       "           City\n",
       "count       105\n",
       "unique        4\n",
       "top     Chicago\n",
       "freq         33"
      ]
     },
     "execution_count": 268,
     "metadata": {},
     "output_type": "execute_result"
    }
   ],
   "source": [
    "df.describe(include = ['object'])"
   ]
  },
  {
   "cell_type": "code",
   "execution_count": 269,
   "metadata": {},
   "outputs": [
    {
     "data": {
      "text/plain": [
       "Size (sq ft)    float64\n",
       "Bedrooms        float64\n",
       "Bathrooms       float64\n",
       "Floors          float64\n",
       "Age (Years)     float64\n",
       "City             object\n",
       "Price           float64\n",
       "dtype: object"
      ]
     },
     "execution_count": 269,
     "metadata": {},
     "output_type": "execute_result"
    }
   ],
   "source": [
    "df.dtypes"
   ]
  },
  {
   "cell_type": "code",
   "execution_count": 270,
   "metadata": {},
   "outputs": [],
   "source": [
    "df['City'] = df['City'].astype('category')"
   ]
  },
  {
   "cell_type": "code",
   "execution_count": 271,
   "metadata": {},
   "outputs": [
    {
     "data": {
      "text/plain": [
       "Size (sq ft)     float64\n",
       "Bedrooms         float64\n",
       "Bathrooms        float64\n",
       "Floors           float64\n",
       "Age (Years)      float64\n",
       "City            category\n",
       "Price            float64\n",
       "dtype: object"
      ]
     },
     "execution_count": 271,
     "metadata": {},
     "output_type": "execute_result"
    }
   ],
   "source": [
    "df.dtypes"
   ]
  },
  {
   "cell_type": "code",
   "execution_count": 272,
   "metadata": {},
   "outputs": [
    {
     "data": {
      "text/plain": [
       "0"
      ]
     },
     "execution_count": 272,
     "metadata": {},
     "output_type": "execute_result"
    }
   ],
   "source": [
    "df.duplicated().sum()"
   ]
  },
  {
   "cell_type": "code",
   "execution_count": 273,
   "metadata": {},
   "outputs": [
    {
     "data": {
      "text/plain": [
       "Index(['Size (sq ft)', 'Bedrooms', 'Bathrooms', 'Floors', 'Age (Years)',\n",
       "       'City', 'Price'],\n",
       "      dtype='object')"
      ]
     },
     "execution_count": 273,
     "metadata": {},
     "output_type": "execute_result"
    }
   ],
   "source": [
    "df.columns"
   ]
  },
  {
   "cell_type": "markdown",
   "metadata": {},
   "source": [
    "<h4>Handling missing values</h4>"
   ]
  },
  {
   "cell_type": "code",
   "execution_count": 274,
   "metadata": {},
   "outputs": [
    {
     "data": {
      "text/plain": [
       "Size (sq ft)    5\n",
       "Bedrooms        5\n",
       "Bathrooms       4\n",
       "Floors          4\n",
       "Age (Years)     3\n",
       "City            1\n",
       "Price           2\n",
       "dtype: int64"
      ]
     },
     "execution_count": 274,
     "metadata": {},
     "output_type": "execute_result"
    }
   ],
   "source": [
    "df.isna().sum()"
   ]
  },
  {
   "cell_type": "code",
   "execution_count": 275,
   "metadata": {},
   "outputs": [
    {
     "data": {
      "application/vnd.microsoft.datawrangler.viewer.v0+json": {
       "columns": [
        {
         "name": "index",
         "rawType": "int64",
         "type": "integer"
        },
        {
         "name": "Size (sq ft)",
         "rawType": "float64",
         "type": "float"
        },
        {
         "name": "Bedrooms",
         "rawType": "float64",
         "type": "float"
        },
        {
         "name": "Bathrooms",
         "rawType": "float64",
         "type": "float"
        },
        {
         "name": "Floors",
         "rawType": "float64",
         "type": "float"
        },
        {
         "name": "Age (Years)",
         "rawType": "float64",
         "type": "float"
        },
        {
         "name": "City",
         "rawType": "category",
         "type": "unknown"
        },
        {
         "name": "Price",
         "rawType": "float64",
         "type": "float"
        }
       ],
       "conversionMethod": "pd.DataFrame",
       "ref": "9ae4cb42-2e66-4013-bec6-814fcc177471",
       "rows": [
        [
         "25",
         null,
         "5.0",
         "1.0",
         "2.0",
         "18.0",
         "Chicago",
         "527000.0"
        ],
        [
         "26",
         "1900.0",
         null,
         "2.0",
         "1.0",
         "22.0",
         "Los Angeles",
         "689435.0"
        ],
        [
         "27",
         "3500.0",
         "2.0",
         null,
         "2.0",
         "33.0",
         "New York",
         "923654.0"
        ],
        [
         "28",
         "2100.0",
         "4.0",
         "3.0",
         null,
         "41.0",
         "San Francisco",
         "598742.0"
        ],
        [
         "29",
         "3950.0",
         "1.0",
         "1.0",
         "2.0",
         null,
         "Chicago",
         "782611.0"
        ],
        [
         "30",
         "2770.0",
         "3.0",
         "2.0",
         "1.0",
         "17.0",
         null,
         "674128.0"
        ],
        [
         "31",
         "3675.0",
         "5.0",
         "3.0",
         "2.0",
         "28.0",
         "New York",
         null
        ],
        [
         "36",
         "1785.0",
         "2.0",
         null,
         "1.0",
         "19.0",
         "Chicago",
         "682455.0"
        ],
        [
         "37",
         null,
         "1.0",
         "1.0",
         "2.0",
         "8.0",
         "San Francisco",
         "416789.0"
        ],
        [
         "38",
         "1980.0",
         "4.0",
         "2.0",
         "1.0",
         "37.0",
         "Los Angeles",
         null
        ],
        [
         "39",
         "2155.0",
         null,
         "3.0",
         "2.0",
         "29.0",
         "Chicago",
         "745662.0"
        ],
        [
         "41",
         null,
         "2.0",
         "2.0",
         "1.0",
         "22.0",
         "San Francisco",
         "562781.0"
        ],
        [
         "44",
         "1400.0",
         "2.0",
         "1.0",
         null,
         "15.0",
         "San Francisco",
         "468910.0"
        ],
        [
         "45",
         "2950.0",
         null,
         "3.0",
         "2.0",
         "21.0",
         "Los Angeles",
         "874563.0"
        ],
        [
         "51",
         "3200.0",
         null,
         "2.0",
         "2.0",
         "27.0",
         "Los Angeles",
         "835221.0"
        ],
        [
         "54",
         "1895.0",
         "4.0",
         "3.0",
         "2.0",
         null,
         "New York",
         "731145.0"
        ],
        [
         "56",
         "3800.0",
         "3.0",
         null,
         "2.0",
         "42.0",
         "San Francisco",
         "594112.0"
        ],
        [
         "57",
         null,
         "1.0",
         "2.0",
         "1.0",
         "20.0",
         "Chicago",
         "652881.0"
        ],
        [
         "58",
         "2910.0",
         "5.0",
         "1.0",
         null,
         "17.0",
         "Los Angeles",
         "748569.0"
        ],
        [
         "62",
         "3756.0",
         "4.0",
         "2.0",
         "2.0",
         null,
         "San Francisco",
         "837644.0"
        ],
        [
         "63",
         "2895.0",
         null,
         "2.0",
         "1.0",
         "25.0",
         "Chicago",
         "596217.0"
        ],
        [
         "68",
         "3420.0",
         "2.0",
         null,
         "1.0",
         "29.0",
         "San Francisco",
         "835760.0"
        ],
        [
         "70",
         "2800.0",
         "3.0",
         "2.0",
         null,
         "35.0",
         "New York",
         "548239.0"
        ],
        [
         "80",
         null,
         "4.0",
         "3.0",
         "1.0",
         "44.0",
         "Chicago",
         "527880.0"
        ]
       ],
       "shape": {
        "columns": 7,
        "rows": 24
       }
      },
      "text/html": [
       "<div>\n",
       "<style scoped>\n",
       "    .dataframe tbody tr th:only-of-type {\n",
       "        vertical-align: middle;\n",
       "    }\n",
       "\n",
       "    .dataframe tbody tr th {\n",
       "        vertical-align: top;\n",
       "    }\n",
       "\n",
       "    .dataframe thead th {\n",
       "        text-align: right;\n",
       "    }\n",
       "</style>\n",
       "<table border=\"1\" class=\"dataframe\">\n",
       "  <thead>\n",
       "    <tr style=\"text-align: right;\">\n",
       "      <th></th>\n",
       "      <th>Size (sq ft)</th>\n",
       "      <th>Bedrooms</th>\n",
       "      <th>Bathrooms</th>\n",
       "      <th>Floors</th>\n",
       "      <th>Age (Years)</th>\n",
       "      <th>City</th>\n",
       "      <th>Price</th>\n",
       "    </tr>\n",
       "  </thead>\n",
       "  <tbody>\n",
       "    <tr>\n",
       "      <th>25</th>\n",
       "      <td>NaN</td>\n",
       "      <td>5.0</td>\n",
       "      <td>1.0</td>\n",
       "      <td>2.0</td>\n",
       "      <td>18.0</td>\n",
       "      <td>Chicago</td>\n",
       "      <td>527000.0</td>\n",
       "    </tr>\n",
       "    <tr>\n",
       "      <th>26</th>\n",
       "      <td>1900.0</td>\n",
       "      <td>NaN</td>\n",
       "      <td>2.0</td>\n",
       "      <td>1.0</td>\n",
       "      <td>22.0</td>\n",
       "      <td>Los Angeles</td>\n",
       "      <td>689435.0</td>\n",
       "    </tr>\n",
       "    <tr>\n",
       "      <th>27</th>\n",
       "      <td>3500.0</td>\n",
       "      <td>2.0</td>\n",
       "      <td>NaN</td>\n",
       "      <td>2.0</td>\n",
       "      <td>33.0</td>\n",
       "      <td>New York</td>\n",
       "      <td>923654.0</td>\n",
       "    </tr>\n",
       "    <tr>\n",
       "      <th>28</th>\n",
       "      <td>2100.0</td>\n",
       "      <td>4.0</td>\n",
       "      <td>3.0</td>\n",
       "      <td>NaN</td>\n",
       "      <td>41.0</td>\n",
       "      <td>San Francisco</td>\n",
       "      <td>598742.0</td>\n",
       "    </tr>\n",
       "    <tr>\n",
       "      <th>29</th>\n",
       "      <td>3950.0</td>\n",
       "      <td>1.0</td>\n",
       "      <td>1.0</td>\n",
       "      <td>2.0</td>\n",
       "      <td>NaN</td>\n",
       "      <td>Chicago</td>\n",
       "      <td>782611.0</td>\n",
       "    </tr>\n",
       "    <tr>\n",
       "      <th>30</th>\n",
       "      <td>2770.0</td>\n",
       "      <td>3.0</td>\n",
       "      <td>2.0</td>\n",
       "      <td>1.0</td>\n",
       "      <td>17.0</td>\n",
       "      <td>NaN</td>\n",
       "      <td>674128.0</td>\n",
       "    </tr>\n",
       "    <tr>\n",
       "      <th>31</th>\n",
       "      <td>3675.0</td>\n",
       "      <td>5.0</td>\n",
       "      <td>3.0</td>\n",
       "      <td>2.0</td>\n",
       "      <td>28.0</td>\n",
       "      <td>New York</td>\n",
       "      <td>NaN</td>\n",
       "    </tr>\n",
       "    <tr>\n",
       "      <th>36</th>\n",
       "      <td>1785.0</td>\n",
       "      <td>2.0</td>\n",
       "      <td>NaN</td>\n",
       "      <td>1.0</td>\n",
       "      <td>19.0</td>\n",
       "      <td>Chicago</td>\n",
       "      <td>682455.0</td>\n",
       "    </tr>\n",
       "    <tr>\n",
       "      <th>37</th>\n",
       "      <td>NaN</td>\n",
       "      <td>1.0</td>\n",
       "      <td>1.0</td>\n",
       "      <td>2.0</td>\n",
       "      <td>8.0</td>\n",
       "      <td>San Francisco</td>\n",
       "      <td>416789.0</td>\n",
       "    </tr>\n",
       "    <tr>\n",
       "      <th>38</th>\n",
       "      <td>1980.0</td>\n",
       "      <td>4.0</td>\n",
       "      <td>2.0</td>\n",
       "      <td>1.0</td>\n",
       "      <td>37.0</td>\n",
       "      <td>Los Angeles</td>\n",
       "      <td>NaN</td>\n",
       "    </tr>\n",
       "    <tr>\n",
       "      <th>39</th>\n",
       "      <td>2155.0</td>\n",
       "      <td>NaN</td>\n",
       "      <td>3.0</td>\n",
       "      <td>2.0</td>\n",
       "      <td>29.0</td>\n",
       "      <td>Chicago</td>\n",
       "      <td>745662.0</td>\n",
       "    </tr>\n",
       "    <tr>\n",
       "      <th>41</th>\n",
       "      <td>NaN</td>\n",
       "      <td>2.0</td>\n",
       "      <td>2.0</td>\n",
       "      <td>1.0</td>\n",
       "      <td>22.0</td>\n",
       "      <td>San Francisco</td>\n",
       "      <td>562781.0</td>\n",
       "    </tr>\n",
       "    <tr>\n",
       "      <th>44</th>\n",
       "      <td>1400.0</td>\n",
       "      <td>2.0</td>\n",
       "      <td>1.0</td>\n",
       "      <td>NaN</td>\n",
       "      <td>15.0</td>\n",
       "      <td>San Francisco</td>\n",
       "      <td>468910.0</td>\n",
       "    </tr>\n",
       "    <tr>\n",
       "      <th>45</th>\n",
       "      <td>2950.0</td>\n",
       "      <td>NaN</td>\n",
       "      <td>3.0</td>\n",
       "      <td>2.0</td>\n",
       "      <td>21.0</td>\n",
       "      <td>Los Angeles</td>\n",
       "      <td>874563.0</td>\n",
       "    </tr>\n",
       "    <tr>\n",
       "      <th>51</th>\n",
       "      <td>3200.0</td>\n",
       "      <td>NaN</td>\n",
       "      <td>2.0</td>\n",
       "      <td>2.0</td>\n",
       "      <td>27.0</td>\n",
       "      <td>Los Angeles</td>\n",
       "      <td>835221.0</td>\n",
       "    </tr>\n",
       "    <tr>\n",
       "      <th>54</th>\n",
       "      <td>1895.0</td>\n",
       "      <td>4.0</td>\n",
       "      <td>3.0</td>\n",
       "      <td>2.0</td>\n",
       "      <td>NaN</td>\n",
       "      <td>New York</td>\n",
       "      <td>731145.0</td>\n",
       "    </tr>\n",
       "    <tr>\n",
       "      <th>56</th>\n",
       "      <td>3800.0</td>\n",
       "      <td>3.0</td>\n",
       "      <td>NaN</td>\n",
       "      <td>2.0</td>\n",
       "      <td>42.0</td>\n",
       "      <td>San Francisco</td>\n",
       "      <td>594112.0</td>\n",
       "    </tr>\n",
       "    <tr>\n",
       "      <th>57</th>\n",
       "      <td>NaN</td>\n",
       "      <td>1.0</td>\n",
       "      <td>2.0</td>\n",
       "      <td>1.0</td>\n",
       "      <td>20.0</td>\n",
       "      <td>Chicago</td>\n",
       "      <td>652881.0</td>\n",
       "    </tr>\n",
       "    <tr>\n",
       "      <th>58</th>\n",
       "      <td>2910.0</td>\n",
       "      <td>5.0</td>\n",
       "      <td>1.0</td>\n",
       "      <td>NaN</td>\n",
       "      <td>17.0</td>\n",
       "      <td>Los Angeles</td>\n",
       "      <td>748569.0</td>\n",
       "    </tr>\n",
       "    <tr>\n",
       "      <th>62</th>\n",
       "      <td>3756.0</td>\n",
       "      <td>4.0</td>\n",
       "      <td>2.0</td>\n",
       "      <td>2.0</td>\n",
       "      <td>NaN</td>\n",
       "      <td>San Francisco</td>\n",
       "      <td>837644.0</td>\n",
       "    </tr>\n",
       "    <tr>\n",
       "      <th>63</th>\n",
       "      <td>2895.0</td>\n",
       "      <td>NaN</td>\n",
       "      <td>2.0</td>\n",
       "      <td>1.0</td>\n",
       "      <td>25.0</td>\n",
       "      <td>Chicago</td>\n",
       "      <td>596217.0</td>\n",
       "    </tr>\n",
       "    <tr>\n",
       "      <th>68</th>\n",
       "      <td>3420.0</td>\n",
       "      <td>2.0</td>\n",
       "      <td>NaN</td>\n",
       "      <td>1.0</td>\n",
       "      <td>29.0</td>\n",
       "      <td>San Francisco</td>\n",
       "      <td>835760.0</td>\n",
       "    </tr>\n",
       "    <tr>\n",
       "      <th>70</th>\n",
       "      <td>2800.0</td>\n",
       "      <td>3.0</td>\n",
       "      <td>2.0</td>\n",
       "      <td>NaN</td>\n",
       "      <td>35.0</td>\n",
       "      <td>New York</td>\n",
       "      <td>548239.0</td>\n",
       "    </tr>\n",
       "    <tr>\n",
       "      <th>80</th>\n",
       "      <td>NaN</td>\n",
       "      <td>4.0</td>\n",
       "      <td>3.0</td>\n",
       "      <td>1.0</td>\n",
       "      <td>44.0</td>\n",
       "      <td>Chicago</td>\n",
       "      <td>527880.0</td>\n",
       "    </tr>\n",
       "  </tbody>\n",
       "</table>\n",
       "</div>"
      ],
      "text/plain": [
       "    Size (sq ft)  Bedrooms  Bathrooms  Floors  Age (Years)           City  \\\n",
       "25           NaN       5.0        1.0     2.0         18.0        Chicago   \n",
       "26        1900.0       NaN        2.0     1.0         22.0    Los Angeles   \n",
       "27        3500.0       2.0        NaN     2.0         33.0       New York   \n",
       "28        2100.0       4.0        3.0     NaN         41.0  San Francisco   \n",
       "29        3950.0       1.0        1.0     2.0          NaN        Chicago   \n",
       "30        2770.0       3.0        2.0     1.0         17.0            NaN   \n",
       "31        3675.0       5.0        3.0     2.0         28.0       New York   \n",
       "36        1785.0       2.0        NaN     1.0         19.0        Chicago   \n",
       "37           NaN       1.0        1.0     2.0          8.0  San Francisco   \n",
       "38        1980.0       4.0        2.0     1.0         37.0    Los Angeles   \n",
       "39        2155.0       NaN        3.0     2.0         29.0        Chicago   \n",
       "41           NaN       2.0        2.0     1.0         22.0  San Francisco   \n",
       "44        1400.0       2.0        1.0     NaN         15.0  San Francisco   \n",
       "45        2950.0       NaN        3.0     2.0         21.0    Los Angeles   \n",
       "51        3200.0       NaN        2.0     2.0         27.0    Los Angeles   \n",
       "54        1895.0       4.0        3.0     2.0          NaN       New York   \n",
       "56        3800.0       3.0        NaN     2.0         42.0  San Francisco   \n",
       "57           NaN       1.0        2.0     1.0         20.0        Chicago   \n",
       "58        2910.0       5.0        1.0     NaN         17.0    Los Angeles   \n",
       "62        3756.0       4.0        2.0     2.0          NaN  San Francisco   \n",
       "63        2895.0       NaN        2.0     1.0         25.0        Chicago   \n",
       "68        3420.0       2.0        NaN     1.0         29.0  San Francisco   \n",
       "70        2800.0       3.0        2.0     NaN         35.0       New York   \n",
       "80           NaN       4.0        3.0     1.0         44.0        Chicago   \n",
       "\n",
       "       Price  \n",
       "25  527000.0  \n",
       "26  689435.0  \n",
       "27  923654.0  \n",
       "28  598742.0  \n",
       "29  782611.0  \n",
       "30  674128.0  \n",
       "31       NaN  \n",
       "36  682455.0  \n",
       "37  416789.0  \n",
       "38       NaN  \n",
       "39  745662.0  \n",
       "41  562781.0  \n",
       "44  468910.0  \n",
       "45  874563.0  \n",
       "51  835221.0  \n",
       "54  731145.0  \n",
       "56  594112.0  \n",
       "57  652881.0  \n",
       "58  748569.0  \n",
       "62  837644.0  \n",
       "63  596217.0  \n",
       "68  835760.0  \n",
       "70  548239.0  \n",
       "80  527880.0  "
      ]
     },
     "execution_count": 275,
     "metadata": {},
     "output_type": "execute_result"
    }
   ],
   "source": [
    "rows_with_missing_values = df[df.isna().any(axis = 1)]\n",
    "rows_with_missing_values"
   ]
  },
  {
   "cell_type": "code",
   "execution_count": 276,
   "metadata": {},
   "outputs": [],
   "source": [
    "from sklearn.impute import KNNImputer\n",
    "imputer = KNNImputer(n_neighbors = 5)\n",
    "columns = ['Size (sq ft)', 'Bedrooms', 'Bathrooms', 'Floors', 'Age (Years)', 'Price']\n",
    "for i in columns:\n",
    "    df[[i]] = imputer.fit_transform(df[[i]])"
   ]
  },
  {
   "cell_type": "code",
   "execution_count": 277,
   "metadata": {},
   "outputs": [
    {
     "data": {
      "application/vnd.microsoft.datawrangler.viewer.v0+json": {
       "columns": [
        {
         "name": "index",
         "rawType": "int64",
         "type": "integer"
        },
        {
         "name": "Size (sq ft)",
         "rawType": "float64",
         "type": "float"
        },
        {
         "name": "Bedrooms",
         "rawType": "float64",
         "type": "float"
        },
        {
         "name": "Bathrooms",
         "rawType": "float64",
         "type": "float"
        },
        {
         "name": "Floors",
         "rawType": "float64",
         "type": "float"
        },
        {
         "name": "Age (Years)",
         "rawType": "float64",
         "type": "float"
        },
        {
         "name": "City",
         "rawType": "category",
         "type": "unknown"
        },
        {
         "name": "Price",
         "rawType": "float64",
         "type": "float"
        }
       ],
       "conversionMethod": "pd.DataFrame",
       "ref": "ca6ab939-6a27-4f36-aeb1-41c238e1a147",
       "rows": [
        [
         "30",
         "2770.0",
         "3.0",
         "2.0",
         "1.0",
         "17.0",
         null,
         "674128.0"
        ]
       ],
       "shape": {
        "columns": 7,
        "rows": 1
       }
      },
      "text/html": [
       "<div>\n",
       "<style scoped>\n",
       "    .dataframe tbody tr th:only-of-type {\n",
       "        vertical-align: middle;\n",
       "    }\n",
       "\n",
       "    .dataframe tbody tr th {\n",
       "        vertical-align: top;\n",
       "    }\n",
       "\n",
       "    .dataframe thead th {\n",
       "        text-align: right;\n",
       "    }\n",
       "</style>\n",
       "<table border=\"1\" class=\"dataframe\">\n",
       "  <thead>\n",
       "    <tr style=\"text-align: right;\">\n",
       "      <th></th>\n",
       "      <th>Size (sq ft)</th>\n",
       "      <th>Bedrooms</th>\n",
       "      <th>Bathrooms</th>\n",
       "      <th>Floors</th>\n",
       "      <th>Age (Years)</th>\n",
       "      <th>City</th>\n",
       "      <th>Price</th>\n",
       "    </tr>\n",
       "  </thead>\n",
       "  <tbody>\n",
       "    <tr>\n",
       "      <th>30</th>\n",
       "      <td>2770.0</td>\n",
       "      <td>3.0</td>\n",
       "      <td>2.0</td>\n",
       "      <td>1.0</td>\n",
       "      <td>17.0</td>\n",
       "      <td>NaN</td>\n",
       "      <td>674128.0</td>\n",
       "    </tr>\n",
       "  </tbody>\n",
       "</table>\n",
       "</div>"
      ],
      "text/plain": [
       "    Size (sq ft)  Bedrooms  Bathrooms  Floors  Age (Years) City     Price\n",
       "30        2770.0       3.0        2.0     1.0         17.0  NaN  674128.0"
      ]
     },
     "execution_count": 277,
     "metadata": {},
     "output_type": "execute_result"
    }
   ],
   "source": [
    "rows_with_missing_values = df[df.isna().any(axis = 1)]\n",
    "rows_with_missing_values"
   ]
  },
  {
   "cell_type": "code",
   "execution_count": 278,
   "metadata": {},
   "outputs": [],
   "source": [
    "from sklearn.impute import SimpleImputer\n",
    "imputer = SimpleImputer(strategy = 'most_frequent')\n",
    "columns = ['City']\n",
    "for i in columns:\n",
    "    df[[i]] = imputer.fit_transform(df[[i]])"
   ]
  },
  {
   "cell_type": "code",
   "execution_count": 279,
   "metadata": {},
   "outputs": [
    {
     "data": {
      "text/plain": [
       "Size (sq ft)    0\n",
       "Bedrooms        0\n",
       "Bathrooms       0\n",
       "Floors          0\n",
       "Age (Years)     0\n",
       "City            0\n",
       "Price           0\n",
       "dtype: int64"
      ]
     },
     "execution_count": 279,
     "metadata": {},
     "output_type": "execute_result"
    }
   ],
   "source": [
    "df.isnull().sum()"
   ]
  },
  {
   "cell_type": "markdown",
   "metadata": {},
   "source": [
    "<h4> Outlier Detection </h4>"
   ]
  },
  {
   "cell_type": "code",
   "execution_count": 280,
   "metadata": {},
   "outputs": [
    {
     "data": {
      "image/png": "[encoded data removed]",
      "text/plain": [
       "<Figure size 3000x2500 with 6 Axes>"
      ]
     },
     "metadata": {},
     "output_type": "display_data"
    }
   ],
   "source": [
    "import seaborn as sns\n",
    "columns = ['Size (sq ft)', 'Bedrooms', 'Bathrooms', 'Floors', 'Age (Years)', 'Price']\n",
    "fig, axes = plt.subplots(3, 2, figsize = (30, 25))\n",
    "axes = axes.flatten()\n",
    "for i, j in enumerate(columns):\n",
    "    sns.boxplot(x = df[j], ax = axes[i])\n",
    "    axes[i].set_title(f\"Box Plot of {j} (before)\")\n"
   ]
  },
  {
   "cell_type": "code",
   "execution_count": 281,
   "metadata": {},
   "outputs": [],
   "source": [
    "numeric_df = df.select_dtypes(include = ['float64'])\n",
    "q1 = numeric_df.quantile(0.25)\n",
    "q3 = numeric_df.quantile(0.75)\n",
    "\n",
    "iqr = q3 - q1\n",
    "\n",
    "ub = q3 + 1.5 * iqr\n",
    "lb = q1 - 1.5 * iqr\n",
    "\n",
    "new_df = df[~((numeric_df < lb) | (numeric_df > ub)).any(axis=1)]"
   ]
  },
  {
   "cell_type": "code",
   "execution_count": 320,
   "metadata": {},
   "outputs": [
    {
     "data": {
      "image/png": "[encoded data removed]",
      "text/plain": [
       "<Figure size 3000x1500 with 6 Axes>"
      ]
     },
     "metadata": {},
     "output_type": "display_data"
    }
   ],
   "source": [
    "import seaborn as sns\n",
    "columns = ['Size (sq ft)', 'Bedrooms', 'Bathrooms', 'Floors', 'Age (Years)', 'Price']\n",
    "fig, axes = plt.subplots(2, 3, figsize = (30, 15))\n",
    "axes = axes.flatten()\n",
    "for i, j in enumerate(columns):\n",
    "    sns.boxplot(x = new_df[j], ax = axes[i])\n",
    "    axes[i].set_title(f\"Box Plot of {j} (after)\")\n"
   ]
  },
  {
   "cell_type": "markdown",
   "metadata": {},
   "source": [
    "<h4> Handling Categorical Data</h4>"
   ]
  },
  {
   "cell_type": "code",
   "execution_count": 283,
   "metadata": {},
   "outputs": [
    {
     "data": {
      "text/plain": [
       "Index(['City'], dtype='object')"
      ]
     },
     "execution_count": 283,
     "metadata": {},
     "output_type": "execute_result"
    }
   ],
   "source": [
    "new_df.select_dtypes(include = ['object', 'category']).columns"
   ]
  },
  {
   "cell_type": "code",
   "execution_count": 284,
   "metadata": {},
   "outputs": [
    {
     "data": {
      "text/plain": [
       "array(['San Francisco', 'Chicago', 'Los Angeles', 'New York'],\n",
       "      dtype=object)"
      ]
     },
     "execution_count": 284,
     "metadata": {},
     "output_type": "execute_result"
    }
   ],
   "source": [
    "new_df['City'].unique()"
   ]
  },
  {
   "cell_type": "code",
   "execution_count": 285,
   "metadata": {},
   "outputs": [
    {
     "data": {
      "text/plain": [
       "5"
      ]
     },
     "execution_count": 285,
     "metadata": {},
     "output_type": "execute_result"
    }
   ],
   "source": [
    "city_index = list(new_df.columns).index('City')\n",
    "city_index"
   ]
  },
  {
   "cell_type": "code",
   "execution_count": 286,
   "metadata": {},
   "outputs": [],
   "source": [
    "from sklearn.preprocessing import LabelEncoder\n",
    "encoder = LabelEncoder()\n",
    "new_df.iloc[:, city_index] = encoder.fit_transform(new_df.iloc[:, city_index].astype(str))"
   ]
  },
  {
   "cell_type": "code",
   "execution_count": 297,
   "metadata": {},
   "outputs": [],
   "source": [
    "x = new_df.iloc[:, :-1].values\n",
    "y = new_df.iloc[:, -1].values"
   ]
  },
  {
   "cell_type": "code",
   "execution_count": 298,
   "metadata": {},
   "outputs": [],
   "source": [
    "from sklearn.model_selection import train_test_split\n",
    "X_train, X_test, y_train, y_test = train_test_split(x, y, test_size = 1/3, random_state = 1)"
   ]
  },
  {
   "cell_type": "markdown",
   "metadata": {},
   "source": [
    "<h4> Feature Scaling </h4>"
   ]
  },
  {
   "cell_type": "code",
   "execution_count": 299,
   "metadata": {},
   "outputs": [],
   "source": [
    "from sklearn.preprocessing import StandardScaler\n",
    "scaler = StandardScaler()\n",
    "X_train = scaler.fit_transform(X_train)\n",
    "X_test = scaler.transform(X_test)"
   ]
  },
  {
   "cell_type": "code",
   "execution_count": 307,
   "metadata": {},
   "outputs": [
    {
     "name": "stdout",
     "output_type": "stream",
     "text": [
      "[[-1.71667766 -0.79705274 -1.48625749 -0.09759462 -1.06561599  1.41927995]\n",
      " [-1.20548157  0.01549858 -1.48625749 -0.94223166 -0.43284922 -0.28887999]\n",
      " [ 0.29197501  0.01549858 -1.48625749 -0.94223166 -0.25205872 -1.14295996]\n",
      " [ 0.15815405 -1.60960407  1.10451455  1.10902973 -1.6079875   1.41927995]\n",
      " [ 1.36254273  0.8280499  -0.19087147  1.10902973  1.10387006 -1.14295996]\n",
      " [ 1.428115   -0.79705274  1.10451455 -0.94223166 -1.6079875  -0.28887999]\n",
      " [ 0.06314117  1.64060122 -0.19087147 -0.94223166 -0.07126822 -1.14295996]\n",
      " [ 0.08624847  1.64060122 -1.48625749  1.10902973 -0.79443023 -1.14295996]\n",
      " [-1.20146694 -0.79705274 -0.17817161 -0.94223166 -0.70403498 -1.14295996]\n",
      " [ 0.23710842  0.01549858 -0.19087147 -0.94223166 -0.88482548 -0.28887999]] \n",
      "\n",
      "[[ 1.77738771 -1.60960407  1.10451455  1.10902973  1.64624157 -0.28887999]\n",
      " [ 1.21266325  0.8280499  -1.48625749  1.10902973  1.01347481 -0.28887999]\n",
      " [ 0.08624847 -0.79705274 -0.19087147 -0.94223166 -0.43284922  1.41927995]\n",
      " [ 0.37895864  0.8280499  -0.19087147 -0.94223166  1.19426531  1.41927995]\n",
      " [-0.91375187  0.01549858 -1.48625749 -0.94223166  0.29031279 -1.14295996]\n",
      " [ 0.25049052  0.01549858 -1.48625749 -0.94223166 -1.33680175  0.56519998]\n",
      " [ 1.09356259  0.01549858 -1.48625749 -0.94223166 -1.24640649 -1.14295996]\n",
      " [ 0.15949226  0.01549858 -1.48625749 -0.94223166 -0.43284922 -1.14295996]\n",
      " [-0.99404445  0.8280499   1.10451455 -0.94223166 -0.70403498 -0.28887999]\n",
      " [ 1.49502548  0.01549858 -0.17817161  1.10902973  1.37505582  1.41927995]], \n",
      "\n",
      "[468910. 548790. 584310. 729900. 683122. 878900. 654321. 527000. 682455.\n",
      " 650730.] \n",
      "\n",
      "[699312. 821044. 562781. 873600. 692150. 599412. 588000. 582311. 761200.\n",
      " 594112.]\n"
     ]
    }
   ],
   "source": [
    "print(f\"{X_train[:10]} \\n\\n{X_test[:10]}, \\n\\n{y_train[:10]} \\n\\n{y_test[:10]}\")"
   ]
  }
 ],
 "metadata": {
  "kernelspec": {
   "display_name": "base",
   "language": "python",
   "name": "python3"
  },
  "language_info": {
   "codemirror_mode": {
    "name": "ipython",
    "version": 3
   },
   "file_extension": ".py",
   "mimetype": "text/x-python",
   "name": "python",
   "nbconvert_exporter": "python",
   "pygments_lexer": "ipython3",
   "version": "3.11.7"
  }
 },
 "nbformat": 4,
 "nbformat_minor": 2
}
