{
 "cells": [
  {
   "cell_type": "code",
   "execution_count": 1,
   "metadata": {},
   "outputs": [],
   "source": [
    "import numpy as np\n",
    "import pandas as pd\n",
    "import matplotlib.pyplot as plt\n"
   ]
  },
  {
   "cell_type": "code",
   "execution_count": 2,
   "metadata": {},
   "outputs": [],
   "source": [
    "path = r\"C:\\Users\\gagan\\Desktop\\Mission Robosoft\\Datasets\\crop_yield.csv\"\n",
    "df = pd.read_csv(path)"
   ]
  },
  {
   "cell_type": "code",
   "execution_count": null,
   "metadata": {},
   "outputs": [
    {
     "data": {
      "application/vnd.microsoft.datawrangler.viewer.v0+json": {
       "columns": [
        {
         "name": "index",
         "rawType": "int64",
         "type": "integer"
        },
        {
         "name": "Crop",
         "rawType": "object",
         "type": "string"
        },
        {
         "name": "Crop_Year",
         "rawType": "int64",
         "type": "integer"
        },
        {
         "name": "Season",
         "rawType": "object",
         "type": "string"
        },
        {
         "name": "State",
         "rawType": "object",
         "type": "string"
        }
       ],
       "conversionMethod": "pd.DataFrame",
       "ref": "cee07bb7-719a-4335-852d-0cc92a8e8d0d",
       "rows": [
        [
         "0",
         "Arecanut",
         "1997",
         "Whole Year ",
         "Assam"
        ],
        [
         "1",
         "Arhar/Tur",
         "1997",
         "Kharif     ",
         "Assam"
        ],
        [
         "2",
         "Castor seed",
         "1997",
         "Kharif     ",
         "Assam"
        ],
        [
         "3",
         "Coconut ",
         "1997",
         "Whole Year ",
         "Assam"
        ],
        [
         "4",
         "Cotton(lint)",
         "1997",
         "Kharif     ",
         "Assam"
        ]
       ],
       "shape": {
        "columns": 4,
        "rows": 5
       }
      },
      "text/html": [
       "<div>\n",
       "<style scoped>\n",
       "    .dataframe tbody tr th:only-of-type {\n",
       "        vertical-align: middle;\n",
       "    }\n",
       "\n",
       "    .dataframe tbody tr th {\n",
       "        vertical-align: top;\n",
       "    }\n",
       "\n",
       "    .dataframe thead th {\n",
       "        text-align: right;\n",
       "    }\n",
       "</style>\n",
       "<table border=\"1\" class=\"dataframe\">\n",
       "  <thead>\n",
       "    <tr style=\"text-align: right;\">\n",
       "      <th></th>\n",
       "      <th>Crop</th>\n",
       "      <th>Crop_Year</th>\n",
       "      <th>Season</th>\n",
       "      <th>State</th>\n",
       "    </tr>\n",
       "  </thead>\n",
       "  <tbody>\n",
       "    <tr>\n",
       "      <th>0</th>\n",
       "      <td>Arecanut</td>\n",
       "      <td>1997</td>\n",
       "      <td>Whole Year</td>\n",
       "      <td>Assam</td>\n",
       "    </tr>\n",
       "    <tr>\n",
       "      <th>1</th>\n",
       "      <td>Arhar/Tur</td>\n",
       "      <td>1997</td>\n",
       "      <td>Kharif</td>\n",
       "      <td>Assam</td>\n",
       "    </tr>\n",
       "    <tr>\n",
       "      <th>2</th>\n",
       "      <td>Castor seed</td>\n",
       "      <td>1997</td>\n",
       "      <td>Kharif</td>\n",
       "      <td>Assam</td>\n",
       "    </tr>\n",
       "    <tr>\n",
       "      <th>3</th>\n",
       "      <td>Coconut</td>\n",
       "      <td>1997</td>\n",
       "      <td>Whole Year</td>\n",
       "      <td>Assam</td>\n",
       "    </tr>\n",
       "    <tr>\n",
       "      <th>4</th>\n",
       "      <td>Cotton(lint)</td>\n",
       "      <td>1997</td>\n",
       "      <td>Kharif</td>\n",
       "      <td>Assam</td>\n",
       "    </tr>\n",
       "  </tbody>\n",
       "</table>\n",
       "</div>"
      ],
      "text/plain": [
       "           Crop  Crop_Year       Season  State\n",
       "0      Arecanut       1997  Whole Year   Assam\n",
       "1     Arhar/Tur       1997  Kharif       Assam\n",
       "2   Castor seed       1997  Kharif       Assam\n",
       "3      Coconut        1997  Whole Year   Assam\n",
       "4  Cotton(lint)       1997  Kharif       Assam"
      ]
     },
     "execution_count": 5,
     "metadata": {},
     "output_type": "execute_result"
    }
   ],
   "source": [
    "df.iloc[:, :4].head(5)"
   ]
  },
  {
   "cell_type": "code",
   "execution_count": null,
   "metadata": {},
   "outputs": [
    {
     "data": {
      "application/vnd.microsoft.datawrangler.viewer.v0+json": {
       "columns": [
        {
         "name": "index",
         "rawType": "int64",
         "type": "integer"
        },
        {
         "name": "Area",
         "rawType": "float64",
         "type": "float"
        },
        {
         "name": "Production",
         "rawType": "int64",
         "type": "integer"
        },
        {
         "name": "Annual_Rainfall",
         "rawType": "float64",
         "type": "float"
        },
        {
         "name": "Fertilizer",
         "rawType": "float64",
         "type": "float"
        }
       ],
       "conversionMethod": "pd.DataFrame",
       "ref": "770d5d56-6073-4862-8c08-5d9e1e6ce7fb",
       "rows": [
        [
         "0",
         "73814.0",
         "56708",
         "2051.4",
         "7024878.38"
        ],
        [
         "1",
         "6637.0",
         "4685",
         "2051.4",
         "631643.29"
        ],
        [
         "2",
         "796.0",
         "22",
         "2051.4",
         "75755.32"
        ],
        [
         "3",
         "19656.0",
         "126905000",
         "2051.4",
         "1870661.52"
        ],
        [
         "4",
         "1739.0",
         "794",
         "2051.4",
         "165500.63"
        ]
       ],
       "shape": {
        "columns": 4,
        "rows": 5
       }
      },
      "text/html": [
       "<div>\n",
       "<style scoped>\n",
       "    .dataframe tbody tr th:only-of-type {\n",
       "        vertical-align: middle;\n",
       "    }\n",
       "\n",
       "    .dataframe tbody tr th {\n",
       "        vertical-align: top;\n",
       "    }\n",
       "\n",
       "    .dataframe thead th {\n",
       "        text-align: right;\n",
       "    }\n",
       "</style>\n",
       "<table border=\"1\" class=\"dataframe\">\n",
       "  <thead>\n",
       "    <tr style=\"text-align: right;\">\n",
       "      <th></th>\n",
       "      <th>Area</th>\n",
       "      <th>Production</th>\n",
       "      <th>Annual_Rainfall</th>\n",
       "      <th>Fertilizer</th>\n",
       "    </tr>\n",
       "  </thead>\n",
       "  <tbody>\n",
       "    <tr>\n",
       "      <th>0</th>\n",
       "      <td>73814.0</td>\n",
       "      <td>56708</td>\n",
       "      <td>2051.4</td>\n",
       "      <td>7024878.38</td>\n",
       "    </tr>\n",
       "    <tr>\n",
       "      <th>1</th>\n",
       "      <td>6637.0</td>\n",
       "      <td>4685</td>\n",
       "      <td>2051.4</td>\n",
       "      <td>631643.29</td>\n",
       "    </tr>\n",
       "    <tr>\n",
       "      <th>2</th>\n",
       "      <td>796.0</td>\n",
       "      <td>22</td>\n",
       "      <td>2051.4</td>\n",
       "      <td>75755.32</td>\n",
       "    </tr>\n",
       "    <tr>\n",
       "      <th>3</th>\n",
       "      <td>19656.0</td>\n",
       "      <td>126905000</td>\n",
       "      <td>2051.4</td>\n",
       "      <td>1870661.52</td>\n",
       "    </tr>\n",
       "    <tr>\n",
       "      <th>4</th>\n",
       "      <td>1739.0</td>\n",
       "      <td>794</td>\n",
       "      <td>2051.4</td>\n",
       "      <td>165500.63</td>\n",
       "    </tr>\n",
       "  </tbody>\n",
       "</table>\n",
       "</div>"
      ],
      "text/plain": [
       "      Area  Production  Annual_Rainfall  Fertilizer\n",
       "0  73814.0       56708           2051.4  7024878.38\n",
       "1   6637.0        4685           2051.4   631643.29\n",
       "2    796.0          22           2051.4    75755.32\n",
       "3  19656.0   126905000           2051.4  1870661.52\n",
       "4   1739.0         794           2051.4   165500.63"
      ]
     },
     "execution_count": 6,
     "metadata": {},
     "output_type": "execute_result"
    }
   ],
   "source": [
    "df.iloc[:, 4:8].head(5)"
   ]
  },
  {
   "cell_type": "code",
   "execution_count": 8,
   "metadata": {},
   "outputs": [
    {
     "data": {
      "application/vnd.microsoft.datawrangler.viewer.v0+json": {
       "columns": [
        {
         "name": "index",
         "rawType": "int64",
         "type": "integer"
        },
        {
         "name": "Pesticide",
         "rawType": "float64",
         "type": "float"
        },
        {
         "name": "Yield",
         "rawType": "float64",
         "type": "float"
        }
       ],
       "conversionMethod": "pd.DataFrame",
       "ref": "79fd306d-5b74-41b1-a259-d97c3e0996f6",
       "rows": [
        [
         "0",
         "22882.34",
         "0.796086957"
        ],
        [
         "1",
         "2057.47",
         "0.710434783"
        ],
        [
         "2",
         "246.76",
         "0.238333333"
        ],
        [
         "3",
         "6093.36",
         "5238.051739"
        ],
        [
         "4",
         "539.09",
         "0.420909091"
        ]
       ],
       "shape": {
        "columns": 2,
        "rows": 5
       }
      },
      "text/html": [
       "<div>\n",
       "<style scoped>\n",
       "    .dataframe tbody tr th:only-of-type {\n",
       "        vertical-align: middle;\n",
       "    }\n",
       "\n",
       "    .dataframe tbody tr th {\n",
       "        vertical-align: top;\n",
       "    }\n",
       "\n",
       "    .dataframe thead th {\n",
       "        text-align: right;\n",
       "    }\n",
       "</style>\n",
       "<table border=\"1\" class=\"dataframe\">\n",
       "  <thead>\n",
       "    <tr style=\"text-align: right;\">\n",
       "      <th></th>\n",
       "      <th>Pesticide</th>\n",
       "      <th>Yield</th>\n",
       "    </tr>\n",
       "  </thead>\n",
       "  <tbody>\n",
       "    <tr>\n",
       "      <th>0</th>\n",
       "      <td>22882.34</td>\n",
       "      <td>0.796087</td>\n",
       "    </tr>\n",
       "    <tr>\n",
       "      <th>1</th>\n",
       "      <td>2057.47</td>\n",
       "      <td>0.710435</td>\n",
       "    </tr>\n",
       "    <tr>\n",
       "      <th>2</th>\n",
       "      <td>246.76</td>\n",
       "      <td>0.238333</td>\n",
       "    </tr>\n",
       "    <tr>\n",
       "      <th>3</th>\n",
       "      <td>6093.36</td>\n",
       "      <td>5238.051739</td>\n",
       "    </tr>\n",
       "    <tr>\n",
       "      <th>4</th>\n",
       "      <td>539.09</td>\n",
       "      <td>0.420909</td>\n",
       "    </tr>\n",
       "  </tbody>\n",
       "</table>\n",
       "</div>"
      ],
      "text/plain": [
       "   Pesticide        Yield\n",
       "0   22882.34     0.796087\n",
       "1    2057.47     0.710435\n",
       "2     246.76     0.238333\n",
       "3    6093.36  5238.051739\n",
       "4     539.09     0.420909"
      ]
     },
     "execution_count": 8,
     "metadata": {},
     "output_type": "execute_result"
    }
   ],
   "source": [
    "df.iloc[:, 8:].head(5)"
   ]
  },
  {
   "cell_type": "code",
   "execution_count": 9,
   "metadata": {},
   "outputs": [
    {
     "data": {
      "text/plain": [
       "Crop                  55\n",
       "Crop_Year             24\n",
       "Season                 6\n",
       "State                 30\n",
       "Area               13644\n",
       "Production         14016\n",
       "Annual_Rainfall      634\n",
       "Fertilizer         18598\n",
       "Pesticide          17405\n",
       "Yield              13551\n",
       "dtype: int64"
      ]
     },
     "execution_count": 9,
     "metadata": {},
     "output_type": "execute_result"
    }
   ],
   "source": [
    "df.nunique()"
   ]
  },
  {
   "cell_type": "code",
   "execution_count": 11,
   "metadata": {},
   "outputs": [
    {
     "data": {
      "text/plain": [
       "0"
      ]
     },
     "execution_count": 11,
     "metadata": {},
     "output_type": "execute_result"
    }
   ],
   "source": [
    "df.duplicated().sum()"
   ]
  },
  {
   "cell_type": "code",
   "execution_count": 12,
   "metadata": {},
   "outputs": [
    {
     "data": {
      "text/plain": [
       "Crop               0\n",
       "Crop_Year          0\n",
       "Season             0\n",
       "State              0\n",
       "Area               0\n",
       "Production         0\n",
       "Annual_Rainfall    0\n",
       "Fertilizer         0\n",
       "Pesticide          0\n",
       "Yield              0\n",
       "dtype: int64"
      ]
     },
     "execution_count": 12,
     "metadata": {},
     "output_type": "execute_result"
    }
   ],
   "source": [
    "df.isnull().sum()"
   ]
  },
  {
   "cell_type": "code",
   "execution_count": 13,
   "metadata": {},
   "outputs": [
    {
     "data": {
      "application/vnd.microsoft.datawrangler.viewer.v0+json": {
       "columns": [
        {
         "name": "index",
         "rawType": "object",
         "type": "string"
        },
        {
         "name": "Crop_Year",
         "rawType": "float64",
         "type": "float"
        },
        {
         "name": "Area",
         "rawType": "float64",
         "type": "float"
        },
        {
         "name": "Production",
         "rawType": "float64",
         "type": "float"
        },
        {
         "name": "Annual_Rainfall",
         "rawType": "float64",
         "type": "float"
        },
        {
         "name": "Fertilizer",
         "rawType": "float64",
         "type": "float"
        },
        {
         "name": "Pesticide",
         "rawType": "float64",
         "type": "float"
        },
        {
         "name": "Yield",
         "rawType": "float64",
         "type": "float"
        }
       ],
       "conversionMethod": "pd.DataFrame",
       "ref": "1dcc51d6-bd22-4953-a39a-58d0e62a7a39",
       "rows": [
        [
         "count",
         "19689.0",
         "19689.0",
         "19689.0",
         "19689.0",
         "19689.0",
         "19689.0",
         "19689.0"
        ],
        [
         "mean",
         "2009.1275839301134",
         "179926.57030814158",
         "16435941.273096653",
         "1437.7551766159684",
         "24103312.448805965",
         "48848.353392009245",
         "79.95400913008669"
        ],
        [
         "std",
         "6.498098951393112",
         "732828.6758877125",
         "263056839.81256697",
         "816.9095887579965",
         "94946004.48252656",
         "213287.35485950537",
         "878.3061926565939"
        ],
        [
         "min",
         "1997.0",
         "0.5",
         "0.0",
         "301.3",
         "54.17",
         "0.09",
         "0.0"
        ],
        [
         "25%",
         "2004.0",
         "1390.0",
         "1393.0",
         "940.7",
         "188014.62",
         "356.7",
         "0.6"
        ],
        [
         "50%",
         "2010.0",
         "9317.0",
         "13804.0",
         "1247.6",
         "1234957.44",
         "2421.9",
         "1.03"
        ],
        [
         "75%",
         "2015.0",
         "75112.0",
         "122718.0",
         "1643.7",
         "10003847.2",
         "20041.7",
         "2.388888889"
        ],
        [
         "max",
         "2020.0",
         "50808100.0",
         "6326000000.0",
         "6552.7",
         "4835406877.0",
         "15750511.0",
         "21105.0"
        ]
       ],
       "shape": {
        "columns": 7,
        "rows": 8
       }
      },
      "text/html": [
       "<div>\n",
       "<style scoped>\n",
       "    .dataframe tbody tr th:only-of-type {\n",
       "        vertical-align: middle;\n",
       "    }\n",
       "\n",
       "    .dataframe tbody tr th {\n",
       "        vertical-align: top;\n",
       "    }\n",
       "\n",
       "    .dataframe thead th {\n",
       "        text-align: right;\n",
       "    }\n",
       "</style>\n",
       "<table border=\"1\" class=\"dataframe\">\n",
       "  <thead>\n",
       "    <tr style=\"text-align: right;\">\n",
       "      <th></th>\n",
       "      <th>Crop_Year</th>\n",
       "      <th>Area</th>\n",
       "      <th>Production</th>\n",
       "      <th>Annual_Rainfall</th>\n",
       "      <th>Fertilizer</th>\n",
       "      <th>Pesticide</th>\n",
       "      <th>Yield</th>\n",
       "    </tr>\n",
       "  </thead>\n",
       "  <tbody>\n",
       "    <tr>\n",
       "      <th>count</th>\n",
       "      <td>19689.000000</td>\n",
       "      <td>1.968900e+04</td>\n",
       "      <td>1.968900e+04</td>\n",
       "      <td>19689.000000</td>\n",
       "      <td>1.968900e+04</td>\n",
       "      <td>1.968900e+04</td>\n",
       "      <td>19689.000000</td>\n",
       "    </tr>\n",
       "    <tr>\n",
       "      <th>mean</th>\n",
       "      <td>2009.127584</td>\n",
       "      <td>1.799266e+05</td>\n",
       "      <td>1.643594e+07</td>\n",
       "      <td>1437.755177</td>\n",
       "      <td>2.410331e+07</td>\n",
       "      <td>4.884835e+04</td>\n",
       "      <td>79.954009</td>\n",
       "    </tr>\n",
       "    <tr>\n",
       "      <th>std</th>\n",
       "      <td>6.498099</td>\n",
       "      <td>7.328287e+05</td>\n",
       "      <td>2.630568e+08</td>\n",
       "      <td>816.909589</td>\n",
       "      <td>9.494600e+07</td>\n",
       "      <td>2.132874e+05</td>\n",
       "      <td>878.306193</td>\n",
       "    </tr>\n",
       "    <tr>\n",
       "      <th>min</th>\n",
       "      <td>1997.000000</td>\n",
       "      <td>5.000000e-01</td>\n",
       "      <td>0.000000e+00</td>\n",
       "      <td>301.300000</td>\n",
       "      <td>5.417000e+01</td>\n",
       "      <td>9.000000e-02</td>\n",
       "      <td>0.000000</td>\n",
       "    </tr>\n",
       "    <tr>\n",
       "      <th>25%</th>\n",
       "      <td>2004.000000</td>\n",
       "      <td>1.390000e+03</td>\n",
       "      <td>1.393000e+03</td>\n",
       "      <td>940.700000</td>\n",
       "      <td>1.880146e+05</td>\n",
       "      <td>3.567000e+02</td>\n",
       "      <td>0.600000</td>\n",
       "    </tr>\n",
       "    <tr>\n",
       "      <th>50%</th>\n",
       "      <td>2010.000000</td>\n",
       "      <td>9.317000e+03</td>\n",
       "      <td>1.380400e+04</td>\n",
       "      <td>1247.600000</td>\n",
       "      <td>1.234957e+06</td>\n",
       "      <td>2.421900e+03</td>\n",
       "      <td>1.030000</td>\n",
       "    </tr>\n",
       "    <tr>\n",
       "      <th>75%</th>\n",
       "      <td>2015.000000</td>\n",
       "      <td>7.511200e+04</td>\n",
       "      <td>1.227180e+05</td>\n",
       "      <td>1643.700000</td>\n",
       "      <td>1.000385e+07</td>\n",
       "      <td>2.004170e+04</td>\n",
       "      <td>2.388889</td>\n",
       "    </tr>\n",
       "    <tr>\n",
       "      <th>max</th>\n",
       "      <td>2020.000000</td>\n",
       "      <td>5.080810e+07</td>\n",
       "      <td>6.326000e+09</td>\n",
       "      <td>6552.700000</td>\n",
       "      <td>4.835407e+09</td>\n",
       "      <td>1.575051e+07</td>\n",
       "      <td>21105.000000</td>\n",
       "    </tr>\n",
       "  </tbody>\n",
       "</table>\n",
       "</div>"
      ],
      "text/plain": [
       "          Crop_Year          Area    Production  Annual_Rainfall  \\\n",
       "count  19689.000000  1.968900e+04  1.968900e+04     19689.000000   \n",
       "mean    2009.127584  1.799266e+05  1.643594e+07      1437.755177   \n",
       "std        6.498099  7.328287e+05  2.630568e+08       816.909589   \n",
       "min     1997.000000  5.000000e-01  0.000000e+00       301.300000   \n",
       "25%     2004.000000  1.390000e+03  1.393000e+03       940.700000   \n",
       "50%     2010.000000  9.317000e+03  1.380400e+04      1247.600000   \n",
       "75%     2015.000000  7.511200e+04  1.227180e+05      1643.700000   \n",
       "max     2020.000000  5.080810e+07  6.326000e+09      6552.700000   \n",
       "\n",
       "         Fertilizer     Pesticide         Yield  \n",
       "count  1.968900e+04  1.968900e+04  19689.000000  \n",
       "mean   2.410331e+07  4.884835e+04     79.954009  \n",
       "std    9.494600e+07  2.132874e+05    878.306193  \n",
       "min    5.417000e+01  9.000000e-02      0.000000  \n",
       "25%    1.880146e+05  3.567000e+02      0.600000  \n",
       "50%    1.234957e+06  2.421900e+03      1.030000  \n",
       "75%    1.000385e+07  2.004170e+04      2.388889  \n",
       "max    4.835407e+09  1.575051e+07  21105.000000  "
      ]
     },
     "execution_count": 13,
     "metadata": {},
     "output_type": "execute_result"
    }
   ],
   "source": [
    "df.describe()"
   ]
  },
  {
   "cell_type": "code",
   "execution_count": 14,
   "metadata": {},
   "outputs": [
    {
     "data": {
      "application/vnd.microsoft.datawrangler.viewer.v0+json": {
       "columns": [
        {
         "name": "index",
         "rawType": "object",
         "type": "string"
        },
        {
         "name": "Crop",
         "rawType": "object",
         "type": "unknown"
        },
        {
         "name": "Season",
         "rawType": "object",
         "type": "unknown"
        },
        {
         "name": "State",
         "rawType": "object",
         "type": "unknown"
        }
       ],
       "conversionMethod": "pd.DataFrame",
       "ref": "b506ee39-a2a3-4aa0-bc93-bba497c00c96",
       "rows": [
        [
         "count",
         "19689",
         "19689",
         "19689"
        ],
        [
         "unique",
         "55",
         "6",
         "30"
        ],
        [
         "top",
         "Rice",
         "Kharif     ",
         "Karnataka"
        ],
        [
         "freq",
         "1197",
         "8232",
         "1432"
        ]
       ],
       "shape": {
        "columns": 3,
        "rows": 4
       }
      },
      "text/html": [
       "<div>\n",
       "<style scoped>\n",
       "    .dataframe tbody tr th:only-of-type {\n",
       "        vertical-align: middle;\n",
       "    }\n",
       "\n",
       "    .dataframe tbody tr th {\n",
       "        vertical-align: top;\n",
       "    }\n",
       "\n",
       "    .dataframe thead th {\n",
       "        text-align: right;\n",
       "    }\n",
       "</style>\n",
       "<table border=\"1\" class=\"dataframe\">\n",
       "  <thead>\n",
       "    <tr style=\"text-align: right;\">\n",
       "      <th></th>\n",
       "      <th>Crop</th>\n",
       "      <th>Season</th>\n",
       "      <th>State</th>\n",
       "    </tr>\n",
       "  </thead>\n",
       "  <tbody>\n",
       "    <tr>\n",
       "      <th>count</th>\n",
       "      <td>19689</td>\n",
       "      <td>19689</td>\n",
       "      <td>19689</td>\n",
       "    </tr>\n",
       "    <tr>\n",
       "      <th>unique</th>\n",
       "      <td>55</td>\n",
       "      <td>6</td>\n",
       "      <td>30</td>\n",
       "    </tr>\n",
       "    <tr>\n",
       "      <th>top</th>\n",
       "      <td>Rice</td>\n",
       "      <td>Kharif</td>\n",
       "      <td>Karnataka</td>\n",
       "    </tr>\n",
       "    <tr>\n",
       "      <th>freq</th>\n",
       "      <td>1197</td>\n",
       "      <td>8232</td>\n",
       "      <td>1432</td>\n",
       "    </tr>\n",
       "  </tbody>\n",
       "</table>\n",
       "</div>"
      ],
      "text/plain": [
       "         Crop       Season      State\n",
       "count   19689        19689      19689\n",
       "unique     55            6         30\n",
       "top      Rice  Kharif       Karnataka\n",
       "freq     1197         8232       1432"
      ]
     },
     "execution_count": 14,
     "metadata": {},
     "output_type": "execute_result"
    }
   ],
   "source": [
    "df.describe(include = 'object')"
   ]
  }
 ],
 "metadata": {
  "kernelspec": {
   "display_name": "base",
   "language": "python",
   "name": "python3"
  },
  "language_info": {
   "codemirror_mode": {
    "name": "ipython",
    "version": 3
   },
   "file_extension": ".py",
   "mimetype": "text/x-python",
   "name": "python",
   "nbconvert_exporter": "python",
   "pygments_lexer": "ipython3",
   "version": "3.11.7"
  }
 },
 "nbformat": 4,
 "nbformat_minor": 2
}
