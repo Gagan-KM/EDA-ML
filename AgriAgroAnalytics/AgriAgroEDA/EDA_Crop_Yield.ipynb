{
 "cells": [
  {
   "cell_type": "code",
   "execution_count": 140,
   "metadata": {},
   "outputs": [],
   "source": [
    "import numpy as np\n",
    "import pandas as pd\n",
    "import matplotlib.pyplot as plt\n",
    "import seaborn as sns\n",
    "import warnings \n",
    "warnings.filterwarnings(\"ignore\")"
   ]
  },
  {
   "cell_type": "code",
   "execution_count": 141,
   "metadata": {},
   "outputs": [],
   "source": [
    "path = r\"C:\\Users\\gagan\\Desktop\\Mission Robosoft\\Datasets\\crop_yield.csv\"\n",
    "df = pd.read_csv(path)"
   ]
  },
  {
   "cell_type": "code",
   "execution_count": 142,
   "metadata": {},
   "outputs": [
    {
     "data": {
      "application/vnd.microsoft.datawrangler.viewer.v0+json": {
       "columns": [
        {
         "name": "index",
         "rawType": "int64",
         "type": "integer"
        },
        {
         "name": "Crop",
         "rawType": "object",
         "type": "string"
        },
        {
         "name": "Crop_Year",
         "rawType": "int64",
         "type": "integer"
        },
        {
         "name": "Season",
         "rawType": "object",
         "type": "string"
        },
        {
         "name": "State",
         "rawType": "object",
         "type": "string"
        }
       ],
       "conversionMethod": "pd.DataFrame",
       "ref": "7c682339-a752-4a02-8702-b32bb23fcf84",
       "rows": [
        [
         "0",
         "Arecanut",
         "1997",
         "Whole Year ",
         "Assam"
        ],
        [
         "1",
         "Arhar/Tur",
         "1997",
         "Kharif     ",
         "Assam"
        ],
        [
         "2",
         "Castor seed",
         "1997",
         "Kharif     ",
         "Assam"
        ],
        [
         "3",
         "Coconut ",
         "1997",
         "Whole Year ",
         "Assam"
        ],
        [
         "4",
         "Cotton(lint)",
         "1997",
         "Kharif     ",
         "Assam"
        ]
       ],
       "shape": {
        "columns": 4,
        "rows": 5
       }
      },
      "text/html": [
       "<div>\n",
       "<style scoped>\n",
       "    .dataframe tbody tr th:only-of-type {\n",
       "        vertical-align: middle;\n",
       "    }\n",
       "\n",
       "    .dataframe tbody tr th {\n",
       "        vertical-align: top;\n",
       "    }\n",
       "\n",
       "    .dataframe thead th {\n",
       "        text-align: right;\n",
       "    }\n",
       "</style>\n",
       "<table border=\"1\" class=\"dataframe\">\n",
       "  <thead>\n",
       "    <tr style=\"text-align: right;\">\n",
       "      <th></th>\n",
       "      <th>Crop</th>\n",
       "      <th>Crop_Year</th>\n",
       "      <th>Season</th>\n",
       "      <th>State</th>\n",
       "    </tr>\n",
       "  </thead>\n",
       "  <tbody>\n",
       "    <tr>\n",
       "      <th>0</th>\n",
       "      <td>Arecanut</td>\n",
       "      <td>1997</td>\n",
       "      <td>Whole Year</td>\n",
       "      <td>Assam</td>\n",
       "    </tr>\n",
       "    <tr>\n",
       "      <th>1</th>\n",
       "      <td>Arhar/Tur</td>\n",
       "      <td>1997</td>\n",
       "      <td>Kharif</td>\n",
       "      <td>Assam</td>\n",
       "    </tr>\n",
       "    <tr>\n",
       "      <th>2</th>\n",
       "      <td>Castor seed</td>\n",
       "      <td>1997</td>\n",
       "      <td>Kharif</td>\n",
       "      <td>Assam</td>\n",
       "    </tr>\n",
       "    <tr>\n",
       "      <th>3</th>\n",
       "      <td>Coconut</td>\n",
       "      <td>1997</td>\n",
       "      <td>Whole Year</td>\n",
       "      <td>Assam</td>\n",
       "    </tr>\n",
       "    <tr>\n",
       "      <th>4</th>\n",
       "      <td>Cotton(lint)</td>\n",
       "      <td>1997</td>\n",
       "      <td>Kharif</td>\n",
       "      <td>Assam</td>\n",
       "    </tr>\n",
       "  </tbody>\n",
       "</table>\n",
       "</div>"
      ],
      "text/plain": [
       "           Crop  Crop_Year       Season  State\n",
       "0      Arecanut       1997  Whole Year   Assam\n",
       "1     Arhar/Tur       1997  Kharif       Assam\n",
       "2   Castor seed       1997  Kharif       Assam\n",
       "3      Coconut        1997  Whole Year   Assam\n",
       "4  Cotton(lint)       1997  Kharif       Assam"
      ]
     },
     "execution_count": 142,
     "metadata": {},
     "output_type": "execute_result"
    }
   ],
   "source": [
    "df.iloc[:, :4].head(5)"
   ]
  },
  {
   "cell_type": "code",
   "execution_count": 143,
   "metadata": {},
   "outputs": [
    {
     "data": {
      "application/vnd.microsoft.datawrangler.viewer.v0+json": {
       "columns": [
        {
         "name": "index",
         "rawType": "int64",
         "type": "integer"
        },
        {
         "name": "Area",
         "rawType": "float64",
         "type": "float"
        },
        {
         "name": "Production",
         "rawType": "int64",
         "type": "integer"
        },
        {
         "name": "Annual_Rainfall",
         "rawType": "float64",
         "type": "float"
        },
        {
         "name": "Fertilizer",
         "rawType": "float64",
         "type": "float"
        }
       ],
       "conversionMethod": "pd.DataFrame",
       "ref": "fcac1f2f-be29-4433-bad1-25f013a61d7f",
       "rows": [
        [
         "0",
         "73814.0",
         "56708",
         "2051.4",
         "7024878.38"
        ],
        [
         "1",
         "6637.0",
         "4685",
         "2051.4",
         "631643.29"
        ],
        [
         "2",
         "796.0",
         "22",
         "2051.4",
         "75755.32"
        ],
        [
         "3",
         "19656.0",
         "126905000",
         "2051.4",
         "1870661.52"
        ],
        [
         "4",
         "1739.0",
         "794",
         "2051.4",
         "165500.63"
        ]
       ],
       "shape": {
        "columns": 4,
        "rows": 5
       }
      },
      "text/html": [
       "<div>\n",
       "<style scoped>\n",
       "    .dataframe tbody tr th:only-of-type {\n",
       "        vertical-align: middle;\n",
       "    }\n",
       "\n",
       "    .dataframe tbody tr th {\n",
       "        vertical-align: top;\n",
       "    }\n",
       "\n",
       "    .dataframe thead th {\n",
       "        text-align: right;\n",
       "    }\n",
       "</style>\n",
       "<table border=\"1\" class=\"dataframe\">\n",
       "  <thead>\n",
       "    <tr style=\"text-align: right;\">\n",
       "      <th></th>\n",
       "      <th>Area</th>\n",
       "      <th>Production</th>\n",
       "      <th>Annual_Rainfall</th>\n",
       "      <th>Fertilizer</th>\n",
       "    </tr>\n",
       "  </thead>\n",
       "  <tbody>\n",
       "    <tr>\n",
       "      <th>0</th>\n",
       "      <td>73814.0</td>\n",
       "      <td>56708</td>\n",
       "      <td>2051.4</td>\n",
       "      <td>7024878.38</td>\n",
       "    </tr>\n",
       "    <tr>\n",
       "      <th>1</th>\n",
       "      <td>6637.0</td>\n",
       "      <td>4685</td>\n",
       "      <td>2051.4</td>\n",
       "      <td>631643.29</td>\n",
       "    </tr>\n",
       "    <tr>\n",
       "      <th>2</th>\n",
       "      <td>796.0</td>\n",
       "      <td>22</td>\n",
       "      <td>2051.4</td>\n",
       "      <td>75755.32</td>\n",
       "    </tr>\n",
       "    <tr>\n",
       "      <th>3</th>\n",
       "      <td>19656.0</td>\n",
       "      <td>126905000</td>\n",
       "      <td>2051.4</td>\n",
       "      <td>1870661.52</td>\n",
       "    </tr>\n",
       "    <tr>\n",
       "      <th>4</th>\n",
       "      <td>1739.0</td>\n",
       "      <td>794</td>\n",
       "      <td>2051.4</td>\n",
       "      <td>165500.63</td>\n",
       "    </tr>\n",
       "  </tbody>\n",
       "</table>\n",
       "</div>"
      ],
      "text/plain": [
       "      Area  Production  Annual_Rainfall  Fertilizer\n",
       "0  73814.0       56708           2051.4  7024878.38\n",
       "1   6637.0        4685           2051.4   631643.29\n",
       "2    796.0          22           2051.4    75755.32\n",
       "3  19656.0   126905000           2051.4  1870661.52\n",
       "4   1739.0         794           2051.4   165500.63"
      ]
     },
     "execution_count": 143,
     "metadata": {},
     "output_type": "execute_result"
    }
   ],
   "source": [
    "df.iloc[:, 4:8].head(5)"
   ]
  },
  {
   "cell_type": "code",
   "execution_count": 144,
   "metadata": {},
   "outputs": [
    {
     "data": {
      "application/vnd.microsoft.datawrangler.viewer.v0+json": {
       "columns": [
        {
         "name": "index",
         "rawType": "int64",
         "type": "integer"
        },
        {
         "name": "Pesticide",
         "rawType": "float64",
         "type": "float"
        },
        {
         "name": "Yield",
         "rawType": "float64",
         "type": "float"
        }
       ],
       "conversionMethod": "pd.DataFrame",
       "ref": "f9cba572-8fe6-4900-9dc7-0d8bf6c6f5be",
       "rows": [
        [
         "0",
         "22882.34",
         "0.796086957"
        ],
        [
         "1",
         "2057.47",
         "0.710434783"
        ],
        [
         "2",
         "246.76",
         "0.238333333"
        ],
        [
         "3",
         "6093.36",
         "5238.051739"
        ],
        [
         "4",
         "539.09",
         "0.420909091"
        ]
       ],
       "shape": {
        "columns": 2,
        "rows": 5
       }
      },
      "text/html": [
       "<div>\n",
       "<style scoped>\n",
       "    .dataframe tbody tr th:only-of-type {\n",
       "        vertical-align: middle;\n",
       "    }\n",
       "\n",
       "    .dataframe tbody tr th {\n",
       "        vertical-align: top;\n",
       "    }\n",
       "\n",
       "    .dataframe thead th {\n",
       "        text-align: right;\n",
       "    }\n",
       "</style>\n",
       "<table border=\"1\" class=\"dataframe\">\n",
       "  <thead>\n",
       "    <tr style=\"text-align: right;\">\n",
       "      <th></th>\n",
       "      <th>Pesticide</th>\n",
       "      <th>Yield</th>\n",
       "    </tr>\n",
       "  </thead>\n",
       "  <tbody>\n",
       "    <tr>\n",
       "      <th>0</th>\n",
       "      <td>22882.34</td>\n",
       "      <td>0.796087</td>\n",
       "    </tr>\n",
       "    <tr>\n",
       "      <th>1</th>\n",
       "      <td>2057.47</td>\n",
       "      <td>0.710435</td>\n",
       "    </tr>\n",
       "    <tr>\n",
       "      <th>2</th>\n",
       "      <td>246.76</td>\n",
       "      <td>0.238333</td>\n",
       "    </tr>\n",
       "    <tr>\n",
       "      <th>3</th>\n",
       "      <td>6093.36</td>\n",
       "      <td>5238.051739</td>\n",
       "    </tr>\n",
       "    <tr>\n",
       "      <th>4</th>\n",
       "      <td>539.09</td>\n",
       "      <td>0.420909</td>\n",
       "    </tr>\n",
       "  </tbody>\n",
       "</table>\n",
       "</div>"
      ],
      "text/plain": [
       "   Pesticide        Yield\n",
       "0   22882.34     0.796087\n",
       "1    2057.47     0.710435\n",
       "2     246.76     0.238333\n",
       "3    6093.36  5238.051739\n",
       "4     539.09     0.420909"
      ]
     },
     "execution_count": 144,
     "metadata": {},
     "output_type": "execute_result"
    }
   ],
   "source": [
    "df.iloc[:, 8:].head(5)"
   ]
  },
  {
   "cell_type": "code",
   "execution_count": 145,
   "metadata": {},
   "outputs": [
    {
     "data": {
      "text/plain": [
       "Crop                  55\n",
       "Crop_Year             24\n",
       "Season                 6\n",
       "State                 30\n",
       "Area               13644\n",
       "Production         14016\n",
       "Annual_Rainfall      634\n",
       "Fertilizer         18598\n",
       "Pesticide          17405\n",
       "Yield              13551\n",
       "dtype: int64"
      ]
     },
     "execution_count": 145,
     "metadata": {},
     "output_type": "execute_result"
    }
   ],
   "source": [
    "df.nunique()"
   ]
  },
  {
   "cell_type": "code",
   "execution_count": 146,
   "metadata": {},
   "outputs": [
    {
     "data": {
      "text/plain": [
       "0"
      ]
     },
     "execution_count": 146,
     "metadata": {},
     "output_type": "execute_result"
    }
   ],
   "source": [
    "df.duplicated().sum()"
   ]
  },
  {
   "cell_type": "code",
   "execution_count": 147,
   "metadata": {},
   "outputs": [
    {
     "data": {
      "text/plain": [
       "Crop               0\n",
       "Crop_Year          0\n",
       "Season             0\n",
       "State              0\n",
       "Area               0\n",
       "Production         0\n",
       "Annual_Rainfall    0\n",
       "Fertilizer         0\n",
       "Pesticide          0\n",
       "Yield              0\n",
       "dtype: int64"
      ]
     },
     "execution_count": 147,
     "metadata": {},
     "output_type": "execute_result"
    }
   ],
   "source": [
    "df.isnull().sum()"
   ]
  },
  {
   "cell_type": "code",
   "execution_count": 148,
   "metadata": {},
   "outputs": [
    {
     "data": {
      "application/vnd.microsoft.datawrangler.viewer.v0+json": {
       "columns": [
        {
         "name": "index",
         "rawType": "object",
         "type": "string"
        },
        {
         "name": "Crop_Year",
         "rawType": "float64",
         "type": "float"
        },
        {
         "name": "Area",
         "rawType": "float64",
         "type": "float"
        },
        {
         "name": "Production",
         "rawType": "float64",
         "type": "float"
        },
        {
         "name": "Annual_Rainfall",
         "rawType": "float64",
         "type": "float"
        },
        {
         "name": "Fertilizer",
         "rawType": "float64",
         "type": "float"
        },
        {
         "name": "Pesticide",
         "rawType": "float64",
         "type": "float"
        },
        {
         "name": "Yield",
         "rawType": "float64",
         "type": "float"
        }
       ],
       "conversionMethod": "pd.DataFrame",
       "ref": "e01e6223-ca92-4108-8083-d0d82aa07806",
       "rows": [
        [
         "count",
         "19689.0",
         "19689.0",
         "19689.0",
         "19689.0",
         "19689.0",
         "19689.0",
         "19689.0"
        ],
        [
         "mean",
         "2009.1275839301134",
         "179926.57030814158",
         "16435941.273096653",
         "1437.7551766159684",
         "24103312.448805965",
         "48848.353392009245",
         "79.95400913008669"
        ],
        [
         "std",
         "6.498098951393112",
         "732828.6758877125",
         "263056839.81256697",
         "816.9095887579965",
         "94946004.48252656",
         "213287.35485950537",
         "878.3061926565939"
        ],
        [
         "min",
         "1997.0",
         "0.5",
         "0.0",
         "301.3",
         "54.17",
         "0.09",
         "0.0"
        ],
        [
         "25%",
         "2004.0",
         "1390.0",
         "1393.0",
         "940.7",
         "188014.62",
         "356.7",
         "0.6"
        ],
        [
         "50%",
         "2010.0",
         "9317.0",
         "13804.0",
         "1247.6",
         "1234957.44",
         "2421.9",
         "1.03"
        ],
        [
         "75%",
         "2015.0",
         "75112.0",
         "122718.0",
         "1643.7",
         "10003847.2",
         "20041.7",
         "2.388888889"
        ],
        [
         "max",
         "2020.0",
         "50808100.0",
         "6326000000.0",
         "6552.7",
         "4835406877.0",
         "15750511.0",
         "21105.0"
        ]
       ],
       "shape": {
        "columns": 7,
        "rows": 8
       }
      },
      "text/html": [
       "<div>\n",
       "<style scoped>\n",
       "    .dataframe tbody tr th:only-of-type {\n",
       "        vertical-align: middle;\n",
       "    }\n",
       "\n",
       "    .dataframe tbody tr th {\n",
       "        vertical-align: top;\n",
       "    }\n",
       "\n",
       "    .dataframe thead th {\n",
       "        text-align: right;\n",
       "    }\n",
       "</style>\n",
       "<table border=\"1\" class=\"dataframe\">\n",
       "  <thead>\n",
       "    <tr style=\"text-align: right;\">\n",
       "      <th></th>\n",
       "      <th>Crop_Year</th>\n",
       "      <th>Area</th>\n",
       "      <th>Production</th>\n",
       "      <th>Annual_Rainfall</th>\n",
       "      <th>Fertilizer</th>\n",
       "      <th>Pesticide</th>\n",
       "      <th>Yield</th>\n",
       "    </tr>\n",
       "  </thead>\n",
       "  <tbody>\n",
       "    <tr>\n",
       "      <th>count</th>\n",
       "      <td>19689.000000</td>\n",
       "      <td>1.968900e+04</td>\n",
       "      <td>1.968900e+04</td>\n",
       "      <td>19689.000000</td>\n",
       "      <td>1.968900e+04</td>\n",
       "      <td>1.968900e+04</td>\n",
       "      <td>19689.000000</td>\n",
       "    </tr>\n",
       "    <tr>\n",
       "      <th>mean</th>\n",
       "      <td>2009.127584</td>\n",
       "      <td>1.799266e+05</td>\n",
       "      <td>1.643594e+07</td>\n",
       "      <td>1437.755177</td>\n",
       "      <td>2.410331e+07</td>\n",
       "      <td>4.884835e+04</td>\n",
       "      <td>79.954009</td>\n",
       "    </tr>\n",
       "    <tr>\n",
       "      <th>std</th>\n",
       "      <td>6.498099</td>\n",
       "      <td>7.328287e+05</td>\n",
       "      <td>2.630568e+08</td>\n",
       "      <td>816.909589</td>\n",
       "      <td>9.494600e+07</td>\n",
       "      <td>2.132874e+05</td>\n",
       "      <td>878.306193</td>\n",
       "    </tr>\n",
       "    <tr>\n",
       "      <th>min</th>\n",
       "      <td>1997.000000</td>\n",
       "      <td>5.000000e-01</td>\n",
       "      <td>0.000000e+00</td>\n",
       "      <td>301.300000</td>\n",
       "      <td>5.417000e+01</td>\n",
       "      <td>9.000000e-02</td>\n",
       "      <td>0.000000</td>\n",
       "    </tr>\n",
       "    <tr>\n",
       "      <th>25%</th>\n",
       "      <td>2004.000000</td>\n",
       "      <td>1.390000e+03</td>\n",
       "      <td>1.393000e+03</td>\n",
       "      <td>940.700000</td>\n",
       "      <td>1.880146e+05</td>\n",
       "      <td>3.567000e+02</td>\n",
       "      <td>0.600000</td>\n",
       "    </tr>\n",
       "    <tr>\n",
       "      <th>50%</th>\n",
       "      <td>2010.000000</td>\n",
       "      <td>9.317000e+03</td>\n",
       "      <td>1.380400e+04</td>\n",
       "      <td>1247.600000</td>\n",
       "      <td>1.234957e+06</td>\n",
       "      <td>2.421900e+03</td>\n",
       "      <td>1.030000</td>\n",
       "    </tr>\n",
       "    <tr>\n",
       "      <th>75%</th>\n",
       "      <td>2015.000000</td>\n",
       "      <td>7.511200e+04</td>\n",
       "      <td>1.227180e+05</td>\n",
       "      <td>1643.700000</td>\n",
       "      <td>1.000385e+07</td>\n",
       "      <td>2.004170e+04</td>\n",
       "      <td>2.388889</td>\n",
       "    </tr>\n",
       "    <tr>\n",
       "      <th>max</th>\n",
       "      <td>2020.000000</td>\n",
       "      <td>5.080810e+07</td>\n",
       "      <td>6.326000e+09</td>\n",
       "      <td>6552.700000</td>\n",
       "      <td>4.835407e+09</td>\n",
       "      <td>1.575051e+07</td>\n",
       "      <td>21105.000000</td>\n",
       "    </tr>\n",
       "  </tbody>\n",
       "</table>\n",
       "</div>"
      ],
      "text/plain": [
       "          Crop_Year          Area    Production  Annual_Rainfall  \\\n",
       "count  19689.000000  1.968900e+04  1.968900e+04     19689.000000   \n",
       "mean    2009.127584  1.799266e+05  1.643594e+07      1437.755177   \n",
       "std        6.498099  7.328287e+05  2.630568e+08       816.909589   \n",
       "min     1997.000000  5.000000e-01  0.000000e+00       301.300000   \n",
       "25%     2004.000000  1.390000e+03  1.393000e+03       940.700000   \n",
       "50%     2010.000000  9.317000e+03  1.380400e+04      1247.600000   \n",
       "75%     2015.000000  7.511200e+04  1.227180e+05      1643.700000   \n",
       "max     2020.000000  5.080810e+07  6.326000e+09      6552.700000   \n",
       "\n",
       "         Fertilizer     Pesticide         Yield  \n",
       "count  1.968900e+04  1.968900e+04  19689.000000  \n",
       "mean   2.410331e+07  4.884835e+04     79.954009  \n",
       "std    9.494600e+07  2.132874e+05    878.306193  \n",
       "min    5.417000e+01  9.000000e-02      0.000000  \n",
       "25%    1.880146e+05  3.567000e+02      0.600000  \n",
       "50%    1.234957e+06  2.421900e+03      1.030000  \n",
       "75%    1.000385e+07  2.004170e+04      2.388889  \n",
       "max    4.835407e+09  1.575051e+07  21105.000000  "
      ]
     },
     "execution_count": 148,
     "metadata": {},
     "output_type": "execute_result"
    }
   ],
   "source": [
    "df.describe()"
   ]
  },
  {
   "cell_type": "code",
   "execution_count": 149,
   "metadata": {},
   "outputs": [
    {
     "data": {
      "application/vnd.microsoft.datawrangler.viewer.v0+json": {
       "columns": [
        {
         "name": "index",
         "rawType": "object",
         "type": "string"
        },
        {
         "name": "Crop",
         "rawType": "object",
         "type": "unknown"
        },
        {
         "name": "Season",
         "rawType": "object",
         "type": "unknown"
        },
        {
         "name": "State",
         "rawType": "object",
         "type": "unknown"
        }
       ],
       "conversionMethod": "pd.DataFrame",
       "ref": "a080dc09-4353-41d8-aa97-114da68dafc1",
       "rows": [
        [
         "count",
         "19689",
         "19689",
         "19689"
        ],
        [
         "unique",
         "55",
         "6",
         "30"
        ],
        [
         "top",
         "Rice",
         "Kharif     ",
         "Karnataka"
        ],
        [
         "freq",
         "1197",
         "8232",
         "1432"
        ]
       ],
       "shape": {
        "columns": 3,
        "rows": 4
       }
      },
      "text/html": [
       "<div>\n",
       "<style scoped>\n",
       "    .dataframe tbody tr th:only-of-type {\n",
       "        vertical-align: middle;\n",
       "    }\n",
       "\n",
       "    .dataframe tbody tr th {\n",
       "        vertical-align: top;\n",
       "    }\n",
       "\n",
       "    .dataframe thead th {\n",
       "        text-align: right;\n",
       "    }\n",
       "</style>\n",
       "<table border=\"1\" class=\"dataframe\">\n",
       "  <thead>\n",
       "    <tr style=\"text-align: right;\">\n",
       "      <th></th>\n",
       "      <th>Crop</th>\n",
       "      <th>Season</th>\n",
       "      <th>State</th>\n",
       "    </tr>\n",
       "  </thead>\n",
       "  <tbody>\n",
       "    <tr>\n",
       "      <th>count</th>\n",
       "      <td>19689</td>\n",
       "      <td>19689</td>\n",
       "      <td>19689</td>\n",
       "    </tr>\n",
       "    <tr>\n",
       "      <th>unique</th>\n",
       "      <td>55</td>\n",
       "      <td>6</td>\n",
       "      <td>30</td>\n",
       "    </tr>\n",
       "    <tr>\n",
       "      <th>top</th>\n",
       "      <td>Rice</td>\n",
       "      <td>Kharif</td>\n",
       "      <td>Karnataka</td>\n",
       "    </tr>\n",
       "    <tr>\n",
       "      <th>freq</th>\n",
       "      <td>1197</td>\n",
       "      <td>8232</td>\n",
       "      <td>1432</td>\n",
       "    </tr>\n",
       "  </tbody>\n",
       "</table>\n",
       "</div>"
      ],
      "text/plain": [
       "         Crop       Season      State\n",
       "count   19689        19689      19689\n",
       "unique     55            6         30\n",
       "top      Rice  Kharif       Karnataka\n",
       "freq     1197         8232       1432"
      ]
     },
     "execution_count": 149,
     "metadata": {},
     "output_type": "execute_result"
    }
   ],
   "source": [
    "df.describe(include = 'object')"
   ]
  },
  {
   "cell_type": "code",
   "execution_count": 150,
   "metadata": {},
   "outputs": [
    {
     "name": "stdout",
     "output_type": "stream",
     "text": [
      "<class 'pandas.core.frame.DataFrame'>\n",
      "RangeIndex: 19689 entries, 0 to 19688\n",
      "Data columns (total 10 columns):\n",
      " #   Column           Non-Null Count  Dtype  \n",
      "---  ------           --------------  -----  \n",
      " 0   Crop             19689 non-null  object \n",
      " 1   Crop_Year        19689 non-null  int64  \n",
      " 2   Season           19689 non-null  object \n",
      " 3   State            19689 non-null  object \n",
      " 4   Area             19689 non-null  float64\n",
      " 5   Production       19689 non-null  int64  \n",
      " 6   Annual_Rainfall  19689 non-null  float64\n",
      " 7   Fertilizer       19689 non-null  float64\n",
      " 8   Pesticide        19689 non-null  float64\n",
      " 9   Yield            19689 non-null  float64\n",
      "dtypes: float64(5), int64(2), object(3)\n",
      "memory usage: 1.5+ MB\n"
     ]
    }
   ],
   "source": [
    "df.info()"
   ]
  },
  {
   "cell_type": "code",
   "execution_count": 151,
   "metadata": {},
   "outputs": [
    {
     "data": {
      "text/plain": [
       "Crop                  55\n",
       "Crop_Year             24\n",
       "Season                 6\n",
       "State                 30\n",
       "Area               13644\n",
       "Production         14016\n",
       "Annual_Rainfall      634\n",
       "Fertilizer         18598\n",
       "Pesticide          17405\n",
       "Yield              13551\n",
       "dtype: int64"
      ]
     },
     "execution_count": 151,
     "metadata": {},
     "output_type": "execute_result"
    }
   ],
   "source": [
    "df.nunique()"
   ]
  },
  {
   "cell_type": "code",
   "execution_count": 152,
   "metadata": {},
   "outputs": [
    {
     "data": {
      "text/plain": [
       "array([1997, 1998, 1999, 2000, 2001, 2002, 2003, 2004, 2005, 2006, 2007,\n",
       "       2008, 2009, 2010, 2011, 2012, 2013, 2014, 2015, 2016, 2017, 2018,\n",
       "       2019, 2020], dtype=int64)"
      ]
     },
     "execution_count": 152,
     "metadata": {},
     "output_type": "execute_result"
    }
   ],
   "source": [
    "df['Crop_Year'].unique()"
   ]
  },
  {
   "cell_type": "code",
   "execution_count": 153,
   "metadata": {},
   "outputs": [
    {
     "data": {
      "application/vnd.microsoft.datawrangler.viewer.v0+json": {
       "columns": [
        {
         "name": "index",
         "rawType": "int64",
         "type": "integer"
        },
        {
         "name": "Crop_Year",
         "rawType": "int64",
         "type": "integer"
        },
        {
         "name": "Crop",
         "rawType": "object",
         "type": "string"
        },
        {
         "name": "Production",
         "rawType": "int64",
         "type": "integer"
        }
       ],
       "conversionMethod": "pd.DataFrame",
       "ref": "a4478f54-2bd7-4280-a593-ecbe0064fbea",
       "rows": [
        [
         "9",
         "2006",
         "Coconut ",
         "15067607265"
        ],
        [
         "45",
         "2006",
         "Sugarcane",
         "334295217"
        ],
        [
         "39",
         "2006",
         "Rice",
         "92023239"
        ],
        [
         "52",
         "2006",
         "Wheat",
         "70106630"
        ],
        [
         "11",
         "2006",
         "Cotton(lint)",
         "20764043"
        ],
        [
         "36",
         "2006",
         "Potato",
         "19504186"
        ],
        [
         "24",
         "2006",
         "Maize",
         "13612680"
        ],
        [
         "3",
         "2006",
         "Banana",
         "11366277"
        ],
        [
         "21",
         "2006",
         "Jute",
         "10433130"
        ],
        [
         "48",
         "2006",
         "Tapioca",
         "8418069"
        ],
        [
         "44",
         "2006",
         "Soyabean",
         "8045799"
        ],
        [
         "20",
         "2006",
         "Jowar",
         "6600839"
        ],
        [
         "16",
         "2006",
         "Gram",
         "5520310"
        ],
        [
         "2",
         "2006",
         "Bajra",
         "4921769"
        ],
        [
         "17",
         "2006",
         "Groundnut",
         "4830623"
        ],
        [
         "31",
         "2006",
         "Onion",
         "3805194"
        ],
        [
         "38",
         "2006",
         "Rapeseed &Mustard",
         "3315284"
        ],
        [
         "1",
         "2006",
         "Arhar/Tur",
         "2131493"
        ],
        [
         "37",
         "2006",
         "Ragi",
         "1294438"
        ],
        [
         "51",
         "2006",
         "Urad",
         "1094232"
        ],
        [
         "13",
         "2006",
         "Dry chillies",
         "1086940"
        ],
        [
         "46",
         "2006",
         "Sunflower",
         "1044592"
        ],
        [
         "25",
         "2006",
         "Masoor",
         "892455"
        ],
        [
         "49",
         "2006",
         "Tobacco",
         "878165"
        ],
        [
         "26",
         "2006",
         "Mesta",
         "852100"
        ],
        [
         "27",
         "2006",
         "Moong(Green Gram)",
         "787005"
        ],
        [
         "8",
         "2006",
         "Castor seed",
         "701141"
        ],
        [
         "4",
         "2006",
         "Barley",
         "658566"
        ],
        [
         "42",
         "2006",
         "Sesamum",
         "578152"
        ],
        [
         "14",
         "2006",
         "Garlic",
         "575331"
        ],
        [
         "34",
         "2006",
         "Other Kharif pulses",
         "533760"
        ],
        [
         "0",
         "2006",
         "Arecanut",
         "523808"
        ],
        [
         "32",
         "2006",
         "Other  Rabi pulses",
         "516867"
        ],
        [
         "15",
         "2006",
         "Ginger",
         "461518"
        ],
        [
         "43",
         "2006",
         "Small millets",
         "411231"
        ],
        [
         "47",
         "2006",
         "Sweet potato",
         "399786"
        ],
        [
         "22",
         "2006",
         "Khesari",
         "372464"
        ],
        [
         "50",
         "2006",
         "Turmeric",
         "285873"
        ],
        [
         "40",
         "2006",
         "Safflower",
         "238102"
        ],
        [
         "19",
         "2006",
         "Horse-gram",
         "221390"
        ],
        [
         "7",
         "2006",
         "Cashewnut",
         "174587"
        ],
        [
         "35",
         "2006",
         "Peas & beans (Pulses)",
         "174035"
        ],
        [
         "23",
         "2006",
         "Linseed",
         "134621"
        ],
        [
         "18",
         "2006",
         "Guar seed",
         "100697"
        ],
        [
         "5",
         "2006",
         "Black pepper",
         "94308"
        ],
        [
         "33",
         "2006",
         "Other Cereals",
         "74386"
        ],
        [
         "10",
         "2006",
         "Coriander",
         "70417"
        ],
        [
         "29",
         "2006",
         "Niger seed",
         "68039"
        ],
        [
         "30",
         "2006",
         "Oilseeds total",
         "29265"
        ],
        [
         "28",
         "2006",
         "Moth",
         "15814"
        ]
       ],
       "shape": {
        "columns": 3,
        "rows": 788
       }
      },
      "text/html": [
       "<div>\n",
       "<style scoped>\n",
       "    .dataframe tbody tr th:only-of-type {\n",
       "        vertical-align: middle;\n",
       "    }\n",
       "\n",
       "    .dataframe tbody tr th {\n",
       "        vertical-align: top;\n",
       "    }\n",
       "\n",
       "    .dataframe thead th {\n",
       "        text-align: right;\n",
       "    }\n",
       "</style>\n",
       "<table border=\"1\" class=\"dataframe\">\n",
       "  <thead>\n",
       "    <tr style=\"text-align: right;\">\n",
       "      <th></th>\n",
       "      <th>Crop_Year</th>\n",
       "      <th>Crop</th>\n",
       "      <th>Production</th>\n",
       "    </tr>\n",
       "  </thead>\n",
       "  <tbody>\n",
       "    <tr>\n",
       "      <th>9</th>\n",
       "      <td>2006</td>\n",
       "      <td>Coconut</td>\n",
       "      <td>15067607265</td>\n",
       "    </tr>\n",
       "    <tr>\n",
       "      <th>45</th>\n",
       "      <td>2006</td>\n",
       "      <td>Sugarcane</td>\n",
       "      <td>334295217</td>\n",
       "    </tr>\n",
       "    <tr>\n",
       "      <th>39</th>\n",
       "      <td>2006</td>\n",
       "      <td>Rice</td>\n",
       "      <td>92023239</td>\n",
       "    </tr>\n",
       "    <tr>\n",
       "      <th>52</th>\n",
       "      <td>2006</td>\n",
       "      <td>Wheat</td>\n",
       "      <td>70106630</td>\n",
       "    </tr>\n",
       "    <tr>\n",
       "      <th>11</th>\n",
       "      <td>2006</td>\n",
       "      <td>Cotton(lint)</td>\n",
       "      <td>20764043</td>\n",
       "    </tr>\n",
       "    <tr>\n",
       "      <th>...</th>\n",
       "      <td>...</td>\n",
       "      <td>...</td>\n",
       "      <td>...</td>\n",
       "    </tr>\n",
       "    <tr>\n",
       "      <th>768</th>\n",
       "      <td>2020</td>\n",
       "      <td>Moth</td>\n",
       "      <td>24</td>\n",
       "    </tr>\n",
       "    <tr>\n",
       "      <th>770</th>\n",
       "      <td>2020</td>\n",
       "      <td>Other  Rabi pulses</td>\n",
       "      <td>21</td>\n",
       "    </tr>\n",
       "    <tr>\n",
       "      <th>767</th>\n",
       "      <td>2020</td>\n",
       "      <td>Moong(Green Gram)</td>\n",
       "      <td>11</td>\n",
       "    </tr>\n",
       "    <tr>\n",
       "      <th>783</th>\n",
       "      <td>2020</td>\n",
       "      <td>Tobacco</td>\n",
       "      <td>6</td>\n",
       "    </tr>\n",
       "    <tr>\n",
       "      <th>782</th>\n",
       "      <td>2020</td>\n",
       "      <td>Sunflower</td>\n",
       "      <td>4</td>\n",
       "    </tr>\n",
       "  </tbody>\n",
       "</table>\n",
       "<p>788 rows × 3 columns</p>\n",
       "</div>"
      ],
      "text/plain": [
       "     Crop_Year                Crop   Production\n",
       "9         2006            Coconut   15067607265\n",
       "45        2006           Sugarcane    334295217\n",
       "39        2006                Rice     92023239\n",
       "52        2006               Wheat     70106630\n",
       "11        2006        Cotton(lint)     20764043\n",
       "..         ...                 ...          ...\n",
       "768       2020                Moth           24\n",
       "770       2020  Other  Rabi pulses           21\n",
       "767       2020   Moong(Green Gram)           11\n",
       "783       2020             Tobacco            6\n",
       "782       2020           Sunflower            4\n",
       "\n",
       "[788 rows x 3 columns]"
      ]
     },
     "execution_count": 153,
     "metadata": {},
     "output_type": "execute_result"
    }
   ],
   "source": [
    "#How have crop production trends evolved across different European countries over the last 15 years\n",
    "crop_production_trend = df[(df['Crop_Year'] > 2005) & (df['Crop_Year'] <= 2020)].groupby(['Crop_Year', 'Crop'])['Production'].sum()\n",
    "crop_production_trend.reset_index().sort_values(by = ['Crop_Year', 'Production'], ascending = [True, False])"
   ]
  },
  {
   "cell_type": "code",
   "execution_count": 154,
   "metadata": {},
   "outputs": [
    {
     "data": {
      "text/plain": [
       "<Axes: title={'center': 'Close Look'}, xlabel='Crop_Year,Crop'>"
      ]
     },
     "execution_count": 154,
     "metadata": {},
     "output_type": "execute_result"
    },
    {
     "data": {
      "image/png": "[encoded data removed]",
      "text/plain": [
       "<Figure size 1800x1000 with 2 Axes>"
      ]
     },
     "metadata": {},
     "output_type": "display_data"
    }
   ],
   "source": [
    "fig, axes = plt.subplots(2, 1, figsize=(18, 10))\n",
    "plt.subplots_adjust(hspace = 1.0)\n",
    "crop_production_trend[:40].plot(kind = 'line', rot = 45, grid = True, marker = 'o', ax = axes[0], title = 'Overview')\n",
    "crop_production_trend[:40].plot(kind = 'line', rot = 45, grid = True, marker = 'o', ylim = (0, 30000000), ax = axes[1], title = 'Close Look')"
   ]
  },
  {
   "cell_type": "code",
   "execution_count": 155,
   "metadata": {},
   "outputs": [
    {
     "data": {
      "application/vnd.microsoft.datawrangler.viewer.v0+json": {
       "columns": [
        {
         "name": "index",
         "rawType": "int64",
         "type": "integer"
        },
        {
         "name": "State",
         "rawType": "object",
         "type": "string"
        },
        {
         "name": "Crop",
         "rawType": "object",
         "type": "string"
        },
        {
         "name": "Annual_Rainfall",
         "rawType": "float64",
         "type": "float"
        },
        {
         "name": "Fertilizer",
         "rawType": "float64",
         "type": "float"
        },
        {
         "name": "Pesticide",
         "rawType": "float64",
         "type": "float"
        },
        {
         "name": "Yield",
         "rawType": "float64",
         "type": "float"
        }
       ],
       "conversionMethod": "pd.DataFrame",
       "ref": "94fc324c-613e-4ca6-a46a-97144d348d3c",
       "rows": [
        [
         "27",
         "Uttarakhand",
         "Sugarcane",
         "1313.947826",
         "17460524.24",
         "33368.08",
         "81.54"
        ],
        [
         "12",
         "Uttarakhand",
         "Onion",
         "1313.947826",
         "695059.9",
         "1328.3",
         "14.18461538"
        ],
        [
         "18",
         "Uttarakhand",
         "Potato",
         "1313.947826",
         "1050721.47",
         "2007.99",
         "11.83"
        ],
        [
         "19",
         "Uttarakhand",
         "Potato",
         "1313.947826",
         "1165532.2",
         "2227.4",
         "9.942"
        ],
        [
         "2",
         "Uttarakhand",
         "Garlic",
         "1313.947826",
         "1034845.45",
         "1977.65",
         "6.603478261"
        ]
       ],
       "shape": {
        "columns": 6,
        "rows": 5
       }
      },
      "text/html": [
       "<div>\n",
       "<style scoped>\n",
       "    .dataframe tbody tr th:only-of-type {\n",
       "        vertical-align: middle;\n",
       "    }\n",
       "\n",
       "    .dataframe tbody tr th {\n",
       "        vertical-align: top;\n",
       "    }\n",
       "\n",
       "    .dataframe thead th {\n",
       "        text-align: right;\n",
       "    }\n",
       "</style>\n",
       "<table border=\"1\" class=\"dataframe\">\n",
       "  <thead>\n",
       "    <tr style=\"text-align: right;\">\n",
       "      <th></th>\n",
       "      <th>State</th>\n",
       "      <th>Crop</th>\n",
       "      <th>Annual_Rainfall</th>\n",
       "      <th>Fertilizer</th>\n",
       "      <th>Pesticide</th>\n",
       "      <th>Yield</th>\n",
       "    </tr>\n",
       "  </thead>\n",
       "  <tbody>\n",
       "    <tr>\n",
       "      <th>27</th>\n",
       "      <td>Uttarakhand</td>\n",
       "      <td>Sugarcane</td>\n",
       "      <td>1313.947826</td>\n",
       "      <td>17460524.24</td>\n",
       "      <td>33368.08</td>\n",
       "      <td>81.540000</td>\n",
       "    </tr>\n",
       "    <tr>\n",
       "      <th>12</th>\n",
       "      <td>Uttarakhand</td>\n",
       "      <td>Onion</td>\n",
       "      <td>1313.947826</td>\n",
       "      <td>695059.90</td>\n",
       "      <td>1328.30</td>\n",
       "      <td>14.184615</td>\n",
       "    </tr>\n",
       "    <tr>\n",
       "      <th>18</th>\n",
       "      <td>Uttarakhand</td>\n",
       "      <td>Potato</td>\n",
       "      <td>1313.947826</td>\n",
       "      <td>1050721.47</td>\n",
       "      <td>2007.99</td>\n",
       "      <td>11.830000</td>\n",
       "    </tr>\n",
       "    <tr>\n",
       "      <th>19</th>\n",
       "      <td>Uttarakhand</td>\n",
       "      <td>Potato</td>\n",
       "      <td>1313.947826</td>\n",
       "      <td>1165532.20</td>\n",
       "      <td>2227.40</td>\n",
       "      <td>9.942000</td>\n",
       "    </tr>\n",
       "    <tr>\n",
       "      <th>2</th>\n",
       "      <td>Uttarakhand</td>\n",
       "      <td>Garlic</td>\n",
       "      <td>1313.947826</td>\n",
       "      <td>1034845.45</td>\n",
       "      <td>1977.65</td>\n",
       "      <td>6.603478</td>\n",
       "    </tr>\n",
       "  </tbody>\n",
       "</table>\n",
       "</div>"
      ],
      "text/plain": [
       "          State       Crop  Annual_Rainfall   Fertilizer  Pesticide      Yield\n",
       "27  Uttarakhand  Sugarcane      1313.947826  17460524.24   33368.08  81.540000\n",
       "12  Uttarakhand      Onion      1313.947826    695059.90    1328.30  14.184615\n",
       "18  Uttarakhand     Potato      1313.947826   1050721.47    2007.99  11.830000\n",
       "19  Uttarakhand     Potato      1313.947826   1165532.20    2227.40   9.942000\n",
       "2   Uttarakhand     Garlic      1313.947826   1034845.45    1977.65   6.603478"
      ]
     },
     "execution_count": 155,
     "metadata": {},
     "output_type": "execute_result"
    }
   ],
   "source": [
    "#What are the key factors influencing yield variations across different regions\n",
    "yield_variations = df[(df['Crop_Year'] == 2020)].groupby(['State', 'Crop', 'Annual_Rainfall', 'Fertilizer', 'Pesticide'])['Yield'].mean()\n",
    "yield_variations.reset_index().sort_values(by = ['Annual_Rainfall', 'Yield'], ascending = [False, False])[:5]"
   ]
  },
  {
   "cell_type": "code",
   "execution_count": 156,
   "metadata": {},
   "outputs": [],
   "source": [
    "#Which crops have demonstrated the highest resilience to seasonal changes\n",
    "crop_yield = df.groupby(['Crop_Year', 'Crop', 'Annual_Rainfall'])['Yield'].mean().reset_index()\n",
    "crop_resilience = df.groupby('Crop')['Yield'].std().reset_index()\n",
    "crop_resilience.columns = ['Crop', 'Yield_Std_Dev']\n",
    "crop_resilience = crop_resilience.sort_values(by='Yield_Std_Dev', ascending=True)"
   ]
  },
  {
   "cell_type": "code",
   "execution_count": 157,
   "metadata": {},
   "outputs": [
    {
     "name": "stdout",
     "output_type": "stream",
     "text": [
      "   Crop_Year      Crop  Annual_Rainfall     Yield\n",
      "0       1997  Arecanut           1266.7  1.293571\n",
      "1       1997  Arecanut           1852.9  1.691765\n",
      "2       1997  Arecanut           2051.4  0.796087\n",
      "3       1997  Arecanut           3252.4  1.147857\n",
      "4       1997  Arecanut           3818.2  1.245714\n"
     ]
    }
   ],
   "source": [
    "print(crop_yield[:5])"
   ]
  },
  {
   "cell_type": "code",
   "execution_count": 158,
   "metadata": {},
   "outputs": [
    {
     "name": "stdout",
     "output_type": "stream",
     "text": [
      "          Crop  Yield_Std_Dev\n",
      "23     Linseed       0.223668\n",
      "19  Horse-gram       0.225087\n",
      "22     Khesari       0.228552\n",
      "41   Safflower       0.237030\n",
      "25      Masoor       0.239129\n"
     ]
    }
   ],
   "source": [
    "print(crop_resilience[:5]) \n",
    "#here calculated Yield_Std_Dev per crop – lower values indicate more resilience."
   ]
  },
  {
   "cell_type": "code",
   "execution_count": 159,
   "metadata": {},
   "outputs": [
    {
     "data": {
      "text/plain": [
       "<Axes: xlabel='Crop_Year,State,Annual_Rainfall'>"
      ]
     },
     "execution_count": 159,
     "metadata": {},
     "output_type": "execute_result"
    },
    {
     "data": {
      "image/png": "[encoded data removed]",
      "text/plain": [
       "<Figure size 1800x600 with 1 Axes>"
      ]
     },
     "metadata": {},
     "output_type": "display_data"
    }
   ],
   "source": [
    "#How does rainfall variability affect crop production in different countries\n",
    "df.groupby(['Crop_Year', 'State', 'Annual_Rainfall'])['Yield'].mean()[:60].plot(kind = 'line', figsize = (18, 6), rot = 90, marker = 'o', grid = True)"
   ]
  },
  {
   "cell_type": "code",
   "execution_count": 160,
   "metadata": {},
   "outputs": [
    {
     "data": {
      "text/plain": [
       "0.0028618642682307085"
      ]
     },
     "execution_count": 160,
     "metadata": {},
     "output_type": "execute_result"
    }
   ],
   "source": [
    "#What is the correlation between fertilizer usage and yield efficiency\n",
    "df['Fertilizer'].corr(df['Yield'])"
   ]
  },
  {
   "cell_type": "code",
   "execution_count": 161,
   "metadata": {},
   "outputs": [
    {
     "data": {
      "text/plain": [
       "<Axes: xlabel='State'>"
      ]
     },
     "execution_count": 161,
     "metadata": {},
     "output_type": "execute_result"
    },
    {
     "data": {
      "image/png": "[encoded data removed]",
      "text/plain": [
       "<Figure size 1800x600 with 1 Axes>"
      ]
     },
     "metadata": {},
     "output_type": "display_data"
    }
   ],
   "source": [
    "#Are there significant shifts in pesticide usage trends across seasons and regions?\n",
    "df[(df['Crop_Year'] > 2017)].groupby(['Crop_Year', 'State'])['Pesticide'].mean().unstack('Crop_Year').plot(kind = \"bar\", figsize = (18, 6))"
   ]
  },
  {
   "cell_type": "code",
   "execution_count": 162,
   "metadata": {},
   "outputs": [
    {
     "data": {
      "application/vnd.microsoft.datawrangler.viewer.v0+json": {
       "columns": [
        {
         "name": "index",
         "rawType": "int64",
         "type": "integer"
        },
        {
         "name": "Crop_Year",
         "rawType": "int64",
         "type": "integer"
        },
        {
         "name": "Annual_Rainfall",
         "rawType": "float64",
         "type": "float"
        },
        {
         "name": "Crop",
         "rawType": "object",
         "type": "string"
        },
        {
         "name": "Yield",
         "rawType": "float64",
         "type": "float"
        }
       ],
       "conversionMethod": "pd.DataFrame",
       "ref": "4694d7b7-a1e1-449f-9845-0f93f0a931ed",
       "rows": [
        [
         "0",
         "2017",
         "417.1",
         "Arhar/Tur",
         "1.108333333"
        ],
        [
         "1",
         "2017",
         "417.1",
         "Bajra",
         "1.69047619"
        ],
        [
         "2",
         "2017",
         "417.1",
         "Barley",
         "3.711333333"
        ],
        [
         "3",
         "2017",
         "417.1",
         "Castor seed",
         "1.0"
        ],
        [
         "4",
         "2017",
         "417.1",
         "Coriander",
         "2.690588235"
        ],
        [
         "5",
         "2017",
         "417.1",
         "Cotton(lint)",
         "2.69375"
        ],
        [
         "6",
         "2017",
         "417.1",
         "Garlic",
         "12.01368421"
        ],
        [
         "7",
         "2017",
         "417.1",
         "Ginger",
         "7.713333333"
        ],
        [
         "8",
         "2017",
         "417.1",
         "Gram",
         "1.284615385"
        ],
        [
         "9",
         "2017",
         "417.1",
         "Groundnut",
         "1.416666667"
        ],
        [
         "10",
         "2017",
         "417.1",
         "Guar seed",
         "0.766923077"
        ],
        [
         "11",
         "2017",
         "417.1",
         "Horse-gram",
         "0.145"
        ],
        [
         "12",
         "2017",
         "417.1",
         "Jowar",
         "0.478181818"
        ],
        [
         "13",
         "2017",
         "417.1",
         "Maize",
         "2.711"
        ],
        [
         "14",
         "2017",
         "417.1",
         "Masoor",
         "0.846"
        ],
        [
         "15",
         "2017",
         "417.1",
         "Moong(Green Gram)",
         "0.416666667"
        ],
        [
         "16",
         "2017",
         "417.1",
         "Moth",
         "0.3625"
        ],
        [
         "17",
         "2017",
         "417.1",
         "Onion",
         "23.97666667"
        ],
        [
         "18",
         "2017",
         "417.1",
         "Peas & beans (Pulses)",
         "5.541984126999999"
        ],
        [
         "19",
         "2017",
         "417.1",
         "Potato",
         "26.06142857"
        ],
        [
         "20",
         "2017",
         "417.1",
         "Rapeseed &Mustard",
         "2.027727273"
        ],
        [
         "21",
         "2017",
         "417.1",
         "Rice",
         "3.096190476"
        ],
        [
         "22",
         "2017",
         "417.1",
         "Sesamum",
         "0.4875"
        ],
        [
         "23",
         "2017",
         "417.1",
         "Sugarcane",
         "82.12473684"
        ],
        [
         "24",
         "2017",
         "417.1",
         "Sunflower",
         "3.553333333"
        ],
        [
         "25",
         "2017",
         "417.1",
         "Turmeric",
         "12.501"
        ],
        [
         "26",
         "2017",
         "417.1",
         "Urad",
         "0.32"
        ],
        [
         "27",
         "2017",
         "417.1",
         "Wheat",
         "4.705454545"
        ],
        [
         "28",
         "2017",
         "417.1",
         "other oilseeds",
         "1.2"
        ],
        [
         "29",
         "2017",
         "497.5",
         "Arhar/Tur",
         "1.045454545"
        ],
        [
         "30",
         "2017",
         "497.5",
         "Bajra",
         "0.65"
        ],
        [
         "31",
         "2017",
         "497.5",
         "Barley",
         "3.723076923"
        ],
        [
         "32",
         "2017",
         "497.5",
         "Cotton(lint)",
         "4.1875"
        ],
        [
         "33",
         "2017",
         "497.5",
         "Gram",
         "1.298571429"
        ],
        [
         "34",
         "2017",
         "497.5",
         "Groundnut",
         "1.92"
        ],
        [
         "35",
         "2017",
         "497.5",
         "Guar seed",
         "1.054285714"
        ],
        [
         "36",
         "2017",
         "497.5",
         "Maize",
         "3.750833333"
        ],
        [
         "37",
         "2017",
         "497.5",
         "Masoor",
         "0.75"
        ],
        [
         "38",
         "2017",
         "497.5",
         "Moong(Green Gram)",
         "0.8548636365"
        ],
        [
         "39",
         "2017",
         "497.5",
         "Peas & beans (Pulses)",
         "1.24"
        ],
        [
         "40",
         "2017",
         "497.5",
         "Rapeseed &Mustard",
         "1.469090909"
        ],
        [
         "41",
         "2017",
         "497.5",
         "Rice",
         "4.252727273"
        ],
        [
         "42",
         "2017",
         "497.5",
         "Sesamum",
         "0.292222222"
        ],
        [
         "43",
         "2017",
         "497.5",
         "Sugarcane",
         "84.3725"
        ],
        [
         "44",
         "2017",
         "497.5",
         "Sunflower",
         "1.89"
        ],
        [
         "45",
         "2017",
         "497.5",
         "Urad",
         "0.7375"
        ],
        [
         "46",
         "2017",
         "497.5",
         "Wheat",
         "5.013181818"
        ],
        [
         "47",
         "2017",
         "533.7",
         "Bajra",
         "2.17"
        ],
        [
         "48",
         "2017",
         "533.7",
         "Barley",
         "2.59"
        ],
        [
         "49",
         "2017",
         "533.7",
         "Gram",
         "0.4"
        ]
       ],
       "shape": {
        "columns": 4,
        "rows": 826
       }
      },
      "text/html": [
       "<div>\n",
       "<style scoped>\n",
       "    .dataframe tbody tr th:only-of-type {\n",
       "        vertical-align: middle;\n",
       "    }\n",
       "\n",
       "    .dataframe tbody tr th {\n",
       "        vertical-align: top;\n",
       "    }\n",
       "\n",
       "    .dataframe thead th {\n",
       "        text-align: right;\n",
       "    }\n",
       "</style>\n",
       "<table border=\"1\" class=\"dataframe\">\n",
       "  <thead>\n",
       "    <tr style=\"text-align: right;\">\n",
       "      <th></th>\n",
       "      <th>Crop_Year</th>\n",
       "      <th>Annual_Rainfall</th>\n",
       "      <th>Crop</th>\n",
       "      <th>Yield</th>\n",
       "    </tr>\n",
       "  </thead>\n",
       "  <tbody>\n",
       "    <tr>\n",
       "      <th>0</th>\n",
       "      <td>2017</td>\n",
       "      <td>417.1</td>\n",
       "      <td>Arhar/Tur</td>\n",
       "      <td>1.108333</td>\n",
       "    </tr>\n",
       "    <tr>\n",
       "      <th>1</th>\n",
       "      <td>2017</td>\n",
       "      <td>417.1</td>\n",
       "      <td>Bajra</td>\n",
       "      <td>1.690476</td>\n",
       "    </tr>\n",
       "    <tr>\n",
       "      <th>2</th>\n",
       "      <td>2017</td>\n",
       "      <td>417.1</td>\n",
       "      <td>Barley</td>\n",
       "      <td>3.711333</td>\n",
       "    </tr>\n",
       "    <tr>\n",
       "      <th>3</th>\n",
       "      <td>2017</td>\n",
       "      <td>417.1</td>\n",
       "      <td>Castor seed</td>\n",
       "      <td>1.000000</td>\n",
       "    </tr>\n",
       "    <tr>\n",
       "      <th>4</th>\n",
       "      <td>2017</td>\n",
       "      <td>417.1</td>\n",
       "      <td>Coriander</td>\n",
       "      <td>2.690588</td>\n",
       "    </tr>\n",
       "    <tr>\n",
       "      <th>...</th>\n",
       "      <td>...</td>\n",
       "      <td>...</td>\n",
       "      <td>...</td>\n",
       "      <td>...</td>\n",
       "    </tr>\n",
       "    <tr>\n",
       "      <th>821</th>\n",
       "      <td>2017</td>\n",
       "      <td>4472.3</td>\n",
       "      <td>Sweet potato</td>\n",
       "      <td>3.694545</td>\n",
       "    </tr>\n",
       "    <tr>\n",
       "      <th>822</th>\n",
       "      <td>2017</td>\n",
       "      <td>4472.3</td>\n",
       "      <td>Tapioca</td>\n",
       "      <td>7.553636</td>\n",
       "    </tr>\n",
       "    <tr>\n",
       "      <th>823</th>\n",
       "      <td>2017</td>\n",
       "      <td>4472.3</td>\n",
       "      <td>Tobacco</td>\n",
       "      <td>1.055000</td>\n",
       "    </tr>\n",
       "    <tr>\n",
       "      <th>824</th>\n",
       "      <td>2017</td>\n",
       "      <td>4472.3</td>\n",
       "      <td>Turmeric</td>\n",
       "      <td>5.915455</td>\n",
       "    </tr>\n",
       "    <tr>\n",
       "      <th>825</th>\n",
       "      <td>2017</td>\n",
       "      <td>4472.3</td>\n",
       "      <td>Wheat</td>\n",
       "      <td>1.636000</td>\n",
       "    </tr>\n",
       "  </tbody>\n",
       "</table>\n",
       "<p>826 rows × 4 columns</p>\n",
       "</div>"
      ],
      "text/plain": [
       "     Crop_Year  Annual_Rainfall          Crop     Yield\n",
       "0         2017            417.1     Arhar/Tur  1.108333\n",
       "1         2017            417.1         Bajra  1.690476\n",
       "2         2017            417.1        Barley  3.711333\n",
       "3         2017            417.1   Castor seed  1.000000\n",
       "4         2017            417.1     Coriander  2.690588\n",
       "..         ...              ...           ...       ...\n",
       "821       2017           4472.3  Sweet potato  3.694545\n",
       "822       2017           4472.3       Tapioca  7.553636\n",
       "823       2017           4472.3       Tobacco  1.055000\n",
       "824       2017           4472.3      Turmeric  5.915455\n",
       "825       2017           4472.3         Wheat  1.636000\n",
       "\n",
       "[826 rows x 4 columns]"
      ]
     },
     "execution_count": 162,
     "metadata": {},
     "output_type": "execute_result"
    }
   ],
   "source": [
    "#Which crops are most sensitive to fluctuations in rainfall and climate\n",
    "crop_fluctuations = df[(df['Crop_Year']  == 2017)].groupby(['Crop_Year', 'Annual_Rainfall', 'Crop'])['Yield'].mean()\n",
    "crop_fluctuations.reset_index().sort_values(by = ['Crop_Year', 'Annual_Rainfall'], ascending = [True, True])"
   ]
  },
  {
   "cell_type": "code",
   "execution_count": 163,
   "metadata": {},
   "outputs": [
    {
     "data": {
      "text/plain": [
       "<Axes: xlabel='Crop_Year,Annual_Rainfall,Crop'>"
      ]
     },
     "execution_count": 163,
     "metadata": {},
     "output_type": "execute_result"
    },
    {
     "data": {
      "image/png": "[encoded data removed]",
      "text/plain": [
       "<Figure size 1800x600 with 1 Axes>"
      ]
     },
     "metadata": {},
     "output_type": "display_data"
    }
   ],
   "source": [
    "crop_fluctuations[:100].plot(kind = \"line\", figsize= (18, 6), rot = 90)"
   ]
  },
  {
   "cell_type": "code",
   "execution_count": 164,
   "metadata": {},
   "outputs": [
    {
     "data": {
      "application/vnd.microsoft.datawrangler.viewer.v0+json": {
       "columns": [
        {
         "name": "index",
         "rawType": "int64",
         "type": "integer"
        },
        {
         "name": "Crop_Year",
         "rawType": "int64",
         "type": "integer"
        },
        {
         "name": "Crop",
         "rawType": "object",
         "type": "string"
        },
        {
         "name": "Production",
         "rawType": "int64",
         "type": "integer"
        }
       ],
       "conversionMethod": "pd.DataFrame",
       "ref": "29f77d00-a622-4396-bbb3-2cf489ff56e4",
       "rows": [
        [
         "9",
         "1997",
         "Coconut ",
         "5643107340"
        ],
        [
         "42",
         "1997",
         "Sugarcane",
         "200252854"
        ],
        [
         "36",
         "1997",
         "Rice",
         "61127362"
        ],
        [
         "49",
         "1997",
         "Wheat",
         "57999331"
        ],
        [
         "27",
         "1997",
         "Niger seed",
         "38681541"
        ],
        [
         "33",
         "1997",
         "Potato",
         "14500880"
        ],
        [
         "19",
         "1997",
         "Jute",
         "9939551"
        ],
        [
         "11",
         "1997",
         "Cotton(lint)",
         "9218484"
        ],
        [
         "22",
         "1997",
         "Maize",
         "8810504"
        ],
        [
         "18",
         "1997",
         "Jowar",
         "7042035"
        ],
        [
         "16",
         "1997",
         "Groundnut",
         "5003168"
        ],
        [
         "41",
         "1997",
         "Soyabean",
         "4907013"
        ],
        [
         "2",
         "1997",
         "Bajra",
         "4903518"
        ],
        [
         "45",
         "1997",
         "Tapioca",
         "2881590"
        ],
        [
         "35",
         "1997",
         "Rapeseed &Mustard",
         "1792139"
        ],
        [
         "1",
         "1997",
         "Arhar/Tur",
         "1677966"
        ],
        [
         "34",
         "1997",
         "Ragi",
         "1657002"
        ],
        [
         "15",
         "1997",
         "Gram",
         "1629603"
        ],
        [
         "3",
         "1997",
         "Banana",
         "1612186"
        ],
        [
         "4",
         "1997",
         "Barley",
         "1135228"
        ],
        [
         "29",
         "1997",
         "Onion",
         "980906"
        ],
        [
         "24",
         "1997",
         "Mesta",
         "837076"
        ],
        [
         "48",
         "1997",
         "Urad",
         "785671"
        ],
        [
         "8",
         "1997",
         "Castor seed",
         "729459"
        ],
        [
         "26",
         "1997",
         "Moth",
         "595657"
        ],
        [
         "12",
         "1997",
         "Dry chillies",
         "576701"
        ],
        [
         "25",
         "1997",
         "Moong(Green Gram)",
         "536008"
        ],
        [
         "40",
         "1997",
         "Small millets",
         "510748"
        ],
        [
         "32",
         "1997",
         "Peas & beans (Pulses)",
         "497641"
        ],
        [
         "23",
         "1997",
         "Masoor",
         "403830"
        ],
        [
         "46",
         "1997",
         "Tobacco",
         "401209"
        ],
        [
         "39",
         "1997",
         "Sesamum",
         "385712"
        ],
        [
         "0",
         "1997",
         "Arecanut",
         "308584"
        ],
        [
         "17",
         "1997",
         "Horse-gram",
         "242414"
        ],
        [
         "44",
         "1997",
         "Sweet potato",
         "235719"
        ],
        [
         "43",
         "1997",
         "Sunflower",
         "233818"
        ],
        [
         "21",
         "1997",
         "Linseed",
         "175142"
        ],
        [
         "30",
         "1997",
         "Other  Rabi pulses",
         "154575"
        ],
        [
         "13",
         "1997",
         "Garlic",
         "141794"
        ],
        [
         "31",
         "1997",
         "Other Kharif pulses",
         "78462"
        ],
        [
         "7",
         "1997",
         "Cashewnut",
         "74142"
        ],
        [
         "47",
         "1997",
         "Turmeric",
         "64984"
        ],
        [
         "5",
         "1997",
         "Black pepper",
         "56444"
        ],
        [
         "14",
         "1997",
         "Ginger",
         "50892"
        ],
        [
         "20",
         "1997",
         "Khesari",
         "28460"
        ],
        [
         "28",
         "1997",
         "Oilseeds total",
         "24290"
        ],
        [
         "38",
         "1997",
         "Sannhamp",
         "11355"
        ],
        [
         "10",
         "1997",
         "Coriander",
         "4362"
        ],
        [
         "37",
         "1997",
         "Safflower",
         "3302"
        ],
        [
         "6",
         "1997",
         "Cardamom",
         "1221"
        ]
       ],
       "shape": {
        "columns": 3,
        "rows": 1260
       }
      },
      "text/html": [
       "<div>\n",
       "<style scoped>\n",
       "    .dataframe tbody tr th:only-of-type {\n",
       "        vertical-align: middle;\n",
       "    }\n",
       "\n",
       "    .dataframe tbody tr th {\n",
       "        vertical-align: top;\n",
       "    }\n",
       "\n",
       "    .dataframe thead th {\n",
       "        text-align: right;\n",
       "    }\n",
       "</style>\n",
       "<table border=\"1\" class=\"dataframe\">\n",
       "  <thead>\n",
       "    <tr style=\"text-align: right;\">\n",
       "      <th></th>\n",
       "      <th>Crop_Year</th>\n",
       "      <th>Crop</th>\n",
       "      <th>Production</th>\n",
       "    </tr>\n",
       "  </thead>\n",
       "  <tbody>\n",
       "    <tr>\n",
       "      <th>9</th>\n",
       "      <td>1997</td>\n",
       "      <td>Coconut</td>\n",
       "      <td>5643107340</td>\n",
       "    </tr>\n",
       "    <tr>\n",
       "      <th>42</th>\n",
       "      <td>1997</td>\n",
       "      <td>Sugarcane</td>\n",
       "      <td>200252854</td>\n",
       "    </tr>\n",
       "    <tr>\n",
       "      <th>36</th>\n",
       "      <td>1997</td>\n",
       "      <td>Rice</td>\n",
       "      <td>61127362</td>\n",
       "    </tr>\n",
       "    <tr>\n",
       "      <th>49</th>\n",
       "      <td>1997</td>\n",
       "      <td>Wheat</td>\n",
       "      <td>57999331</td>\n",
       "    </tr>\n",
       "    <tr>\n",
       "      <th>27</th>\n",
       "      <td>1997</td>\n",
       "      <td>Niger seed</td>\n",
       "      <td>38681541</td>\n",
       "    </tr>\n",
       "    <tr>\n",
       "      <th>...</th>\n",
       "      <td>...</td>\n",
       "      <td>...</td>\n",
       "      <td>...</td>\n",
       "    </tr>\n",
       "    <tr>\n",
       "      <th>1240</th>\n",
       "      <td>2020</td>\n",
       "      <td>Moth</td>\n",
       "      <td>24</td>\n",
       "    </tr>\n",
       "    <tr>\n",
       "      <th>1242</th>\n",
       "      <td>2020</td>\n",
       "      <td>Other  Rabi pulses</td>\n",
       "      <td>21</td>\n",
       "    </tr>\n",
       "    <tr>\n",
       "      <th>1239</th>\n",
       "      <td>2020</td>\n",
       "      <td>Moong(Green Gram)</td>\n",
       "      <td>11</td>\n",
       "    </tr>\n",
       "    <tr>\n",
       "      <th>1255</th>\n",
       "      <td>2020</td>\n",
       "      <td>Tobacco</td>\n",
       "      <td>6</td>\n",
       "    </tr>\n",
       "    <tr>\n",
       "      <th>1254</th>\n",
       "      <td>2020</td>\n",
       "      <td>Sunflower</td>\n",
       "      <td>4</td>\n",
       "    </tr>\n",
       "  </tbody>\n",
       "</table>\n",
       "<p>1260 rows × 3 columns</p>\n",
       "</div>"
      ],
      "text/plain": [
       "      Crop_Year                Crop  Production\n",
       "9          1997            Coconut   5643107340\n",
       "42         1997           Sugarcane   200252854\n",
       "36         1997                Rice    61127362\n",
       "49         1997               Wheat    57999331\n",
       "27         1997          Niger seed    38681541\n",
       "...         ...                 ...         ...\n",
       "1240       2020                Moth          24\n",
       "1242       2020  Other  Rabi pulses          21\n",
       "1239       2020   Moong(Green Gram)          11\n",
       "1255       2020             Tobacco           6\n",
       "1254       2020           Sunflower           4\n",
       "\n",
       "[1260 rows x 3 columns]"
      ]
     },
     "execution_count": 164,
     "metadata": {},
     "output_type": "execute_result"
    }
   ],
   "source": [
    "#Which crops have shown the highest production growth over the years?\n",
    "df.groupby([\"Crop_Year\", \"Crop\"])['Production'].sum().reset_index().sort_values(by = ['Crop_Year', 'Production'], ascending = [True, False])"
   ]
  },
  {
   "cell_type": "code",
   "execution_count": 165,
   "metadata": {},
   "outputs": [
    {
     "data": {
      "application/vnd.microsoft.datawrangler.viewer.v0+json": {
       "columns": [
        {
         "name": "index",
         "rawType": "int64",
         "type": "integer"
        },
        {
         "name": "Crop",
         "rawType": "object",
         "type": "string"
        },
        {
         "name": "Crop_Year",
         "rawType": "int64",
         "type": "integer"
        },
        {
         "name": "Season",
         "rawType": "object",
         "type": "string"
        },
        {
         "name": "State",
         "rawType": "object",
         "type": "string"
        },
        {
         "name": "Area",
         "rawType": "float64",
         "type": "float"
        },
        {
         "name": "Production",
         "rawType": "int64",
         "type": "integer"
        },
        {
         "name": "Annual_Rainfall",
         "rawType": "float64",
         "type": "float"
        },
        {
         "name": "Fertilizer",
         "rawType": "float64",
         "type": "float"
        },
        {
         "name": "Pesticide",
         "rawType": "float64",
         "type": "float"
        },
        {
         "name": "Yield",
         "rawType": "float64",
         "type": "float"
        }
       ],
       "conversionMethod": "pd.DataFrame",
       "ref": "d17a1c13-fff3-4f4e-b43a-5f1da1362e34",
       "rows": [
        [
         "60",
         "Coconut ",
         "1997",
         "Whole Year ",
         "Kerala",
         "884344.0",
         "5210000000",
         "3252.4",
         "84163018.48",
         "274146.64",
         "5376.054286"
        ],
        [
         "246",
         "Coconut ",
         "1998",
         "Whole Year ",
         "Kerala",
         "882288.0",
         "5132000000",
         "3151.5",
         "87170054.4",
         "255863.52",
         "5304.749286"
        ],
        [
         "378",
         "Coconut ",
         "1999",
         "Whole Year ",
         "Kerala",
         "925035.0",
         "5680000000",
         "2914.6",
         "98173964.55",
         "249759.45",
         "5581.025714"
        ],
        [
         "646",
         "Coconut ",
         "2000",
         "Whole Year ",
         "Kerala",
         "925783.0",
         "5536000000",
         "2412.6",
         "90884117.11",
         "240703.58",
         "5617.002143"
        ],
        [
         "911",
         "Coconut ",
         "2001",
         "Whole Year ",
         "Kerala",
         "905718.0",
         "5479000000",
         "2946.7",
         "92500979.34",
         "235486.68",
         "5636.355"
        ],
        [
         "1118",
         "Coconut ",
         "2002",
         "Whole Year ",
         "Kerala",
         "899198.0",
         "5709000000",
         "2511.2",
         "85127074.66",
         "224799.5",
         "5969.78"
        ],
        [
         "1381",
         "Coconut ",
         "2003",
         "Whole Year ",
         "Kerala",
         "898498.0",
         "5876000000",
         "2386.0",
         "88933332.04",
         "215639.52",
         "6097.778571"
        ],
        [
         "1584",
         "Coconut ",
         "2004",
         "Whole Year ",
         "Kerala",
         "899267.0",
         "6001000000",
         "2880.2",
         "97426586.78",
         "188846.07",
         "6112.145714"
        ],
        [
         "1822",
         "Coconut ",
         "2005",
         "Whole Year ",
         "Kerala",
         "897833.0",
         "6326000000",
         "3030.9",
         "107668133.4",
         "188544.93",
         "6500.859286"
        ],
        [
         "2141",
         "Coconut ",
         "2006",
         "Whole Year ",
         "Kerala",
         "872943.0",
         "6054000000",
         "3429.7",
         "111483550.5",
         "192047.46",
         "6522.32"
        ],
        [
         "2376",
         "Coconut ",
         "2007",
         "Whole Year ",
         "Kerala",
         "818812.0",
         "5641000000",
         "3489.6",
         "109229520.8",
         "131009.92",
         "6390.165714"
        ],
        [
         "2671",
         "Coconut ",
         "2008",
         "Whole Year ",
         "Kerala",
         "787769.0",
         "5802000000",
         "2524.8",
         "112682477.8",
         "70899.21",
         "6765.202857"
        ],
        [
         "3000",
         "Coconut ",
         "2009",
         "Whole Year ",
         "Kerala",
         "778618.0",
         "5667000000",
         "2821.5",
         "121324256.8",
         "132365.06",
         "6728.865"
        ],
        [
         "3278",
         "Coconut ",
         "2010",
         "Whole Year ",
         "Kerala",
         "770473.13",
         "5286561000",
         "3131.8",
         "127983291.6",
         "184913.5512",
         "6501.544286"
        ],
        [
         "3572",
         "Coconut ",
         "2011",
         "Whole Year ",
         "Tamil Nadu",
         "419400.0",
         "6200900000",
         "926.5",
         "70257888.0",
         "138402.0",
         "13248.16226"
        ],
        [
         "3771",
         "Coconut ",
         "2012",
         "Whole Year ",
         "Kerala",
         "798162.0",
         "5799000000",
         "2187.6",
         "120362829.6",
         "247430.22",
         "6706.261429"
        ],
        [
         "4013",
         "Coconut ",
         "2013",
         "Whole Year ",
         "Kerala",
         "808647.0",
         "5921000000",
         "3255.4",
         "116841405.0",
         "218334.69",
         "6785.354286"
        ],
        [
         "4302",
         "Coconut ",
         "2014",
         "Whole Year ",
         "Kerala",
         "793856.0",
         "5947000000",
         "3046.4",
         "119840501.8",
         "261972.48",
         "6883.315"
        ],
        [
         "4692",
         "Coconut ",
         "2015",
         "Whole Year ",
         "Tamil Nadu",
         "434875.0",
         "5962500000",
         "1201.9",
         "68671111.25",
         "143508.75",
         "11907.64581"
        ],
        [
         "4997",
         "Coconut ",
         "2016",
         "Whole Year ",
         "Kerala",
         "781496.0",
         "5384000000",
         "2924.3",
         "119764262.0",
         "273523.6",
         "6418.719286"
        ],
        [
         "5338",
         "Coconut ",
         "2017",
         "Whole Year ",
         "Kerala",
         "760443.0",
         "5230000000",
         "2664.8",
         "119724145.9",
         "288968.34",
         "6400.547143"
        ],
        [
         "5682",
         "Coconut ",
         "2018",
         "Whole Year ",
         "Kerala",
         "760946.81",
         "5299000000",
         "2989.7",
         "123425572.6",
         "266331.3835",
         "6426.82"
        ],
        [
         "5962",
         "Coconut ",
         "2019",
         "Whole Year ",
         "Karnataka",
         "610324.0",
         "5030774000",
         "1422.3",
         "104829250.2",
         "225819.88",
         "8344.984"
        ],
        [
         "17342",
         "Sugarcane",
         "2020",
         "Whole Year ",
         "Uttarakhand",
         "90184.0",
         "7970299",
         "1313.947826",
         "17460524.24",
         "33368.08",
         "81.54"
        ]
       ],
       "shape": {
        "columns": 10,
        "rows": 24
       }
      },
      "text/html": [
       "<div>\n",
       "<style scoped>\n",
       "    .dataframe tbody tr th:only-of-type {\n",
       "        vertical-align: middle;\n",
       "    }\n",
       "\n",
       "    .dataframe tbody tr th {\n",
       "        vertical-align: top;\n",
       "    }\n",
       "\n",
       "    .dataframe thead th {\n",
       "        text-align: right;\n",
       "    }\n",
       "</style>\n",
       "<table border=\"1\" class=\"dataframe\">\n",
       "  <thead>\n",
       "    <tr style=\"text-align: right;\">\n",
       "      <th></th>\n",
       "      <th>Crop</th>\n",
       "      <th>Crop_Year</th>\n",
       "      <th>Season</th>\n",
       "      <th>State</th>\n",
       "      <th>Area</th>\n",
       "      <th>Production</th>\n",
       "      <th>Annual_Rainfall</th>\n",
       "      <th>Fertilizer</th>\n",
       "      <th>Pesticide</th>\n",
       "      <th>Yield</th>\n",
       "    </tr>\n",
       "  </thead>\n",
       "  <tbody>\n",
       "    <tr>\n",
       "      <th>60</th>\n",
       "      <td>Coconut</td>\n",
       "      <td>1997</td>\n",
       "      <td>Whole Year</td>\n",
       "      <td>Kerala</td>\n",
       "      <td>884344.00</td>\n",
       "      <td>5210000000</td>\n",
       "      <td>3252.400000</td>\n",
       "      <td>8.416302e+07</td>\n",
       "      <td>274146.6400</td>\n",
       "      <td>5376.054286</td>\n",
       "    </tr>\n",
       "    <tr>\n",
       "      <th>246</th>\n",
       "      <td>Coconut</td>\n",
       "      <td>1998</td>\n",
       "      <td>Whole Year</td>\n",
       "      <td>Kerala</td>\n",
       "      <td>882288.00</td>\n",
       "      <td>5132000000</td>\n",
       "      <td>3151.500000</td>\n",
       "      <td>8.717005e+07</td>\n",
       "      <td>255863.5200</td>\n",
       "      <td>5304.749286</td>\n",
       "    </tr>\n",
       "    <tr>\n",
       "      <th>378</th>\n",
       "      <td>Coconut</td>\n",
       "      <td>1999</td>\n",
       "      <td>Whole Year</td>\n",
       "      <td>Kerala</td>\n",
       "      <td>925035.00</td>\n",
       "      <td>5680000000</td>\n",
       "      <td>2914.600000</td>\n",
       "      <td>9.817396e+07</td>\n",
       "      <td>249759.4500</td>\n",
       "      <td>5581.025714</td>\n",
       "    </tr>\n",
       "    <tr>\n",
       "      <th>646</th>\n",
       "      <td>Coconut</td>\n",
       "      <td>2000</td>\n",
       "      <td>Whole Year</td>\n",
       "      <td>Kerala</td>\n",
       "      <td>925783.00</td>\n",
       "      <td>5536000000</td>\n",
       "      <td>2412.600000</td>\n",
       "      <td>9.088412e+07</td>\n",
       "      <td>240703.5800</td>\n",
       "      <td>5617.002143</td>\n",
       "    </tr>\n",
       "    <tr>\n",
       "      <th>911</th>\n",
       "      <td>Coconut</td>\n",
       "      <td>2001</td>\n",
       "      <td>Whole Year</td>\n",
       "      <td>Kerala</td>\n",
       "      <td>905718.00</td>\n",
       "      <td>5479000000</td>\n",
       "      <td>2946.700000</td>\n",
       "      <td>9.250098e+07</td>\n",
       "      <td>235486.6800</td>\n",
       "      <td>5636.355000</td>\n",
       "    </tr>\n",
       "    <tr>\n",
       "      <th>1118</th>\n",
       "      <td>Coconut</td>\n",
       "      <td>2002</td>\n",
       "      <td>Whole Year</td>\n",
       "      <td>Kerala</td>\n",
       "      <td>899198.00</td>\n",
       "      <td>5709000000</td>\n",
       "      <td>2511.200000</td>\n",
       "      <td>8.512707e+07</td>\n",
       "      <td>224799.5000</td>\n",
       "      <td>5969.780000</td>\n",
       "    </tr>\n",
       "    <tr>\n",
       "      <th>1381</th>\n",
       "      <td>Coconut</td>\n",
       "      <td>2003</td>\n",
       "      <td>Whole Year</td>\n",
       "      <td>Kerala</td>\n",
       "      <td>898498.00</td>\n",
       "      <td>5876000000</td>\n",
       "      <td>2386.000000</td>\n",
       "      <td>8.893333e+07</td>\n",
       "      <td>215639.5200</td>\n",
       "      <td>6097.778571</td>\n",
       "    </tr>\n",
       "    <tr>\n",
       "      <th>1584</th>\n",
       "      <td>Coconut</td>\n",
       "      <td>2004</td>\n",
       "      <td>Whole Year</td>\n",
       "      <td>Kerala</td>\n",
       "      <td>899267.00</td>\n",
       "      <td>6001000000</td>\n",
       "      <td>2880.200000</td>\n",
       "      <td>9.742659e+07</td>\n",
       "      <td>188846.0700</td>\n",
       "      <td>6112.145714</td>\n",
       "    </tr>\n",
       "    <tr>\n",
       "      <th>1822</th>\n",
       "      <td>Coconut</td>\n",
       "      <td>2005</td>\n",
       "      <td>Whole Year</td>\n",
       "      <td>Kerala</td>\n",
       "      <td>897833.00</td>\n",
       "      <td>6326000000</td>\n",
       "      <td>3030.900000</td>\n",
       "      <td>1.076681e+08</td>\n",
       "      <td>188544.9300</td>\n",
       "      <td>6500.859286</td>\n",
       "    </tr>\n",
       "    <tr>\n",
       "      <th>2141</th>\n",
       "      <td>Coconut</td>\n",
       "      <td>2006</td>\n",
       "      <td>Whole Year</td>\n",
       "      <td>Kerala</td>\n",
       "      <td>872943.00</td>\n",
       "      <td>6054000000</td>\n",
       "      <td>3429.700000</td>\n",
       "      <td>1.114836e+08</td>\n",
       "      <td>192047.4600</td>\n",
       "      <td>6522.320000</td>\n",
       "    </tr>\n",
       "    <tr>\n",
       "      <th>2376</th>\n",
       "      <td>Coconut</td>\n",
       "      <td>2007</td>\n",
       "      <td>Whole Year</td>\n",
       "      <td>Kerala</td>\n",
       "      <td>818812.00</td>\n",
       "      <td>5641000000</td>\n",
       "      <td>3489.600000</td>\n",
       "      <td>1.092295e+08</td>\n",
       "      <td>131009.9200</td>\n",
       "      <td>6390.165714</td>\n",
       "    </tr>\n",
       "    <tr>\n",
       "      <th>2671</th>\n",
       "      <td>Coconut</td>\n",
       "      <td>2008</td>\n",
       "      <td>Whole Year</td>\n",
       "      <td>Kerala</td>\n",
       "      <td>787769.00</td>\n",
       "      <td>5802000000</td>\n",
       "      <td>2524.800000</td>\n",
       "      <td>1.126825e+08</td>\n",
       "      <td>70899.2100</td>\n",
       "      <td>6765.202857</td>\n",
       "    </tr>\n",
       "    <tr>\n",
       "      <th>3000</th>\n",
       "      <td>Coconut</td>\n",
       "      <td>2009</td>\n",
       "      <td>Whole Year</td>\n",
       "      <td>Kerala</td>\n",
       "      <td>778618.00</td>\n",
       "      <td>5667000000</td>\n",
       "      <td>2821.500000</td>\n",
       "      <td>1.213243e+08</td>\n",
       "      <td>132365.0600</td>\n",
       "      <td>6728.865000</td>\n",
       "    </tr>\n",
       "    <tr>\n",
       "      <th>3278</th>\n",
       "      <td>Coconut</td>\n",
       "      <td>2010</td>\n",
       "      <td>Whole Year</td>\n",
       "      <td>Kerala</td>\n",
       "      <td>770473.13</td>\n",
       "      <td>5286561000</td>\n",
       "      <td>3131.800000</td>\n",
       "      <td>1.279833e+08</td>\n",
       "      <td>184913.5512</td>\n",
       "      <td>6501.544286</td>\n",
       "    </tr>\n",
       "    <tr>\n",
       "      <th>3572</th>\n",
       "      <td>Coconut</td>\n",
       "      <td>2011</td>\n",
       "      <td>Whole Year</td>\n",
       "      <td>Tamil Nadu</td>\n",
       "      <td>419400.00</td>\n",
       "      <td>6200900000</td>\n",
       "      <td>926.500000</td>\n",
       "      <td>7.025789e+07</td>\n",
       "      <td>138402.0000</td>\n",
       "      <td>13248.162260</td>\n",
       "    </tr>\n",
       "    <tr>\n",
       "      <th>3771</th>\n",
       "      <td>Coconut</td>\n",
       "      <td>2012</td>\n",
       "      <td>Whole Year</td>\n",
       "      <td>Kerala</td>\n",
       "      <td>798162.00</td>\n",
       "      <td>5799000000</td>\n",
       "      <td>2187.600000</td>\n",
       "      <td>1.203628e+08</td>\n",
       "      <td>247430.2200</td>\n",
       "      <td>6706.261429</td>\n",
       "    </tr>\n",
       "    <tr>\n",
       "      <th>4013</th>\n",
       "      <td>Coconut</td>\n",
       "      <td>2013</td>\n",
       "      <td>Whole Year</td>\n",
       "      <td>Kerala</td>\n",
       "      <td>808647.00</td>\n",
       "      <td>5921000000</td>\n",
       "      <td>3255.400000</td>\n",
       "      <td>1.168414e+08</td>\n",
       "      <td>218334.6900</td>\n",
       "      <td>6785.354286</td>\n",
       "    </tr>\n",
       "    <tr>\n",
       "      <th>4302</th>\n",
       "      <td>Coconut</td>\n",
       "      <td>2014</td>\n",
       "      <td>Whole Year</td>\n",
       "      <td>Kerala</td>\n",
       "      <td>793856.00</td>\n",
       "      <td>5947000000</td>\n",
       "      <td>3046.400000</td>\n",
       "      <td>1.198405e+08</td>\n",
       "      <td>261972.4800</td>\n",
       "      <td>6883.315000</td>\n",
       "    </tr>\n",
       "    <tr>\n",
       "      <th>4692</th>\n",
       "      <td>Coconut</td>\n",
       "      <td>2015</td>\n",
       "      <td>Whole Year</td>\n",
       "      <td>Tamil Nadu</td>\n",
       "      <td>434875.00</td>\n",
       "      <td>5962500000</td>\n",
       "      <td>1201.900000</td>\n",
       "      <td>6.867111e+07</td>\n",
       "      <td>143508.7500</td>\n",
       "      <td>11907.645810</td>\n",
       "    </tr>\n",
       "    <tr>\n",
       "      <th>4997</th>\n",
       "      <td>Coconut</td>\n",
       "      <td>2016</td>\n",
       "      <td>Whole Year</td>\n",
       "      <td>Kerala</td>\n",
       "      <td>781496.00</td>\n",
       "      <td>5384000000</td>\n",
       "      <td>2924.300000</td>\n",
       "      <td>1.197643e+08</td>\n",
       "      <td>273523.6000</td>\n",
       "      <td>6418.719286</td>\n",
       "    </tr>\n",
       "    <tr>\n",
       "      <th>5338</th>\n",
       "      <td>Coconut</td>\n",
       "      <td>2017</td>\n",
       "      <td>Whole Year</td>\n",
       "      <td>Kerala</td>\n",
       "      <td>760443.00</td>\n",
       "      <td>5230000000</td>\n",
       "      <td>2664.800000</td>\n",
       "      <td>1.197241e+08</td>\n",
       "      <td>288968.3400</td>\n",
       "      <td>6400.547143</td>\n",
       "    </tr>\n",
       "    <tr>\n",
       "      <th>5682</th>\n",
       "      <td>Coconut</td>\n",
       "      <td>2018</td>\n",
       "      <td>Whole Year</td>\n",
       "      <td>Kerala</td>\n",
       "      <td>760946.81</td>\n",
       "      <td>5299000000</td>\n",
       "      <td>2989.700000</td>\n",
       "      <td>1.234256e+08</td>\n",
       "      <td>266331.3835</td>\n",
       "      <td>6426.820000</td>\n",
       "    </tr>\n",
       "    <tr>\n",
       "      <th>5962</th>\n",
       "      <td>Coconut</td>\n",
       "      <td>2019</td>\n",
       "      <td>Whole Year</td>\n",
       "      <td>Karnataka</td>\n",
       "      <td>610324.00</td>\n",
       "      <td>5030774000</td>\n",
       "      <td>1422.300000</td>\n",
       "      <td>1.048293e+08</td>\n",
       "      <td>225819.8800</td>\n",
       "      <td>8344.984000</td>\n",
       "    </tr>\n",
       "    <tr>\n",
       "      <th>17342</th>\n",
       "      <td>Sugarcane</td>\n",
       "      <td>2020</td>\n",
       "      <td>Whole Year</td>\n",
       "      <td>Uttarakhand</td>\n",
       "      <td>90184.00</td>\n",
       "      <td>7970299</td>\n",
       "      <td>1313.947826</td>\n",
       "      <td>1.746052e+07</td>\n",
       "      <td>33368.0800</td>\n",
       "      <td>81.540000</td>\n",
       "    </tr>\n",
       "  </tbody>\n",
       "</table>\n",
       "</div>"
      ],
      "text/plain": [
       "            Crop  Crop_Year       Season        State       Area  Production  \\\n",
       "60      Coconut        1997  Whole Year        Kerala  884344.00  5210000000   \n",
       "246     Coconut        1998  Whole Year        Kerala  882288.00  5132000000   \n",
       "378     Coconut        1999  Whole Year        Kerala  925035.00  5680000000   \n",
       "646     Coconut        2000  Whole Year        Kerala  925783.00  5536000000   \n",
       "911     Coconut        2001  Whole Year        Kerala  905718.00  5479000000   \n",
       "1118    Coconut        2002  Whole Year        Kerala  899198.00  5709000000   \n",
       "1381    Coconut        2003  Whole Year        Kerala  898498.00  5876000000   \n",
       "1584    Coconut        2004  Whole Year        Kerala  899267.00  6001000000   \n",
       "1822    Coconut        2005  Whole Year        Kerala  897833.00  6326000000   \n",
       "2141    Coconut        2006  Whole Year        Kerala  872943.00  6054000000   \n",
       "2376    Coconut        2007  Whole Year        Kerala  818812.00  5641000000   \n",
       "2671    Coconut        2008  Whole Year        Kerala  787769.00  5802000000   \n",
       "3000    Coconut        2009  Whole Year        Kerala  778618.00  5667000000   \n",
       "3278    Coconut        2010  Whole Year        Kerala  770473.13  5286561000   \n",
       "3572    Coconut        2011  Whole Year    Tamil Nadu  419400.00  6200900000   \n",
       "3771    Coconut        2012  Whole Year        Kerala  798162.00  5799000000   \n",
       "4013    Coconut        2013  Whole Year        Kerala  808647.00  5921000000   \n",
       "4302    Coconut        2014  Whole Year        Kerala  793856.00  5947000000   \n",
       "4692    Coconut        2015  Whole Year    Tamil Nadu  434875.00  5962500000   \n",
       "4997    Coconut        2016  Whole Year        Kerala  781496.00  5384000000   \n",
       "5338    Coconut        2017  Whole Year        Kerala  760443.00  5230000000   \n",
       "5682    Coconut        2018  Whole Year        Kerala  760946.81  5299000000   \n",
       "5962    Coconut        2019  Whole Year     Karnataka  610324.00  5030774000   \n",
       "17342  Sugarcane       2020  Whole Year   Uttarakhand   90184.00     7970299   \n",
       "\n",
       "       Annual_Rainfall    Fertilizer    Pesticide         Yield  \n",
       "60         3252.400000  8.416302e+07  274146.6400   5376.054286  \n",
       "246        3151.500000  8.717005e+07  255863.5200   5304.749286  \n",
       "378        2914.600000  9.817396e+07  249759.4500   5581.025714  \n",
       "646        2412.600000  9.088412e+07  240703.5800   5617.002143  \n",
       "911        2946.700000  9.250098e+07  235486.6800   5636.355000  \n",
       "1118       2511.200000  8.512707e+07  224799.5000   5969.780000  \n",
       "1381       2386.000000  8.893333e+07  215639.5200   6097.778571  \n",
       "1584       2880.200000  9.742659e+07  188846.0700   6112.145714  \n",
       "1822       3030.900000  1.076681e+08  188544.9300   6500.859286  \n",
       "2141       3429.700000  1.114836e+08  192047.4600   6522.320000  \n",
       "2376       3489.600000  1.092295e+08  131009.9200   6390.165714  \n",
       "2671       2524.800000  1.126825e+08   70899.2100   6765.202857  \n",
       "3000       2821.500000  1.213243e+08  132365.0600   6728.865000  \n",
       "3278       3131.800000  1.279833e+08  184913.5512   6501.544286  \n",
       "3572        926.500000  7.025789e+07  138402.0000  13248.162260  \n",
       "3771       2187.600000  1.203628e+08  247430.2200   6706.261429  \n",
       "4013       3255.400000  1.168414e+08  218334.6900   6785.354286  \n",
       "4302       3046.400000  1.198405e+08  261972.4800   6883.315000  \n",
       "4692       1201.900000  6.867111e+07  143508.7500  11907.645810  \n",
       "4997       2924.300000  1.197643e+08  273523.6000   6418.719286  \n",
       "5338       2664.800000  1.197241e+08  288968.3400   6400.547143  \n",
       "5682       2989.700000  1.234256e+08  266331.3835   6426.820000  \n",
       "5962       1422.300000  1.048293e+08  225819.8800   8344.984000  \n",
       "17342      1313.947826  1.746052e+07   33368.0800     81.540000  "
      ]
     },
     "execution_count": 165,
     "metadata": {},
     "output_type": "execute_result"
    }
   ],
   "source": [
    "df.loc[df.groupby(\"Crop_Year\")['Production'].idxmax()]"
   ]
  },
  {
   "cell_type": "code",
   "execution_count": 166,
   "metadata": {},
   "outputs": [
    {
     "data": {
      "application/vnd.microsoft.datawrangler.viewer.v0+json": {
       "columns": [
        {
         "name": "index",
         "rawType": "int64",
         "type": "integer"
        },
        {
         "name": "Crop",
         "rawType": "object",
         "type": "string"
        },
        {
         "name": "Crop_Year",
         "rawType": "int64",
         "type": "integer"
        },
        {
         "name": "Season",
         "rawType": "object",
         "type": "string"
        },
        {
         "name": "State",
         "rawType": "object",
         "type": "string"
        },
        {
         "name": "Area",
         "rawType": "float64",
         "type": "float"
        },
        {
         "name": "Production",
         "rawType": "int64",
         "type": "integer"
        },
        {
         "name": "Annual_Rainfall",
         "rawType": "float64",
         "type": "float"
        },
        {
         "name": "Fertilizer",
         "rawType": "float64",
         "type": "float"
        },
        {
         "name": "Pesticide",
         "rawType": "float64",
         "type": "float"
        },
        {
         "name": "Yield",
         "rawType": "float64",
         "type": "float"
        }
       ],
       "conversionMethod": "pd.DataFrame",
       "ref": "7146ad1a-87e2-4357-a061-89bfb6974945",
       "rows": [
        [
         "0",
         "Coconut ",
         "1997",
         "Whole Year ",
         "Kerala",
         "884344.0",
         "5210000000",
         "3252.4",
         "84163018.48",
         "274146.64",
         "5376.054286"
        ],
        [
         "1",
         "Coconut ",
         "1997",
         "Whole Year ",
         "West Bengal",
         "24273.0",
         "306202300",
         "1852.9",
         "2310061.41",
         "7524.63",
         "13003.78778"
        ],
        [
         "2",
         "Coconut ",
         "1997",
         "Whole Year ",
         "Assam",
         "19656.0",
         "126905000",
         "2051.4",
         "1870661.52",
         "6093.36",
         "5238.051739"
        ],
        [
         "3",
         "Coconut ",
         "1998",
         "Whole Year ",
         "Kerala",
         "882288.0",
         "5132000000",
         "3151.5",
         "87170054.4",
         "255863.52",
         "5304.749286"
        ],
        [
         "4",
         "Coconut ",
         "1998",
         "Whole Year ",
         "Karnataka",
         "310399.0",
         "1611530000",
         "1260.8",
         "30667421.2",
         "90015.71",
         "4692.261111"
        ],
        [
         "5",
         "Coconut ",
         "1998",
         "Whole Year ",
         "West Bengal",
         "24616.0",
         "318174400",
         "2152.5",
         "2432060.8",
         "7138.64",
         "12448.06222"
        ],
        [
         "6",
         "Coconut ",
         "1999",
         "Whole Year ",
         "Kerala",
         "925035.0",
         "5680000000",
         "2914.6",
         "98173964.55",
         "249759.45",
         "5581.025714"
        ],
        [
         "7",
         "Coconut ",
         "1999",
         "Whole Year ",
         "Karnataka",
         "321158.0",
         "1671774000",
         "1203.8",
         "34084498.54",
         "86712.66",
         "4680.495926"
        ],
        [
         "8",
         "Coconut ",
         "1999",
         "Whole Year ",
         "West Bengal",
         "24216.0",
         "324305700",
         "2318.1",
         "2570044.08",
         "6538.32",
         "13592.12778"
        ],
        [
         "9",
         "Coconut ",
         "2000",
         "Whole Year ",
         "Kerala",
         "925783.0",
         "5536000000",
         "2412.6",
         "90884117.11",
         "240703.58",
         "5617.002143"
        ],
        [
         "10",
         "Coconut ",
         "2000",
         "Whole Year ",
         "Karnataka",
         "335996.0",
         "1762403000",
         "1213.3",
         "32984727.32",
         "87358.96",
         "4673.661111"
        ],
        [
         "11",
         "Coconut ",
         "2000",
         "Whole Year ",
         "Andhra Pradesh",
         "102646.0",
         "1092707179",
         "935.6",
         "10076757.82",
         "26687.96",
         "9101.813684"
        ],
        [
         "12",
         "Coconut ",
         "2001",
         "Whole Year ",
         "Kerala",
         "905718.0",
         "5479000000",
         "2946.7",
         "92500979.34",
         "235486.68",
         "5636.355"
        ],
        [
         "13",
         "Coconut ",
         "2001",
         "Whole Year ",
         "Karnataka",
         "369828.0",
         "1503638000",
         "1002.9",
         "37770533.64",
         "96155.28",
         "4164.951481"
        ],
        [
         "14",
         "Coconut ",
         "2001",
         "Whole Year ",
         "Andhra Pradesh",
         "104244.0",
         "1124969850",
         "928.4",
         "10646439.72",
         "27103.44",
         "9057.671111"
        ],
        [
         "15",
         "Coconut ",
         "2002",
         "Whole Year ",
         "Kerala",
         "899198.0",
         "5709000000",
         "2511.2",
         "85127074.66",
         "224799.5",
         "5969.78"
        ],
        [
         "16",
         "Coconut ",
         "2002",
         "Whole Year ",
         "Tamil Nadu",
         "345825.0",
         "2860700000",
         "315.9",
         "32739252.75",
         "86456.25",
         "8497.531111"
        ],
        [
         "17",
         "Coconut ",
         "2002",
         "Whole Year ",
         "Karnataka",
         "375425.0",
         "1525287000",
         "860.8",
         "35541484.75",
         "93856.25",
         "4165.087778"
        ],
        [
         "18",
         "Coconut ",
         "2003",
         "Whole Year ",
         "Kerala",
         "898498.0",
         "5876000000",
         "2386.0",
         "88933332.04",
         "215639.52",
         "6097.778571"
        ],
        [
         "19",
         "Coconut ",
         "2003",
         "Whole Year ",
         "Tamil Nadu",
         "352710.0",
         "2560500000",
         "345.6",
         "34911235.8",
         "84650.4",
         "7781.805714"
        ],
        [
         "20",
         "Coconut ",
         "2003",
         "Whole Year ",
         "Karnataka",
         "375957.0",
         "1529139000",
         "867.6",
         "37212223.86",
         "90229.68",
         "4165.193333"
        ],
        [
         "21",
         "Coconut ",
         "2004",
         "Whole Year ",
         "Kerala",
         "899267.0",
         "6001000000",
         "2880.2",
         "97426586.78",
         "188846.07",
         "6112.145714"
        ],
        [
         "22",
         "Coconut ",
         "2004",
         "Whole Year ",
         "Tamil Nadu",
         "357056.0",
         "4097000000",
         "1034.0",
         "38683447.04",
         "74981.76",
         "10877.70276"
        ],
        [
         "23",
         "Coconut ",
         "2004",
         "Whole Year ",
         "Karnataka",
         "383206.0",
         "1551729000",
         "1117.7",
         "41516538.04",
         "80473.26",
         "4165.395185"
        ],
        [
         "24",
         "Coconut ",
         "2005",
         "Whole Year ",
         "Kerala",
         "897833.0",
         "6326000000",
         "3030.9",
         "107668133.4",
         "188544.93",
         "6500.859286"
        ],
        [
         "25",
         "Coconut ",
         "2005",
         "Whole Year ",
         "Tamil Nadu",
         "370515.0",
         "4867100000",
         "1364.1",
         "44432158.8",
         "77808.15",
         "11777.93172"
        ],
        [
         "26",
         "Coconut ",
         "2005",
         "Whole Year ",
         "Karnataka",
         "395885.0",
         "1606890000",
         "1316.2",
         "47474529.2",
         "83135.85",
         "4165.660741"
        ],
        [
         "27",
         "Coconut ",
         "2006",
         "Whole Year ",
         "Kerala",
         "872943.0",
         "6054000000",
         "3429.7",
         "111483550.5",
         "192047.46",
         "6522.32"
        ],
        [
         "28",
         "Coconut ",
         "2006",
         "Whole Year ",
         "Tamil Nadu",
         "374604.0",
         "5429900000",
         "927.9",
         "47840676.84",
         "82412.88",
         "13584.69138"
        ],
        [
         "29",
         "Coconut ",
         "2006",
         "Whole Year ",
         "Karnataka",
         "403671.0",
         "1635839000",
         "1146.3",
         "51552823.41",
         "88807.62",
         "4164.715926"
        ],
        [
         "30",
         "Coconut ",
         "2007",
         "Whole Year ",
         "Kerala",
         "818812.0",
         "5641000000",
         "3489.6",
         "109229520.8",
         "131009.92",
         "6390.165714"
        ],
        [
         "31",
         "Coconut ",
         "2007",
         "Whole Year ",
         "Tamil Nadu",
         "383366.0",
         "5438500000",
         "1067.2",
         "51141024.4",
         "61338.56",
         "13190.09759"
        ],
        [
         "32",
         "Coconut ",
         "2007",
         "Whole Year ",
         "Karnataka",
         "405328.0",
         "2063855000",
         "1323.3",
         "54070755.2",
         "64852.48",
         "5079.793793"
        ],
        [
         "33",
         "Coconut ",
         "2008",
         "Whole Year ",
         "Kerala",
         "787769.0",
         "5802000000",
         "2524.8",
         "112682477.8",
         "70899.21",
         "6765.202857"
        ],
        [
         "34",
         "Coconut ",
         "2008",
         "Whole Year ",
         "Tamil Nadu",
         "389429.0",
         "5362000000",
         "1201.9",
         "55703924.16",
         "35048.61",
         "13834.07258"
        ],
        [
         "35",
         "Coconut ",
         "2008",
         "Whole Year ",
         "Karnataka",
         "418581.0",
         "2867660000",
         "1164.1",
         "59873826.24",
         "37672.29",
         "6801.366552"
        ],
        [
         "36",
         "Coconut ",
         "2009",
         "Whole Year ",
         "Kerala",
         "778618.0",
         "5667000000",
         "2821.5",
         "121324256.8",
         "132365.06",
         "6728.865"
        ],
        [
         "37",
         "Coconut ",
         "2009",
         "Whole Year ",
         "Tamil Nadu",
         "400466.0",
         "5547100000",
         "928.5",
         "62400612.12",
         "68079.22",
         "14134.65935"
        ],
        [
         "38",
         "Coconut ",
         "2009",
         "Whole Year ",
         "Karnataka",
         "429860.0",
         "3056353000",
         "1321.0",
         "66980785.2",
         "73076.2",
         "7084.002414"
        ],
        [
         "39",
         "Coconut ",
         "2010",
         "Whole Year ",
         "Kerala",
         "770473.13",
         "5286561000",
         "3131.8",
         "127983291.6",
         "184913.5512",
         "6501.544286"
        ],
        [
         "40",
         "Coconut ",
         "2010",
         "Whole Year ",
         "Karnataka",
         "440741.0",
         "4213360000",
         "1317.7",
         "73211487.51",
         "105777.84",
         "9678.503667"
        ],
        [
         "41",
         "Coconut ",
         "2010",
         "Whole Year ",
         "Andhra Pradesh",
         "103945.0",
         "1220268000",
         "1297.0",
         "17266303.95",
         "24946.8",
         "11116.99833"
        ],
        [
         "42",
         "Coconut ",
         "2011",
         "Whole Year ",
         "Tamil Nadu",
         "419400.0",
         "6200900000",
         "926.5",
         "70257888.0",
         "138402.0",
         "13248.16226"
        ],
        [
         "43",
         "Coconut ",
         "2011",
         "Whole Year ",
         "Kerala",
         "820866.94",
         "5940564000",
         "3035.1",
         "137511629.8",
         "270886.0902",
         "6884.550714"
        ],
        [
         "44",
         "Coconut ",
         "2011",
         "Whole Year ",
         "Karnataka",
         "443753.0",
         "4411600000",
         "1178.986364",
         "74337502.56",
         "146438.49",
         "9984.488333"
        ],
        [
         "45",
         "Coconut ",
         "2012",
         "Whole Year ",
         "Kerala",
         "798162.0",
         "5799000000",
         "2187.6",
         "120362829.6",
         "247430.22",
         "6706.261429"
        ],
        [
         "46",
         "Coconut ",
         "2012",
         "Whole Year ",
         "Karnataka",
         "441048.0",
         "4342441000",
         "956.2",
         "66510038.4",
         "136724.88",
         "9923.938333"
        ],
        [
         "47",
         "Coconut ",
         "2012",
         "Whole Year ",
         "Andhra Pradesh",
         "99825.0",
         "1670659000",
         "968.7",
         "15053610.0",
         "30945.75",
         "14794.63"
        ],
        [
         "48",
         "Coconut ",
         "2013",
         "Whole Year ",
         "Kerala",
         "808647.0",
         "5921000000",
         "3255.4",
         "116841405.0",
         "218334.69",
         "6785.354286"
        ],
        [
         "49",
         "Coconut ",
         "2013",
         "Whole Year ",
         "Tamil Nadu",
         "428538.0",
         "4668000000",
         "740.9",
         "61919455.62",
         "115705.26",
         "9606.394516"
        ]
       ],
       "shape": {
        "columns": 10,
        "rows": 72
       }
      },
      "text/html": [
       "<div>\n",
       "<style scoped>\n",
       "    .dataframe tbody tr th:only-of-type {\n",
       "        vertical-align: middle;\n",
       "    }\n",
       "\n",
       "    .dataframe tbody tr th {\n",
       "        vertical-align: top;\n",
       "    }\n",
       "\n",
       "    .dataframe thead th {\n",
       "        text-align: right;\n",
       "    }\n",
       "</style>\n",
       "<table border=\"1\" class=\"dataframe\">\n",
       "  <thead>\n",
       "    <tr style=\"text-align: right;\">\n",
       "      <th></th>\n",
       "      <th>Crop</th>\n",
       "      <th>Crop_Year</th>\n",
       "      <th>Season</th>\n",
       "      <th>State</th>\n",
       "      <th>Area</th>\n",
       "      <th>Production</th>\n",
       "      <th>Annual_Rainfall</th>\n",
       "      <th>Fertilizer</th>\n",
       "      <th>Pesticide</th>\n",
       "      <th>Yield</th>\n",
       "    </tr>\n",
       "  </thead>\n",
       "  <tbody>\n",
       "    <tr>\n",
       "      <th>0</th>\n",
       "      <td>Coconut</td>\n",
       "      <td>1997</td>\n",
       "      <td>Whole Year</td>\n",
       "      <td>Kerala</td>\n",
       "      <td>884344.0</td>\n",
       "      <td>5210000000</td>\n",
       "      <td>3252.400000</td>\n",
       "      <td>8.416302e+07</td>\n",
       "      <td>274146.64</td>\n",
       "      <td>5376.054286</td>\n",
       "    </tr>\n",
       "    <tr>\n",
       "      <th>1</th>\n",
       "      <td>Coconut</td>\n",
       "      <td>1997</td>\n",
       "      <td>Whole Year</td>\n",
       "      <td>West Bengal</td>\n",
       "      <td>24273.0</td>\n",
       "      <td>306202300</td>\n",
       "      <td>1852.900000</td>\n",
       "      <td>2.310061e+06</td>\n",
       "      <td>7524.63</td>\n",
       "      <td>13003.787780</td>\n",
       "    </tr>\n",
       "    <tr>\n",
       "      <th>2</th>\n",
       "      <td>Coconut</td>\n",
       "      <td>1997</td>\n",
       "      <td>Whole Year</td>\n",
       "      <td>Assam</td>\n",
       "      <td>19656.0</td>\n",
       "      <td>126905000</td>\n",
       "      <td>2051.400000</td>\n",
       "      <td>1.870662e+06</td>\n",
       "      <td>6093.36</td>\n",
       "      <td>5238.051739</td>\n",
       "    </tr>\n",
       "    <tr>\n",
       "      <th>3</th>\n",
       "      <td>Coconut</td>\n",
       "      <td>1998</td>\n",
       "      <td>Whole Year</td>\n",
       "      <td>Kerala</td>\n",
       "      <td>882288.0</td>\n",
       "      <td>5132000000</td>\n",
       "      <td>3151.500000</td>\n",
       "      <td>8.717005e+07</td>\n",
       "      <td>255863.52</td>\n",
       "      <td>5304.749286</td>\n",
       "    </tr>\n",
       "    <tr>\n",
       "      <th>4</th>\n",
       "      <td>Coconut</td>\n",
       "      <td>1998</td>\n",
       "      <td>Whole Year</td>\n",
       "      <td>Karnataka</td>\n",
       "      <td>310399.0</td>\n",
       "      <td>1611530000</td>\n",
       "      <td>1260.800000</td>\n",
       "      <td>3.066742e+07</td>\n",
       "      <td>90015.71</td>\n",
       "      <td>4692.261111</td>\n",
       "    </tr>\n",
       "    <tr>\n",
       "      <th>...</th>\n",
       "      <td>...</td>\n",
       "      <td>...</td>\n",
       "      <td>...</td>\n",
       "      <td>...</td>\n",
       "      <td>...</td>\n",
       "      <td>...</td>\n",
       "      <td>...</td>\n",
       "      <td>...</td>\n",
       "      <td>...</td>\n",
       "      <td>...</td>\n",
       "    </tr>\n",
       "    <tr>\n",
       "      <th>67</th>\n",
       "      <td>Coconut</td>\n",
       "      <td>2019</td>\n",
       "      <td>Whole Year</td>\n",
       "      <td>Tamil Nadu</td>\n",
       "      <td>438935.0</td>\n",
       "      <td>4946800000</td>\n",
       "      <td>910.100000</td>\n",
       "      <td>7.539148e+07</td>\n",
       "      <td>162405.95</td>\n",
       "      <td>8795.260556</td>\n",
       "    </tr>\n",
       "    <tr>\n",
       "      <th>68</th>\n",
       "      <td>Coconut</td>\n",
       "      <td>2019</td>\n",
       "      <td>Whole Year</td>\n",
       "      <td>Kerala</td>\n",
       "      <td>760776.0</td>\n",
       "      <td>4814000000</td>\n",
       "      <td>3119.200000</td>\n",
       "      <td>1.306709e+08</td>\n",
       "      <td>281487.12</td>\n",
       "      <td>5882.037143</td>\n",
       "    </tr>\n",
       "    <tr>\n",
       "      <th>69</th>\n",
       "      <td>Sugarcane</td>\n",
       "      <td>2020</td>\n",
       "      <td>Whole Year</td>\n",
       "      <td>Uttarakhand</td>\n",
       "      <td>90184.0</td>\n",
       "      <td>7970299</td>\n",
       "      <td>1313.947826</td>\n",
       "      <td>1.746052e+07</td>\n",
       "      <td>33368.08</td>\n",
       "      <td>81.540000</td>\n",
       "    </tr>\n",
       "    <tr>\n",
       "      <th>70</th>\n",
       "      <td>Wheat</td>\n",
       "      <td>2020</td>\n",
       "      <td>Rabi</td>\n",
       "      <td>Uttarakhand</td>\n",
       "      <td>297189.0</td>\n",
       "      <td>937003</td>\n",
       "      <td>1313.947826</td>\n",
       "      <td>5.753876e+07</td>\n",
       "      <td>109959.93</td>\n",
       "      <td>2.216154</td>\n",
       "    </tr>\n",
       "    <tr>\n",
       "      <th>71</th>\n",
       "      <td>Rice</td>\n",
       "      <td>2020</td>\n",
       "      <td>Kharif</td>\n",
       "      <td>Uttarakhand</td>\n",
       "      <td>241936.0</td>\n",
       "      <td>669372</td>\n",
       "      <td>1313.947826</td>\n",
       "      <td>4.684123e+07</td>\n",
       "      <td>89516.32</td>\n",
       "      <td>2.093077</td>\n",
       "    </tr>\n",
       "  </tbody>\n",
       "</table>\n",
       "<p>72 rows × 10 columns</p>\n",
       "</div>"
      ],
      "text/plain": [
       "         Crop  Crop_Year       Season        State      Area  Production  \\\n",
       "0    Coconut        1997  Whole Year        Kerala  884344.0  5210000000   \n",
       "1    Coconut        1997  Whole Year   West Bengal   24273.0   306202300   \n",
       "2    Coconut        1997  Whole Year         Assam   19656.0   126905000   \n",
       "3    Coconut        1998  Whole Year        Kerala  882288.0  5132000000   \n",
       "4    Coconut        1998  Whole Year     Karnataka  310399.0  1611530000   \n",
       "..        ...        ...          ...          ...       ...         ...   \n",
       "67   Coconut        2019  Whole Year    Tamil Nadu  438935.0  4946800000   \n",
       "68   Coconut        2019  Whole Year        Kerala  760776.0  4814000000   \n",
       "69  Sugarcane       2020  Whole Year   Uttarakhand   90184.0     7970299   \n",
       "70      Wheat       2020  Rabi         Uttarakhand  297189.0      937003   \n",
       "71       Rice       2020  Kharif       Uttarakhand  241936.0      669372   \n",
       "\n",
       "    Annual_Rainfall    Fertilizer  Pesticide         Yield  \n",
       "0       3252.400000  8.416302e+07  274146.64   5376.054286  \n",
       "1       1852.900000  2.310061e+06    7524.63  13003.787780  \n",
       "2       2051.400000  1.870662e+06    6093.36   5238.051739  \n",
       "3       3151.500000  8.717005e+07  255863.52   5304.749286  \n",
       "4       1260.800000  3.066742e+07   90015.71   4692.261111  \n",
       "..              ...           ...        ...           ...  \n",
       "67       910.100000  7.539148e+07  162405.95   8795.260556  \n",
       "68      3119.200000  1.306709e+08  281487.12   5882.037143  \n",
       "69      1313.947826  1.746052e+07   33368.08     81.540000  \n",
       "70      1313.947826  5.753876e+07  109959.93      2.216154  \n",
       "71      1313.947826  4.684123e+07   89516.32      2.093077  \n",
       "\n",
       "[72 rows x 10 columns]"
      ]
     },
     "execution_count": 166,
     "metadata": {},
     "output_type": "execute_result"
    }
   ],
   "source": [
    "df.groupby(\"Crop_Year\").apply(lambda x: x.nlargest(3, 'Production')).reset_index(drop=True)"
   ]
  },
  {
   "cell_type": "code",
   "execution_count": 167,
   "metadata": {},
   "outputs": [
    {
     "data": {
      "application/vnd.microsoft.datawrangler.viewer.v0+json": {
       "columns": [
        {
         "name": "index",
         "rawType": "int64",
         "type": "integer"
        },
        {
         "name": "Crop_Year",
         "rawType": "int64",
         "type": "integer"
        },
        {
         "name": "Crop",
         "rawType": "object",
         "type": "string"
        },
        {
         "name": "Production",
         "rawType": "int64",
         "type": "integer"
        }
       ],
       "conversionMethod": "pd.DataFrame",
       "ref": "0f925759-3de4-441a-b8e4-9b308d19dfca",
       "rows": [
        [
         "9",
         "1997",
         "Coconut ",
         "5643107340"
        ],
        [
         "42",
         "1997",
         "Sugarcane",
         "200252854"
        ],
        [
         "36",
         "1997",
         "Rice",
         "61127362"
        ],
        [
         "49",
         "1997",
         "Wheat",
         "57999331"
        ],
        [
         "27",
         "1997",
         "Niger seed",
         "38681541"
        ],
        [
         "33",
         "1997",
         "Potato",
         "14500880"
        ],
        [
         "19",
         "1997",
         "Jute",
         "9939551"
        ],
        [
         "11",
         "1997",
         "Cotton(lint)",
         "9218484"
        ],
        [
         "22",
         "1997",
         "Maize",
         "8810504"
        ],
        [
         "18",
         "1997",
         "Jowar",
         "7042035"
        ],
        [
         "16",
         "1997",
         "Groundnut",
         "5003168"
        ],
        [
         "41",
         "1997",
         "Soyabean",
         "4907013"
        ],
        [
         "2",
         "1997",
         "Bajra",
         "4903518"
        ],
        [
         "45",
         "1997",
         "Tapioca",
         "2881590"
        ],
        [
         "35",
         "1997",
         "Rapeseed &Mustard",
         "1792139"
        ],
        [
         "1",
         "1997",
         "Arhar/Tur",
         "1677966"
        ],
        [
         "34",
         "1997",
         "Ragi",
         "1657002"
        ],
        [
         "15",
         "1997",
         "Gram",
         "1629603"
        ],
        [
         "3",
         "1997",
         "Banana",
         "1612186"
        ],
        [
         "4",
         "1997",
         "Barley",
         "1135228"
        ],
        [
         "29",
         "1997",
         "Onion",
         "980906"
        ],
        [
         "24",
         "1997",
         "Mesta",
         "837076"
        ],
        [
         "48",
         "1997",
         "Urad",
         "785671"
        ],
        [
         "8",
         "1997",
         "Castor seed",
         "729459"
        ],
        [
         "26",
         "1997",
         "Moth",
         "595657"
        ],
        [
         "12",
         "1997",
         "Dry chillies",
         "576701"
        ],
        [
         "25",
         "1997",
         "Moong(Green Gram)",
         "536008"
        ],
        [
         "40",
         "1997",
         "Small millets",
         "510748"
        ],
        [
         "32",
         "1997",
         "Peas & beans (Pulses)",
         "497641"
        ],
        [
         "23",
         "1997",
         "Masoor",
         "403830"
        ],
        [
         "46",
         "1997",
         "Tobacco",
         "401209"
        ],
        [
         "39",
         "1997",
         "Sesamum",
         "385712"
        ],
        [
         "0",
         "1997",
         "Arecanut",
         "308584"
        ],
        [
         "17",
         "1997",
         "Horse-gram",
         "242414"
        ],
        [
         "44",
         "1997",
         "Sweet potato",
         "235719"
        ],
        [
         "43",
         "1997",
         "Sunflower",
         "233818"
        ],
        [
         "21",
         "1997",
         "Linseed",
         "175142"
        ],
        [
         "30",
         "1997",
         "Other  Rabi pulses",
         "154575"
        ],
        [
         "13",
         "1997",
         "Garlic",
         "141794"
        ],
        [
         "31",
         "1997",
         "Other Kharif pulses",
         "78462"
        ],
        [
         "7",
         "1997",
         "Cashewnut",
         "74142"
        ],
        [
         "47",
         "1997",
         "Turmeric",
         "64984"
        ],
        [
         "5",
         "1997",
         "Black pepper",
         "56444"
        ],
        [
         "14",
         "1997",
         "Ginger",
         "50892"
        ],
        [
         "20",
         "1997",
         "Khesari",
         "28460"
        ],
        [
         "28",
         "1997",
         "Oilseeds total",
         "24290"
        ],
        [
         "38",
         "1997",
         "Sannhamp",
         "11355"
        ],
        [
         "10",
         "1997",
         "Coriander",
         "4362"
        ],
        [
         "37",
         "1997",
         "Safflower",
         "3302"
        ],
        [
         "6",
         "1997",
         "Cardamom",
         "1221"
        ]
       ],
       "shape": {
        "columns": 3,
        "rows": 1260
       }
      },
      "text/html": [
       "<div>\n",
       "<style scoped>\n",
       "    .dataframe tbody tr th:only-of-type {\n",
       "        vertical-align: middle;\n",
       "    }\n",
       "\n",
       "    .dataframe tbody tr th {\n",
       "        vertical-align: top;\n",
       "    }\n",
       "\n",
       "    .dataframe thead th {\n",
       "        text-align: right;\n",
       "    }\n",
       "</style>\n",
       "<table border=\"1\" class=\"dataframe\">\n",
       "  <thead>\n",
       "    <tr style=\"text-align: right;\">\n",
       "      <th></th>\n",
       "      <th>Crop_Year</th>\n",
       "      <th>Crop</th>\n",
       "      <th>Production</th>\n",
       "    </tr>\n",
       "  </thead>\n",
       "  <tbody>\n",
       "    <tr>\n",
       "      <th>9</th>\n",
       "      <td>1997</td>\n",
       "      <td>Coconut</td>\n",
       "      <td>5643107340</td>\n",
       "    </tr>\n",
       "    <tr>\n",
       "      <th>42</th>\n",
       "      <td>1997</td>\n",
       "      <td>Sugarcane</td>\n",
       "      <td>200252854</td>\n",
       "    </tr>\n",
       "    <tr>\n",
       "      <th>36</th>\n",
       "      <td>1997</td>\n",
       "      <td>Rice</td>\n",
       "      <td>61127362</td>\n",
       "    </tr>\n",
       "    <tr>\n",
       "      <th>49</th>\n",
       "      <td>1997</td>\n",
       "      <td>Wheat</td>\n",
       "      <td>57999331</td>\n",
       "    </tr>\n",
       "    <tr>\n",
       "      <th>27</th>\n",
       "      <td>1997</td>\n",
       "      <td>Niger seed</td>\n",
       "      <td>38681541</td>\n",
       "    </tr>\n",
       "    <tr>\n",
       "      <th>...</th>\n",
       "      <td>...</td>\n",
       "      <td>...</td>\n",
       "      <td>...</td>\n",
       "    </tr>\n",
       "    <tr>\n",
       "      <th>1240</th>\n",
       "      <td>2020</td>\n",
       "      <td>Moth</td>\n",
       "      <td>24</td>\n",
       "    </tr>\n",
       "    <tr>\n",
       "      <th>1242</th>\n",
       "      <td>2020</td>\n",
       "      <td>Other  Rabi pulses</td>\n",
       "      <td>21</td>\n",
       "    </tr>\n",
       "    <tr>\n",
       "      <th>1239</th>\n",
       "      <td>2020</td>\n",
       "      <td>Moong(Green Gram)</td>\n",
       "      <td>11</td>\n",
       "    </tr>\n",
       "    <tr>\n",
       "      <th>1255</th>\n",
       "      <td>2020</td>\n",
       "      <td>Tobacco</td>\n",
       "      <td>6</td>\n",
       "    </tr>\n",
       "    <tr>\n",
       "      <th>1254</th>\n",
       "      <td>2020</td>\n",
       "      <td>Sunflower</td>\n",
       "      <td>4</td>\n",
       "    </tr>\n",
       "  </tbody>\n",
       "</table>\n",
       "<p>1260 rows × 3 columns</p>\n",
       "</div>"
      ],
      "text/plain": [
       "      Crop_Year                Crop  Production\n",
       "9          1997            Coconut   5643107340\n",
       "42         1997           Sugarcane   200252854\n",
       "36         1997                Rice    61127362\n",
       "49         1997               Wheat    57999331\n",
       "27         1997          Niger seed    38681541\n",
       "...         ...                 ...         ...\n",
       "1240       2020                Moth          24\n",
       "1242       2020  Other  Rabi pulses          21\n",
       "1239       2020   Moong(Green Gram)          11\n",
       "1255       2020             Tobacco           6\n",
       "1254       2020           Sunflower           4\n",
       "\n",
       "[1260 rows x 3 columns]"
      ]
     },
     "execution_count": 167,
     "metadata": {},
     "output_type": "execute_result"
    }
   ],
   "source": [
    "#What is the average production of each crop per year?\n",
    "df.groupby([\"Crop_Year\", \"Crop\"])['Production'].sum().reset_index().sort_values(by = ['Crop_Year', 'Production'], ascending = [True, False])"
   ]
  },
  {
   "cell_type": "code",
   "execution_count": 192,
   "metadata": {},
   "outputs": [
    {
     "name": "stdout",
     "output_type": "stream",
     "text": [
      "         Season  Crop_Year  Production\n",
      "18  Whole Year        2015   125805090\n",
      "         Season  Crop_Year  Production\n",
      "23  Whole Year        2020     1612759\n"
     ]
    }
   ],
   "source": [
    "#How does production vary between different seasons\n",
    "print(df[(df['Season'] == 'Whole Year ')].groupby(['Season', 'Crop_Year'])['Production'].mean().astype(int).reset_index().sort_values(by = ['Production'], ascending = [False])[:1])\n",
    "print(df[(df['Season'] == 'Whole Year ')].groupby(['Season', 'Crop_Year'])['Production'].mean().astype(int).reset_index().sort_values(by = ['Production'], ascending = [False])[-1:])"
   ]
  },
  {
   "cell_type": "code",
   "execution_count": 203,
   "metadata": {},
   "outputs": [
    {
     "data": {
      "text/plain": [
       "State\n",
       "Andhra Pradesh    46\n",
       "Karnataka         45\n",
       "Tamil Nadu        45\n",
       "Madhya Pradesh    45\n",
       "Chhattisgarh      43\n",
       "West Bengal       42\n",
       "Bihar             42\n",
       "Telangana         40\n",
       "Odisha            40\n",
       "Nagaland          39\n",
       "Name: Crop, dtype: int64"
      ]
     },
     "execution_count": 203,
     "metadata": {},
     "output_type": "execute_result"
    }
   ],
   "source": [
    "#Which states have the most diverse crop production?\n",
    "df.groupby(['State'])['Crop'].nunique().sort_values(ascending = False)[:10]"
   ]
  },
  {
   "cell_type": "code",
   "execution_count": 244,
   "metadata": {},
   "outputs": [
    {
     "data": {
      "image/png": "[encoded data removed]",
      "text/plain": [
       "<Figure size 1800x3000 with 6 Axes>"
      ]
     },
     "metadata": {},
     "output_type": "display_data"
    }
   ],
   "source": [
    "#What is the overall trend of crop production over the past 10 years\n",
    "columns = list(df['Crop'].unique())\n",
    "\n",
    "ffig, axes = plt.subplots(min(len(columns), 6), 1, figsize=(18, 30))\n",
    "plt.subplots_adjust(hspace = 1)\n",
    "for count, crop in enumerate(columns):\n",
    "    df[(df['Crop_Year'] > 2010) & (df['Crop'] == crop)].groupby(['Crop_Year'])['Production'].sum().astype(int).plot(kind = 'line', ax = axes[count], marker = 'o', grid = True, title = crop)\n",
    "    if count == 5:\n",
    "        break"
   ]
  },
  {
   "cell_type": "code",
   "execution_count": 249,
   "metadata": {},
   "outputs": [
    {
     "data": {
      "text/plain": [
       "Crop_Year  Annual_Rainfall\n",
       "1997       473.900000         170472940\n",
       "           661.200000          20009400\n",
       "           690.100000          29301700\n",
       "           798.900000          27238100\n",
       "           927.500000          28552600\n",
       "                                ...    \n",
       "2019       2740.000000           100782\n",
       "           3119.200000        523089106\n",
       "           3844.400000           948652\n",
       "           4489.500000        167213945\n",
       "2020       1313.947826         10177226\n",
       "Name: Production, Length: 657, dtype: int32"
      ]
     },
     "execution_count": 249,
     "metadata": {},
     "output_type": "execute_result"
    }
   ],
   "source": [
    "#How does annual rainfall impact crop production\n",
    "df.groupby(['Crop_Year', 'Annual_Rainfall'])['Production'].sum().astype(int)"
   ]
  },
  {
   "cell_type": "code",
   "execution_count": 260,
   "metadata": {},
   "outputs": [
    {
     "name": "stdout",
     "output_type": "stream",
     "text": [
      "State\n",
      "West Bengal    291986.752179\n",
      "Name: Yield, dtype: float64\n",
      "State\n",
      "Sikkim    278.625476\n",
      "Name: Yield, dtype: float64\n"
     ]
    }
   ],
   "source": [
    "#Which states have the highest and lowest yields\n",
    "print(df.groupby(['State'])['Yield'].sum().sort_values(ascending = False)[:1])\n",
    "print(df.groupby(['State'])['Yield'].sum().sort_values(ascending = False)[-1:])"
   ]
  },
  {
   "cell_type": "code",
   "execution_count": 262,
   "metadata": {},
   "outputs": [
    {
     "data": {
      "text/plain": [
       "Crop_Year\n",
       "1997    166068574\n",
       "1998    150123778\n",
       "1999    147057393\n",
       "2000    147527729\n",
       "2001    145694329\n",
       "2002    142785766\n",
       "2003    149696843\n",
       "2004    148024472\n",
       "2005    147918314\n",
       "2006    152249118\n",
       "2007    152486069\n",
       "2008    150964656\n",
       "2009    148668461\n",
       "2010    158189369\n",
       "2011    154412050\n",
       "2012    158536017\n",
       "2013    157564435\n",
       "2014    154436550\n",
       "2015    155935936\n",
       "2016    160364906\n",
       "2017    162500116\n",
       "2018    161359528\n",
       "2019    169091910\n",
       "2020       917916\n",
       "Name: Area, dtype: int32"
      ]
     },
     "execution_count": 262,
     "metadata": {},
     "output_type": "execute_result"
    }
   ],
   "source": [
    "#What is the total area cultivated per year\n",
    "df.groupby(['Crop_Year'])['Area'].sum().astype(int)"
   ]
  },
  {
   "cell_type": "code",
   "execution_count": 263,
   "metadata": {},
   "outputs": [
    {
     "data": {
      "text/plain": [
       "Index(['Crop', 'Crop_Year', 'Season', 'State', 'Area', 'Production',\n",
       "       'Annual_Rainfall', 'Fertilizer', 'Pesticide', 'Yield'],\n",
       "      dtype='object')"
      ]
     },
     "execution_count": 263,
     "metadata": {},
     "output_type": "execute_result"
    }
   ],
   "source": [
    "df.columns"
   ]
  },
  {
   "cell_type": "code",
   "execution_count": 268,
   "metadata": {},
   "outputs": [
    {
     "data": {
      "text/plain": [
       "'Arecanut'"
      ]
     },
     "execution_count": 268,
     "metadata": {},
     "output_type": "execute_result"
    }
   ],
   "source": [
    "#Which crop requires the most fertilizer per unit of production\n",
    "df['Fertilizer_Intensity'] = df['Fertilizer'] / df['Production']\n",
    "df.groupby('Crop')['Fertilizer_Intensity'].mean().idxmax()"
   ]
  },
  {
   "cell_type": "code",
   "execution_count": 272,
   "metadata": {},
   "outputs": [
    {
     "name": "stdout",
     "output_type": "stream",
     "text": [
      "           Pesticide     Yield\n",
      "Pesticide   1.000000  0.001782\n",
      "Yield       0.001782  1.000000\n"
     ]
    }
   ],
   "source": [
    "#What is the effect of pesticide usage on overall yield\n",
    "correlation = df[['Pesticide', 'Yield']].corr()\n",
    "print(correlation)"
   ]
  }
 ],
 "metadata": {
  "kernelspec": {
   "display_name": "base",
   "language": "python",
   "name": "python3"
  },
  "language_info": {
   "codemirror_mode": {
    "name": "ipython",
    "version": 3
   },
   "file_extension": ".py",
   "mimetype": "text/x-python",
   "name": "python",
   "nbconvert_exporter": "python",
   "pygments_lexer": "ipython3",
   "version": "3.11.7"
  }
 },
 "nbformat": 4,
 "nbformat_minor": 2
}
