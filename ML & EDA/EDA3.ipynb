{
 "cells": [
  {
   "cell_type": "markdown",
   "metadata": {},
   "source": [
    "<h3>\n",
    "<b>\n",
    "EDA & Visualization Questions for Movie Analysis\n",
    "\n",
    "General Movie Insights\n",
    "1.\tWhat are the top 5 highest-grossing movies based on box office revenue?\n",
    "2.\tWhat is the average Rotten Tomatoes score and IMDb rating?\n",
    "3.\tWhich movie genres have the highest and lowest audience scores?\n",
    "4.\tWhat are the most common movie genres?\n",
    "5.\tWhich directors have directed the most movies in the dataset?\n",
    "\n",
    "Handling Data Quality Issues\n",
    "\n",
    "6.\tHow many missing values are present in each column?\n",
    "7.\tAre there any duplicate records in the dataset? If so, how many?\n",
    "8.\tWhat is the distribution of IMDb ratings? Are there any outliers?\n",
    "9.\tAre there any movies with extremely high or low budgets?\n",
    "10.\tHow does the presence of missing values impact the dataset? Should we impute or remove them?\n",
    "\n",
    "Comparing Scores & Ratings\n",
    "\n",
    "11.\tIs there a correlation between Rotten Tomatoes score and Audience score?\n",
    "12.\tDo movies with higher budgets generally have higher IMDb ratings?\n",
    "13.\tWhat is the trend between movie runtime and audience score?\n",
    "14.\tDo older movies have lower Rotten Tomatoes scores than newer ones?\n",
    "15.\tIs there a significant difference in ratings between different movie languages?\n",
    "\n",
    "Time-Based Trends\n",
    "\n",
    "16.\tHow has the average IMDb rating changed over the years?\n",
    "17.\tAre movies becoming longer or shorter over time?\n",
    "18.\tHas the average budget for movies increased over the decades?\n",
    "19.\tWhich decade produced the highest number of highly-rated movies?\n",
    "20.\tIs there a seasonal trend in movie releases?\n",
    "</b>\n",
    "</h3>"
   ]
  },
  {
   "cell_type": "code",
   "execution_count": 114,
   "metadata": {},
   "outputs": [],
   "source": [
    "import numpy as np\n",
    "import seaborn as sns\n",
    "import pandas as pd\n",
    "import matplotlib.pyplot as plt\n",
    "import warnings\n",
    "warnings.filterwarnings(\"ignore\")"
   ]
  },
  {
   "cell_type": "code",
   "execution_count": 115,
   "metadata": {},
   "outputs": [],
   "source": [
    "path = r\"C:\\Users\\gagan\\Desktop\\Mission Robosoft\\Datasets\\Rotten_Tomato.csv\"\n",
    "df = pd.read_csv(path)"
   ]
  },
  {
   "cell_type": "code",
   "execution_count": 116,
   "metadata": {},
   "outputs": [
    {
     "data": {
      "application/vnd.microsoft.datawrangler.viewer.v0+json": {
       "columns": [
        {
         "name": "index",
         "rawType": "int64",
         "type": "integer"
        },
        {
         "name": "Movie_ID",
         "rawType": "int64",
         "type": "integer"
        },
        {
         "name": "Title",
         "rawType": "object",
         "type": "string"
        },
        {
         "name": "Genre",
         "rawType": "object",
         "type": "string"
        },
        {
         "name": "Release_Year",
         "rawType": "int64",
         "type": "integer"
        }
       ],
       "conversionMethod": "pd.DataFrame",
       "ref": "f9fd0111-b3d7-495c-9bdf-94576728b8d1",
       "rows": [
        [
         "0",
         "1",
         "Movie 1",
         "Sci-Fi",
         "2012"
        ],
        [
         "1",
         "2",
         "Movie 2",
         "Adventure",
         "2007"
        ],
        [
         "2",
         "3",
         "Movie 3",
         "Action",
         "1987"
        ]
       ],
       "shape": {
        "columns": 4,
        "rows": 3
       }
      },
      "text/html": [
       "<div>\n",
       "<style scoped>\n",
       "    .dataframe tbody tr th:only-of-type {\n",
       "        vertical-align: middle;\n",
       "    }\n",
       "\n",
       "    .dataframe tbody tr th {\n",
       "        vertical-align: top;\n",
       "    }\n",
       "\n",
       "    .dataframe thead th {\n",
       "        text-align: right;\n",
       "    }\n",
       "</style>\n",
       "<table border=\"1\" class=\"dataframe\">\n",
       "  <thead>\n",
       "    <tr style=\"text-align: right;\">\n",
       "      <th></th>\n",
       "      <th>Movie_ID</th>\n",
       "      <th>Title</th>\n",
       "      <th>Genre</th>\n",
       "      <th>Release_Year</th>\n",
       "    </tr>\n",
       "  </thead>\n",
       "  <tbody>\n",
       "    <tr>\n",
       "      <th>0</th>\n",
       "      <td>1</td>\n",
       "      <td>Movie 1</td>\n",
       "      <td>Sci-Fi</td>\n",
       "      <td>2012</td>\n",
       "    </tr>\n",
       "    <tr>\n",
       "      <th>1</th>\n",
       "      <td>2</td>\n",
       "      <td>Movie 2</td>\n",
       "      <td>Adventure</td>\n",
       "      <td>2007</td>\n",
       "    </tr>\n",
       "    <tr>\n",
       "      <th>2</th>\n",
       "      <td>3</td>\n",
       "      <td>Movie 3</td>\n",
       "      <td>Action</td>\n",
       "      <td>1987</td>\n",
       "    </tr>\n",
       "  </tbody>\n",
       "</table>\n",
       "</div>"
      ],
      "text/plain": [
       "   Movie_ID    Title      Genre  Release_Year\n",
       "0         1  Movie 1     Sci-Fi          2012\n",
       "1         2  Movie 2  Adventure          2007\n",
       "2         3  Movie 3     Action          1987"
      ]
     },
     "execution_count": 116,
     "metadata": {},
     "output_type": "execute_result"
    }
   ],
   "source": [
    "df.iloc[:, :4].head(3)"
   ]
  },
  {
   "cell_type": "code",
   "execution_count": 117,
   "metadata": {},
   "outputs": [
    {
     "data": {
      "application/vnd.microsoft.datawrangler.viewer.v0+json": {
       "columns": [
        {
         "name": "index",
         "rawType": "int64",
         "type": "integer"
        },
        {
         "name": "Rotten_Tomatoes_Score",
         "rawType": "int64",
         "type": "integer"
        },
        {
         "name": "Audience_Score",
         "rawType": "int64",
         "type": "integer"
        },
        {
         "name": "Budget_Million",
         "rawType": "float64",
         "type": "float"
        },
        {
         "name": "Box_Office_Million",
         "rawType": "float64",
         "type": "float"
        }
       ],
       "conversionMethod": "pd.DataFrame",
       "ref": "19484ba1-5e28-4ac5-8caf-07107254345f",
       "rows": [
        [
         "0",
         "35",
         "91",
         "58.0",
         "237.0"
        ],
        [
         "1",
         "94",
         "48",
         "51.0",
         "228.0"
        ],
        [
         "2",
         "71",
         "27",
         "219.0",
         "998.0"
        ]
       ],
       "shape": {
        "columns": 4,
        "rows": 3
       }
      },
      "text/html": [
       "<div>\n",
       "<style scoped>\n",
       "    .dataframe tbody tr th:only-of-type {\n",
       "        vertical-align: middle;\n",
       "    }\n",
       "\n",
       "    .dataframe tbody tr th {\n",
       "        vertical-align: top;\n",
       "    }\n",
       "\n",
       "    .dataframe thead th {\n",
       "        text-align: right;\n",
       "    }\n",
       "</style>\n",
       "<table border=\"1\" class=\"dataframe\">\n",
       "  <thead>\n",
       "    <tr style=\"text-align: right;\">\n",
       "      <th></th>\n",
       "      <th>Rotten_Tomatoes_Score</th>\n",
       "      <th>Audience_Score</th>\n",
       "      <th>Budget_Million</th>\n",
       "      <th>Box_Office_Million</th>\n",
       "    </tr>\n",
       "  </thead>\n",
       "  <tbody>\n",
       "    <tr>\n",
       "      <th>0</th>\n",
       "      <td>35</td>\n",
       "      <td>91</td>\n",
       "      <td>58.0</td>\n",
       "      <td>237.0</td>\n",
       "    </tr>\n",
       "    <tr>\n",
       "      <th>1</th>\n",
       "      <td>94</td>\n",
       "      <td>48</td>\n",
       "      <td>51.0</td>\n",
       "      <td>228.0</td>\n",
       "    </tr>\n",
       "    <tr>\n",
       "      <th>2</th>\n",
       "      <td>71</td>\n",
       "      <td>27</td>\n",
       "      <td>219.0</td>\n",
       "      <td>998.0</td>\n",
       "    </tr>\n",
       "  </tbody>\n",
       "</table>\n",
       "</div>"
      ],
      "text/plain": [
       "   Rotten_Tomatoes_Score  Audience_Score  Budget_Million  Box_Office_Million\n",
       "0                     35              91            58.0               237.0\n",
       "1                     94              48            51.0               228.0\n",
       "2                     71              27           219.0               998.0"
      ]
     },
     "execution_count": 117,
     "metadata": {},
     "output_type": "execute_result"
    }
   ],
   "source": [
    "df.iloc[:, 4:8].head(3)"
   ]
  },
  {
   "cell_type": "code",
   "execution_count": 118,
   "metadata": {},
   "outputs": [
    {
     "data": {
      "application/vnd.microsoft.datawrangler.viewer.v0+json": {
       "columns": [
        {
         "name": "index",
         "rawType": "int64",
         "type": "integer"
        },
        {
         "name": "Director",
         "rawType": "object",
         "type": "string"
        },
        {
         "name": "Lead_Actor",
         "rawType": "object",
         "type": "string"
        },
        {
         "name": "IMDb_Rating",
         "rawType": "float64",
         "type": "float"
        },
        {
         "name": "Runtime_Minutes",
         "rawType": "float64",
         "type": "float"
        }
       ],
       "conversionMethod": "pd.DataFrame",
       "ref": "bc3bee46-3fd8-402d-93a2-4e6c4ba753b9",
       "rows": [
        [
         "0",
         "Christopher Nolan",
         "Chris Hemsworth",
         "3.0144772313100887",
         "158.0"
        ],
        [
         "1",
         "Denis Villeneuve",
         "Meryl Streep",
         "3.688305335612785",
         "102.0"
        ],
        [
         "2",
         "David Fincher",
         "Tom Hanks",
         "6.138417639892124",
         "118.0"
        ]
       ],
       "shape": {
        "columns": 4,
        "rows": 3
       }
      },
      "text/html": [
       "<div>\n",
       "<style scoped>\n",
       "    .dataframe tbody tr th:only-of-type {\n",
       "        vertical-align: middle;\n",
       "    }\n",
       "\n",
       "    .dataframe tbody tr th {\n",
       "        vertical-align: top;\n",
       "    }\n",
       "\n",
       "    .dataframe thead th {\n",
       "        text-align: right;\n",
       "    }\n",
       "</style>\n",
       "<table border=\"1\" class=\"dataframe\">\n",
       "  <thead>\n",
       "    <tr style=\"text-align: right;\">\n",
       "      <th></th>\n",
       "      <th>Director</th>\n",
       "      <th>Lead_Actor</th>\n",
       "      <th>IMDb_Rating</th>\n",
       "      <th>Runtime_Minutes</th>\n",
       "    </tr>\n",
       "  </thead>\n",
       "  <tbody>\n",
       "    <tr>\n",
       "      <th>0</th>\n",
       "      <td>Christopher Nolan</td>\n",
       "      <td>Chris Hemsworth</td>\n",
       "      <td>3.014477</td>\n",
       "      <td>158.0</td>\n",
       "    </tr>\n",
       "    <tr>\n",
       "      <th>1</th>\n",
       "      <td>Denis Villeneuve</td>\n",
       "      <td>Meryl Streep</td>\n",
       "      <td>3.688305</td>\n",
       "      <td>102.0</td>\n",
       "    </tr>\n",
       "    <tr>\n",
       "      <th>2</th>\n",
       "      <td>David Fincher</td>\n",
       "      <td>Tom Hanks</td>\n",
       "      <td>6.138418</td>\n",
       "      <td>118.0</td>\n",
       "    </tr>\n",
       "  </tbody>\n",
       "</table>\n",
       "</div>"
      ],
      "text/plain": [
       "            Director       Lead_Actor  IMDb_Rating  Runtime_Minutes\n",
       "0  Christopher Nolan  Chris Hemsworth     3.014477            158.0\n",
       "1   Denis Villeneuve     Meryl Streep     3.688305            102.0\n",
       "2      David Fincher        Tom Hanks     6.138418            118.0"
      ]
     },
     "execution_count": 118,
     "metadata": {},
     "output_type": "execute_result"
    }
   ],
   "source": [
    "df.iloc[:, 8:12].head(3)"
   ]
  },
  {
   "cell_type": "code",
   "execution_count": 119,
   "metadata": {},
   "outputs": [
    {
     "data": {
      "application/vnd.microsoft.datawrangler.viewer.v0+json": {
       "columns": [
        {
         "name": "index",
         "rawType": "int64",
         "type": "integer"
        },
        {
         "name": "Votes",
         "rawType": "float64",
         "type": "float"
        },
        {
         "name": "Language",
         "rawType": "object",
         "type": "string"
        }
       ],
       "conversionMethod": "pd.DataFrame",
       "ref": "c164e2a0-5f6d-4c60-9bc1-d7a93b20e81a",
       "rows": [
        [
         "0",
         "383035.0",
         "French"
        ],
        [
         "1",
         "108971.0",
         "Korean"
        ],
        [
         "2",
         "13149.0",
         "Mandarin"
        ]
       ],
       "shape": {
        "columns": 2,
        "rows": 3
       }
      },
      "text/html": [
       "<div>\n",
       "<style scoped>\n",
       "    .dataframe tbody tr th:only-of-type {\n",
       "        vertical-align: middle;\n",
       "    }\n",
       "\n",
       "    .dataframe tbody tr th {\n",
       "        vertical-align: top;\n",
       "    }\n",
       "\n",
       "    .dataframe thead th {\n",
       "        text-align: right;\n",
       "    }\n",
       "</style>\n",
       "<table border=\"1\" class=\"dataframe\">\n",
       "  <thead>\n",
       "    <tr style=\"text-align: right;\">\n",
       "      <th></th>\n",
       "      <th>Votes</th>\n",
       "      <th>Language</th>\n",
       "    </tr>\n",
       "  </thead>\n",
       "  <tbody>\n",
       "    <tr>\n",
       "      <th>0</th>\n",
       "      <td>383035.0</td>\n",
       "      <td>French</td>\n",
       "    </tr>\n",
       "    <tr>\n",
       "      <th>1</th>\n",
       "      <td>108971.0</td>\n",
       "      <td>Korean</td>\n",
       "    </tr>\n",
       "    <tr>\n",
       "      <th>2</th>\n",
       "      <td>13149.0</td>\n",
       "      <td>Mandarin</td>\n",
       "    </tr>\n",
       "  </tbody>\n",
       "</table>\n",
       "</div>"
      ],
      "text/plain": [
       "      Votes  Language\n",
       "0  383035.0    French\n",
       "1  108971.0    Korean\n",
       "2   13149.0  Mandarin"
      ]
     },
     "execution_count": 119,
     "metadata": {},
     "output_type": "execute_result"
    }
   ],
   "source": [
    "df.iloc[:, 12:].head(3)"
   ]
  },
  {
   "cell_type": "code",
   "execution_count": 120,
   "metadata": {},
   "outputs": [
    {
     "data": {
      "application/vnd.microsoft.datawrangler.viewer.v0+json": {
       "columns": [
        {
         "name": "index",
         "rawType": "int64",
         "type": "integer"
        },
        {
         "name": "Title",
         "rawType": "object",
         "type": "string"
        },
        {
         "name": "Box_Office_Million",
         "rawType": "float64",
         "type": "float"
        }
       ],
       "conversionMethod": "pd.DataFrame",
       "ref": "f822c8ee-97fe-4a03-a656-273adc8ca7b0",
       "rows": [
        [
         "23",
         "Movie 3",
         "1996.0"
        ],
        [
         "34",
         "Movie 4",
         "1670.0"
        ],
        [
         "1",
         "Movie 10",
         "993.0"
        ],
        [
         "85",
         "Movie 86",
         "993.0"
        ],
        [
         "50",
         "Movie 54",
         "987.0"
        ],
        [
         "58",
         "Movie 61",
         "981.0"
        ]
       ],
       "shape": {
        "columns": 2,
        "rows": 6
       }
      },
      "text/html": [
       "<div>\n",
       "<style scoped>\n",
       "    .dataframe tbody tr th:only-of-type {\n",
       "        vertical-align: middle;\n",
       "    }\n",
       "\n",
       "    .dataframe tbody tr th {\n",
       "        vertical-align: top;\n",
       "    }\n",
       "\n",
       "    .dataframe thead th {\n",
       "        text-align: right;\n",
       "    }\n",
       "</style>\n",
       "<table border=\"1\" class=\"dataframe\">\n",
       "  <thead>\n",
       "    <tr style=\"text-align: right;\">\n",
       "      <th></th>\n",
       "      <th>Title</th>\n",
       "      <th>Box_Office_Million</th>\n",
       "    </tr>\n",
       "  </thead>\n",
       "  <tbody>\n",
       "    <tr>\n",
       "      <th>23</th>\n",
       "      <td>Movie 3</td>\n",
       "      <td>1996.0</td>\n",
       "    </tr>\n",
       "    <tr>\n",
       "      <th>34</th>\n",
       "      <td>Movie 4</td>\n",
       "      <td>1670.0</td>\n",
       "    </tr>\n",
       "    <tr>\n",
       "      <th>1</th>\n",
       "      <td>Movie 10</td>\n",
       "      <td>993.0</td>\n",
       "    </tr>\n",
       "    <tr>\n",
       "      <th>85</th>\n",
       "      <td>Movie 86</td>\n",
       "      <td>993.0</td>\n",
       "    </tr>\n",
       "    <tr>\n",
       "      <th>50</th>\n",
       "      <td>Movie 54</td>\n",
       "      <td>987.0</td>\n",
       "    </tr>\n",
       "    <tr>\n",
       "      <th>58</th>\n",
       "      <td>Movie 61</td>\n",
       "      <td>981.0</td>\n",
       "    </tr>\n",
       "  </tbody>\n",
       "</table>\n",
       "</div>"
      ],
      "text/plain": [
       "       Title  Box_Office_Million\n",
       "23   Movie 3              1996.0\n",
       "34   Movie 4              1670.0\n",
       "1   Movie 10               993.0\n",
       "85  Movie 86               993.0\n",
       "50  Movie 54               987.0\n",
       "58  Movie 61               981.0"
      ]
     },
     "execution_count": 120,
     "metadata": {},
     "output_type": "execute_result"
    }
   ],
   "source": [
    "#1.\tWhat are the top 5 highest-grossing movies based on box office revenue\n",
    "top_5_highest_grossing = df.groupby(\"Title\")[\"Box_Office_Million\"].sum().reset_index()\n",
    "top_5_highest_grossing.sort_values(by = \"Box_Office_Million\", ascending=False)[:6]"
   ]
  },
  {
   "cell_type": "code",
   "execution_count": 121,
   "metadata": {},
   "outputs": [
    {
     "data": {
      "text/plain": [
       "55.305"
      ]
     },
     "execution_count": 121,
     "metadata": {},
     "output_type": "execute_result"
    }
   ],
   "source": [
    "#What is the average Rotten Tomatoes score and IMDb rating\n",
    "avg_rotten_tomato_rating = df['Rotten_Tomatoes_Score'].mean()\n",
    "round(avg_rotten_tomato_rating, 3)"
   ]
  },
  {
   "cell_type": "code",
   "execution_count": 122,
   "metadata": {},
   "outputs": [
    {
     "data": {
      "application/vnd.microsoft.datawrangler.viewer.v0+json": {
       "columns": [
        {
         "name": "index",
         "rawType": "int64",
         "type": "integer"
        },
        {
         "name": "Genre",
         "rawType": "object",
         "type": "string"
        },
        {
         "name": "Audience_Score",
         "rawType": "float64",
         "type": "float"
        }
       ],
       "conversionMethod": "pd.DataFrame",
       "ref": "bc0607fa-2676-4eaf-ac84-67c6403f4db9",
       "rows": [
        [
         "2",
         "Comedy",
         "58.6"
        ],
        [
         "4",
         "Horror",
         "57.5"
        ],
        [
         "7",
         "Thriller",
         "54.75"
        ],
        [
         "0",
         "Action",
         "52.0"
        ],
        [
         "6",
         "Sci-Fi",
         "51.57142857142857"
        ],
        [
         "5",
         "Romance",
         "48.46153846153846"
        ],
        [
         "3",
         "Drama",
         "48.25"
        ],
        [
         "1",
         "Adventure",
         "48.07142857142857"
        ]
       ],
       "shape": {
        "columns": 2,
        "rows": 8
       }
      },
      "text/html": [
       "<div>\n",
       "<style scoped>\n",
       "    .dataframe tbody tr th:only-of-type {\n",
       "        vertical-align: middle;\n",
       "    }\n",
       "\n",
       "    .dataframe tbody tr th {\n",
       "        vertical-align: top;\n",
       "    }\n",
       "\n",
       "    .dataframe thead th {\n",
       "        text-align: right;\n",
       "    }\n",
       "</style>\n",
       "<table border=\"1\" class=\"dataframe\">\n",
       "  <thead>\n",
       "    <tr style=\"text-align: right;\">\n",
       "      <th></th>\n",
       "      <th>Genre</th>\n",
       "      <th>Audience_Score</th>\n",
       "    </tr>\n",
       "  </thead>\n",
       "  <tbody>\n",
       "    <tr>\n",
       "      <th>2</th>\n",
       "      <td>Comedy</td>\n",
       "      <td>58.600000</td>\n",
       "    </tr>\n",
       "    <tr>\n",
       "      <th>4</th>\n",
       "      <td>Horror</td>\n",
       "      <td>57.500000</td>\n",
       "    </tr>\n",
       "    <tr>\n",
       "      <th>7</th>\n",
       "      <td>Thriller</td>\n",
       "      <td>54.750000</td>\n",
       "    </tr>\n",
       "    <tr>\n",
       "      <th>0</th>\n",
       "      <td>Action</td>\n",
       "      <td>52.000000</td>\n",
       "    </tr>\n",
       "    <tr>\n",
       "      <th>6</th>\n",
       "      <td>Sci-Fi</td>\n",
       "      <td>51.571429</td>\n",
       "    </tr>\n",
       "    <tr>\n",
       "      <th>5</th>\n",
       "      <td>Romance</td>\n",
       "      <td>48.461538</td>\n",
       "    </tr>\n",
       "    <tr>\n",
       "      <th>3</th>\n",
       "      <td>Drama</td>\n",
       "      <td>48.250000</td>\n",
       "    </tr>\n",
       "    <tr>\n",
       "      <th>1</th>\n",
       "      <td>Adventure</td>\n",
       "      <td>48.071429</td>\n",
       "    </tr>\n",
       "  </tbody>\n",
       "</table>\n",
       "</div>"
      ],
      "text/plain": [
       "       Genre  Audience_Score\n",
       "2     Comedy       58.600000\n",
       "4     Horror       57.500000\n",
       "7   Thriller       54.750000\n",
       "0     Action       52.000000\n",
       "6     Sci-Fi       51.571429\n",
       "5    Romance       48.461538\n",
       "3      Drama       48.250000\n",
       "1  Adventure       48.071429"
      ]
     },
     "execution_count": 122,
     "metadata": {},
     "output_type": "execute_result"
    }
   ],
   "source": [
    "#Which movie genres have the highest and lowest audience scores\n",
    "genre_with_low_audience_score = df.groupby(\"Genre\")['Audience_Score'].mean().reset_index()\n",
    "genre_with_low_audience_score.sort_values(by = \"Audience_Score\", ascending = False)[:]"
   ]
  },
  {
   "cell_type": "code",
   "execution_count": 123,
   "metadata": {},
   "outputs": [
    {
     "data": {
      "application/vnd.microsoft.datawrangler.viewer.v0+json": {
       "columns": [
        {
         "name": "index",
         "rawType": "int64",
         "type": "integer"
        },
        {
         "name": "Genre",
         "rawType": "object",
         "type": "string"
        },
        {
         "name": "Audience_Score",
         "rawType": "float64",
         "type": "float"
        }
       ],
       "conversionMethod": "pd.DataFrame",
       "ref": "107e0b9e-981b-4dcd-897b-236641552890",
       "rows": [
        [
         "1",
         "Adventure",
         "48.07142857142857"
        ]
       ],
       "shape": {
        "columns": 2,
        "rows": 1
       }
      },
      "text/html": [
       "<div>\n",
       "<style scoped>\n",
       "    .dataframe tbody tr th:only-of-type {\n",
       "        vertical-align: middle;\n",
       "    }\n",
       "\n",
       "    .dataframe tbody tr th {\n",
       "        vertical-align: top;\n",
       "    }\n",
       "\n",
       "    .dataframe thead th {\n",
       "        text-align: right;\n",
       "    }\n",
       "</style>\n",
       "<table border=\"1\" class=\"dataframe\">\n",
       "  <thead>\n",
       "    <tr style=\"text-align: right;\">\n",
       "      <th></th>\n",
       "      <th>Genre</th>\n",
       "      <th>Audience_Score</th>\n",
       "    </tr>\n",
       "  </thead>\n",
       "  <tbody>\n",
       "    <tr>\n",
       "      <th>1</th>\n",
       "      <td>Adventure</td>\n",
       "      <td>48.071429</td>\n",
       "    </tr>\n",
       "  </tbody>\n",
       "</table>\n",
       "</div>"
      ],
      "text/plain": [
       "       Genre  Audience_Score\n",
       "1  Adventure       48.071429"
      ]
     },
     "execution_count": 123,
     "metadata": {},
     "output_type": "execute_result"
    }
   ],
   "source": [
    "genre_with_low_audience_score.sort_values(by = \"Audience_Score\", ascending = False)[-1:]"
   ]
  },
  {
   "cell_type": "code",
   "execution_count": 124,
   "metadata": {},
   "outputs": [
    {
     "data": {
      "application/vnd.microsoft.datawrangler.viewer.v0+json": {
       "columns": [
        {
         "name": "index",
         "rawType": "int64",
         "type": "integer"
        },
        {
         "name": "Genre",
         "rawType": "object",
         "type": "string"
        },
        {
         "name": "count",
         "rawType": "int64",
         "type": "integer"
        }
       ],
       "conversionMethod": "pd.DataFrame",
       "ref": "9b31aaa6-ec00-4f67-91c2-fa0ffd0b60d8",
       "rows": [
        [
         "0",
         "Action",
         "18"
        ]
       ],
       "shape": {
        "columns": 2,
        "rows": 1
       }
      },
      "text/html": [
       "<div>\n",
       "<style scoped>\n",
       "    .dataframe tbody tr th:only-of-type {\n",
       "        vertical-align: middle;\n",
       "    }\n",
       "\n",
       "    .dataframe tbody tr th {\n",
       "        vertical-align: top;\n",
       "    }\n",
       "\n",
       "    .dataframe thead th {\n",
       "        text-align: right;\n",
       "    }\n",
       "</style>\n",
       "<table border=\"1\" class=\"dataframe\">\n",
       "  <thead>\n",
       "    <tr style=\"text-align: right;\">\n",
       "      <th></th>\n",
       "      <th>Genre</th>\n",
       "      <th>count</th>\n",
       "    </tr>\n",
       "  </thead>\n",
       "  <tbody>\n",
       "    <tr>\n",
       "      <th>0</th>\n",
       "      <td>Action</td>\n",
       "      <td>18</td>\n",
       "    </tr>\n",
       "  </tbody>\n",
       "</table>\n",
       "</div>"
      ],
      "text/plain": [
       "    Genre  count\n",
       "0  Action     18"
      ]
     },
     "execution_count": 124,
     "metadata": {},
     "output_type": "execute_result"
    }
   ],
   "source": [
    "#What are the most common movie genres\n",
    "most_common_genre = df['Genre'].value_counts().reset_index()\n",
    "most_common_genre.sort_values(by = \"count\", ascending = False)[:1]"
   ]
  },
  {
   "cell_type": "code",
   "execution_count": 125,
   "metadata": {},
   "outputs": [
    {
     "data": {
      "application/vnd.microsoft.datawrangler.viewer.v0+json": {
       "columns": [
        {
         "name": "index",
         "rawType": "int64",
         "type": "integer"
        },
        {
         "name": "Director",
         "rawType": "object",
         "type": "string"
        },
        {
         "name": "Title",
         "rawType": "int64",
         "type": "integer"
        }
       ],
       "conversionMethod": "pd.DataFrame",
       "ref": "d1ab8277-8671-40f8-a895-ddcb2d5dd745",
       "rows": [
        [
         "1",
         "David Fincher",
         "15"
        ],
        [
         "0",
         "Christopher Nolan",
         "14"
        ],
        [
         "8",
         "Steven Spielberg",
         "14"
        ]
       ],
       "shape": {
        "columns": 2,
        "rows": 3
       }
      },
      "text/html": [
       "<div>\n",
       "<style scoped>\n",
       "    .dataframe tbody tr th:only-of-type {\n",
       "        vertical-align: middle;\n",
       "    }\n",
       "\n",
       "    .dataframe tbody tr th {\n",
       "        vertical-align: top;\n",
       "    }\n",
       "\n",
       "    .dataframe thead th {\n",
       "        text-align: right;\n",
       "    }\n",
       "</style>\n",
       "<table border=\"1\" class=\"dataframe\">\n",
       "  <thead>\n",
       "    <tr style=\"text-align: right;\">\n",
       "      <th></th>\n",
       "      <th>Director</th>\n",
       "      <th>Title</th>\n",
       "    </tr>\n",
       "  </thead>\n",
       "  <tbody>\n",
       "    <tr>\n",
       "      <th>1</th>\n",
       "      <td>David Fincher</td>\n",
       "      <td>15</td>\n",
       "    </tr>\n",
       "    <tr>\n",
       "      <th>0</th>\n",
       "      <td>Christopher Nolan</td>\n",
       "      <td>14</td>\n",
       "    </tr>\n",
       "    <tr>\n",
       "      <th>8</th>\n",
       "      <td>Steven Spielberg</td>\n",
       "      <td>14</td>\n",
       "    </tr>\n",
       "  </tbody>\n",
       "</table>\n",
       "</div>"
      ],
      "text/plain": [
       "            Director  Title\n",
       "1      David Fincher     15\n",
       "0  Christopher Nolan     14\n",
       "8   Steven Spielberg     14"
      ]
     },
     "execution_count": 125,
     "metadata": {},
     "output_type": "execute_result"
    }
   ],
   "source": [
    "#Which directors have directed the most movies in the dataset\n",
    "director_with_most_movies = df.groupby(\"Director\")[\"Title\"].count().reset_index()\n",
    "director_with_most_movies.sort_values(by = \"Title\", ascending = False)[:3]"
   ]
  },
  {
   "cell_type": "code",
   "execution_count": 126,
   "metadata": {},
   "outputs": [
    {
     "data": {
      "text/plain": [
       "Movie_ID                 0\n",
       "Title                    0\n",
       "Genre                    0\n",
       "Release_Year             0\n",
       "Rotten_Tomatoes_Score    0\n",
       "Audience_Score           0\n",
       "Budget_Million           5\n",
       "Box_Office_Million       3\n",
       "Director                 0\n",
       "Lead_Actor               0\n",
       "IMDb_Rating              2\n",
       "Runtime_Minutes          1\n",
       "Votes                    5\n",
       "Language                 0\n",
       "dtype: int64"
      ]
     },
     "execution_count": 126,
     "metadata": {},
     "output_type": "execute_result"
    }
   ],
   "source": [
    "#How many missing values are present in each column\n",
    "df.isnull().sum()"
   ]
  },
  {
   "cell_type": "code",
   "execution_count": 127,
   "metadata": {},
   "outputs": [
    {
     "data": {
      "text/plain": [
       "5"
      ]
     },
     "execution_count": 127,
     "metadata": {},
     "output_type": "execute_result"
    }
   ],
   "source": [
    "#Are there any duplicate records in the dataset? If so, how many\n",
    "df.duplicated().sum()"
   ]
  },
  {
   "cell_type": "code",
   "execution_count": 128,
   "metadata": {},
   "outputs": [
    {
     "data": {
      "text/plain": [
       "<Axes: >"
      ]
     },
     "execution_count": 128,
     "metadata": {},
     "output_type": "execute_result"
    },
    {
     "data": {
      "image/png": "[encoded data removed]",
      "text/plain": [
       "<Figure size 1500x800 with 1 Axes>"
      ]
     },
     "metadata": {},
     "output_type": "display_data"
    }
   ],
   "source": [
    "#What is the distribution of IMDb ratings? Are there any outliers\n",
    "plt.figure(figsize=(15, 8))\n",
    "df['IMDb_Rating'].plot(kind = \"box\")"
   ]
  },
  {
   "cell_type": "code",
   "execution_count": 129,
   "metadata": {},
   "outputs": [
    {
     "data": {
      "application/vnd.microsoft.datawrangler.viewer.v0+json": {
       "columns": [
        {
         "name": "index",
         "rawType": "int64",
         "type": "integer"
        },
        {
         "name": "Title",
         "rawType": "object",
         "type": "string"
        },
        {
         "name": "Budget_Million",
         "rawType": "float64",
         "type": "float"
        }
       ],
       "conversionMethod": "pd.DataFrame",
       "ref": "63fc4d5a-21b0-42f3-9d1d-d53b543c4f1d",
       "rows": [
        [
         "23",
         "Movie 3",
         "438.0"
        ]
       ],
       "shape": {
        "columns": 2,
        "rows": 1
       }
      },
      "text/html": [
       "<div>\n",
       "<style scoped>\n",
       "    .dataframe tbody tr th:only-of-type {\n",
       "        vertical-align: middle;\n",
       "    }\n",
       "\n",
       "    .dataframe tbody tr th {\n",
       "        vertical-align: top;\n",
       "    }\n",
       "\n",
       "    .dataframe thead th {\n",
       "        text-align: right;\n",
       "    }\n",
       "</style>\n",
       "<table border=\"1\" class=\"dataframe\">\n",
       "  <thead>\n",
       "    <tr style=\"text-align: right;\">\n",
       "      <th></th>\n",
       "      <th>Title</th>\n",
       "      <th>Budget_Million</th>\n",
       "    </tr>\n",
       "  </thead>\n",
       "  <tbody>\n",
       "    <tr>\n",
       "      <th>23</th>\n",
       "      <td>Movie 3</td>\n",
       "      <td>438.0</td>\n",
       "    </tr>\n",
       "  </tbody>\n",
       "</table>\n",
       "</div>"
      ],
      "text/plain": [
       "      Title  Budget_Million\n",
       "23  Movie 3           438.0"
      ]
     },
     "execution_count": 129,
     "metadata": {},
     "output_type": "execute_result"
    }
   ],
   "source": [
    "#Are there any movies with extremely high or low budgets\n",
    "min_and_max_budget = df.groupby('Title')['Budget_Million'].sum().reset_index()\n",
    "min_and_max_budget.sort_values(by = 'Budget_Million', ascending = False)[:1]"
   ]
  },
  {
   "cell_type": "code",
   "execution_count": 130,
   "metadata": {},
   "outputs": [
    {
     "data": {
      "application/vnd.microsoft.datawrangler.viewer.v0+json": {
       "columns": [
        {
         "name": "index",
         "rawType": "int64",
         "type": "integer"
        },
        {
         "name": "Title",
         "rawType": "object",
         "type": "string"
        },
        {
         "name": "Budget_Million",
         "rawType": "float64",
         "type": "float"
        }
       ],
       "conversionMethod": "pd.DataFrame",
       "ref": "2165d91b-edd8-4a8e-8a79-ad17b5ea4956",
       "rows": [
        [
         "99",
         "Movie 99",
         "0.0"
        ]
       ],
       "shape": {
        "columns": 2,
        "rows": 1
       }
      },
      "text/html": [
       "<div>\n",
       "<style scoped>\n",
       "    .dataframe tbody tr th:only-of-type {\n",
       "        vertical-align: middle;\n",
       "    }\n",
       "\n",
       "    .dataframe tbody tr th {\n",
       "        vertical-align: top;\n",
       "    }\n",
       "\n",
       "    .dataframe thead th {\n",
       "        text-align: right;\n",
       "    }\n",
       "</style>\n",
       "<table border=\"1\" class=\"dataframe\">\n",
       "  <thead>\n",
       "    <tr style=\"text-align: right;\">\n",
       "      <th></th>\n",
       "      <th>Title</th>\n",
       "      <th>Budget_Million</th>\n",
       "    </tr>\n",
       "  </thead>\n",
       "  <tbody>\n",
       "    <tr>\n",
       "      <th>99</th>\n",
       "      <td>Movie 99</td>\n",
       "      <td>0.0</td>\n",
       "    </tr>\n",
       "  </tbody>\n",
       "</table>\n",
       "</div>"
      ],
      "text/plain": [
       "       Title  Budget_Million\n",
       "99  Movie 99             0.0"
      ]
     },
     "execution_count": 130,
     "metadata": {},
     "output_type": "execute_result"
    }
   ],
   "source": [
    "min_and_max_budget.sort_values(by = 'Budget_Million', ascending = False)[-1:]"
   ]
  },
  {
   "cell_type": "code",
   "execution_count": 131,
   "metadata": {},
   "outputs": [],
   "source": [
    "#How does the presence of missing values impact the dataset? Should we impute or remove them\n",
    "cols_with_missing_values = ['Votes', 'Runtime_Minutes', 'IMDb_Rating', 'Box_Office_Million', 'Budget_Million']\n",
    "from sklearn.impute import SimpleImputer\n",
    "imputer = SimpleImputer(strategy = \"mean\", missing_values = np.nan)\n",
    "for i in cols_with_missing_values:\n",
    "    df[[i]] = imputer.fit_transform(df[[i]])"
   ]
  },
  {
   "cell_type": "code",
   "execution_count": 132,
   "metadata": {},
   "outputs": [
    {
     "data": {
      "text/plain": [
       "-0.19517075806572937"
      ]
     },
     "execution_count": 132,
     "metadata": {},
     "output_type": "execute_result"
    }
   ],
   "source": [
    "#Is there a correlation between Rotten Tomatoes score and Audience score\n",
    "df['Rotten_Tomatoes_Score'].corr(df['Audience_Score'])"
   ]
  },
  {
   "cell_type": "code",
   "execution_count": 133,
   "metadata": {},
   "outputs": [
    {
     "data": {
      "application/vnd.microsoft.datawrangler.viewer.v0+json": {
       "columns": [
        {
         "name": "index",
         "rawType": "int64",
         "type": "integer"
        },
        {
         "name": "Title",
         "rawType": "object",
         "type": "string"
        },
        {
         "name": "IMDb_Rating",
         "rawType": "float64",
         "type": "float"
        },
        {
         "name": "Budget_Million",
         "rawType": "float64",
         "type": "float"
        }
       ],
       "conversionMethod": "pd.DataFrame",
       "ref": "189f58a7-4e50-43d5-9c18-4c17bfb9c490",
       "rows": [
        [
         "0",
         "Movie 1",
         "3.0144772313100887",
         "58.0"
        ],
        [
         "1",
         "Movie 2",
         "3.688305335612785",
         "51.0"
        ],
        [
         "2",
         "Movie 3",
         "6.138417639892124",
         "219.0"
        ],
        [
         "3",
         "Movie 4",
         "4.859022235019005",
         "181.0"
        ],
        [
         "4",
         "Movie 5",
         "8.302183561178266",
         "13.0"
        ],
        [
         "5",
         "Movie 6",
         "5.516212665632642",
         "103.0"
        ],
        [
         "6",
         "Movie 7",
         "4.240999908113409",
         "24.0"
        ],
        [
         "7",
         "Movie 8",
         "6.82001490622821",
         "245.0"
        ],
        [
         "8",
         "Movie 9",
         "7.447440518198121",
         "65.0"
        ],
        [
         "9",
         "Movie 10",
         "3.669293355306649",
         "182.0"
        ],
        [
         "10",
         "Movie 11",
         "3.673334514018224",
         "66.0"
        ],
        [
         "11",
         "Movie 12",
         "2.756699988534801",
         "149.0"
        ],
        [
         "12",
         "Movie 13",
         "7.654814105459484",
         "220.0"
        ],
        [
         "13",
         "Movie 14",
         "7.146631693352636",
         "7.0"
        ],
        [
         "14",
         "Movie 15",
         "5.822416130248698",
         "164.0"
        ],
        [
         "15",
         "Movie 16",
         "8.40919314278438",
         "231.0"
        ],
        [
         "16",
         "Movie 17",
         "8.139691070650372",
         "273.0"
        ],
        [
         "17",
         "Movie 18",
         "6.597480550777265",
         "124.0"
        ],
        [
         "18",
         "Movie 19",
         "8.57789896359281",
         "93.0"
        ],
        [
         "19",
         "Movie 20",
         "3.9408884702573777",
         "72.0"
        ],
        [
         "20",
         "Movie 21",
         "3.283437335784095",
         "102.0"
        ],
        [
         "21",
         "Movie 22",
         "4.388247280618927",
         "271.0"
        ],
        [
         "22",
         "Movie 23",
         "2.899607992625204",
         "109.0"
        ],
        [
         "23",
         "Movie 24",
         "6.2181866960072245",
         "127.0"
        ],
        [
         "24",
         "Movie 25",
         "9.05623984606473",
         "33.0"
        ],
        [
         "25",
         "Movie 26",
         "2.7754047846795675",
         "141.0"
        ],
        [
         "26",
         "Movie 27",
         "3.354769398070188",
         "199.0"
        ],
        [
         "27",
         "Movie 28",
         "5.665393197984047",
         "230.0"
        ],
        [
         "28",
         "Movie 29",
         "9.037125122695334",
         "174.0"
        ],
        [
         "29",
         "Movie 30",
         "4.713092734837254",
         "13.0"
        ],
        [
         "30",
         "Movie 31",
         "6.050643660818747",
         "44.0"
        ],
        [
         "31",
         "Movie 32",
         "2.7910100133527447",
         "29.0"
        ],
        [
         "32",
         "Movie 33",
         "3.538402406734622",
         "265.0"
        ],
        [
         "33",
         "Movie 34",
         "9.40641086071193",
         "230.0"
        ],
        [
         "34",
         "Movie 35",
         "9.255830875052318",
         "128.0"
        ],
        [
         "35",
         "Movie 36",
         "2.5345798665408674",
         "42.0"
        ],
        [
         "36",
         "Movie 37",
         "9.162682497962674",
         "255.0"
        ],
        [
         "37",
         "Movie 38",
         "6.973839564708502",
         "180.0"
        ],
        [
         "38",
         "Movie 39",
         "8.575428061640155",
         "94.0"
        ],
        [
         "39",
         "Movie 40",
         "5.683178989437014",
         "41.0"
        ],
        [
         "40",
         "Movie 41",
         "6.109172200054752",
         "180.0"
        ],
        [
         "41",
         "Movie 42",
         "5.921926061798441",
         "288.0"
        ],
        [
         "42",
         "Movie 43",
         "7.168049802822731",
         "85.0"
        ],
        [
         "43",
         "Movie 44",
         "3.4775587832941905",
         "118.0"
        ],
        [
         "44",
         "Movie 45",
         "2.709815129108746",
         "44.0"
        ],
        [
         "45",
         "Movie 46",
         "4.655509591138337",
         "228.0"
        ],
        [
         "46",
         "Movie 47",
         "7.432765339156527",
         "119.0"
        ],
        [
         "47",
         "Movie 48",
         "3.912974164860639",
         "190.0"
        ],
        [
         "48",
         "Movie 49",
         "7.214027033274421",
         "60.0"
        ],
        [
         "49",
         "Movie 50",
         "9.289384322750893",
         "44.0"
        ]
       ],
       "shape": {
        "columns": 3,
        "rows": 105
       }
      },
      "text/html": [
       "<div>\n",
       "<style scoped>\n",
       "    .dataframe tbody tr th:only-of-type {\n",
       "        vertical-align: middle;\n",
       "    }\n",
       "\n",
       "    .dataframe tbody tr th {\n",
       "        vertical-align: top;\n",
       "    }\n",
       "\n",
       "    .dataframe thead th {\n",
       "        text-align: right;\n",
       "    }\n",
       "</style>\n",
       "<table border=\"1\" class=\"dataframe\">\n",
       "  <thead>\n",
       "    <tr style=\"text-align: right;\">\n",
       "      <th></th>\n",
       "      <th>Title</th>\n",
       "      <th>IMDb_Rating</th>\n",
       "      <th>Budget_Million</th>\n",
       "    </tr>\n",
       "  </thead>\n",
       "  <tbody>\n",
       "    <tr>\n",
       "      <th>0</th>\n",
       "      <td>Movie 1</td>\n",
       "      <td>3.014477</td>\n",
       "      <td>58.0</td>\n",
       "    </tr>\n",
       "    <tr>\n",
       "      <th>1</th>\n",
       "      <td>Movie 2</td>\n",
       "      <td>3.688305</td>\n",
       "      <td>51.0</td>\n",
       "    </tr>\n",
       "    <tr>\n",
       "      <th>2</th>\n",
       "      <td>Movie 3</td>\n",
       "      <td>6.138418</td>\n",
       "      <td>219.0</td>\n",
       "    </tr>\n",
       "    <tr>\n",
       "      <th>3</th>\n",
       "      <td>Movie 4</td>\n",
       "      <td>4.859022</td>\n",
       "      <td>181.0</td>\n",
       "    </tr>\n",
       "    <tr>\n",
       "      <th>4</th>\n",
       "      <td>Movie 5</td>\n",
       "      <td>8.302184</td>\n",
       "      <td>13.0</td>\n",
       "    </tr>\n",
       "    <tr>\n",
       "      <th>...</th>\n",
       "      <td>...</td>\n",
       "      <td>...</td>\n",
       "      <td>...</td>\n",
       "    </tr>\n",
       "    <tr>\n",
       "      <th>100</th>\n",
       "      <td>Movie 1</td>\n",
       "      <td>3.014477</td>\n",
       "      <td>58.0</td>\n",
       "    </tr>\n",
       "    <tr>\n",
       "      <th>101</th>\n",
       "      <td>Movie 2</td>\n",
       "      <td>3.688305</td>\n",
       "      <td>51.0</td>\n",
       "    </tr>\n",
       "    <tr>\n",
       "      <th>102</th>\n",
       "      <td>Movie 3</td>\n",
       "      <td>6.138418</td>\n",
       "      <td>219.0</td>\n",
       "    </tr>\n",
       "    <tr>\n",
       "      <th>103</th>\n",
       "      <td>Movie 4</td>\n",
       "      <td>4.859022</td>\n",
       "      <td>181.0</td>\n",
       "    </tr>\n",
       "    <tr>\n",
       "      <th>104</th>\n",
       "      <td>Movie 5</td>\n",
       "      <td>8.302184</td>\n",
       "      <td>13.0</td>\n",
       "    </tr>\n",
       "  </tbody>\n",
       "</table>\n",
       "<p>105 rows × 3 columns</p>\n",
       "</div>"
      ],
      "text/plain": [
       "       Title  IMDb_Rating  Budget_Million\n",
       "0    Movie 1     3.014477            58.0\n",
       "1    Movie 2     3.688305            51.0\n",
       "2    Movie 3     6.138418           219.0\n",
       "3    Movie 4     4.859022           181.0\n",
       "4    Movie 5     8.302184            13.0\n",
       "..       ...          ...             ...\n",
       "100  Movie 1     3.014477            58.0\n",
       "101  Movie 2     3.688305            51.0\n",
       "102  Movie 3     6.138418           219.0\n",
       "103  Movie 4     4.859022           181.0\n",
       "104  Movie 5     8.302184            13.0\n",
       "\n",
       "[105 rows x 3 columns]"
      ]
     },
     "execution_count": 133,
     "metadata": {},
     "output_type": "execute_result"
    }
   ],
   "source": [
    "#Do movies with higher budgets generally have higher IMDb ratings\n",
    "movies_with_imdb_ratings = df.loc[:, ['Title', 'IMDb_Rating', 'Budget_Million']]\n",
    "movies_with_imdb_ratings"
   ]
  },
  {
   "cell_type": "code",
   "execution_count": 134,
   "metadata": {},
   "outputs": [
    {
     "data": {
      "application/vnd.microsoft.datawrangler.viewer.v0+json": {
       "columns": [
        {
         "name": "index",
         "rawType": "int64",
         "type": "integer"
        },
        {
         "name": "Title",
         "rawType": "object",
         "type": "string"
        },
        {
         "name": "IMDb_Rating",
         "rawType": "float64",
         "type": "float"
        },
        {
         "name": "Budget_Million",
         "rawType": "float64",
         "type": "float"
        },
        {
         "name": "Verdict",
         "rawType": "object",
         "type": "string"
        }
       ],
       "conversionMethod": "pd.DataFrame",
       "ref": "a5ba2d68-a8e1-432c-97e5-2004f722904c",
       "rows": [
        [
         "83",
         "Movie 84",
         "4.789232130942671",
         "299.0",
         "Average"
        ],
        [
         "52",
         "Movie 53",
         "5.606251535131998",
         "293.0",
         "Average"
        ],
        [
         "41",
         "Movie 42",
         "5.921926061798441",
         "288.0",
         "Average"
        ],
        [
         "61",
         "Movie 62",
         "8.582334891351028",
         "273.0",
         "Good"
        ],
        [
         "16",
         "Movie 17",
         "8.139691070650372",
         "273.0",
         "Good"
        ]
       ],
       "shape": {
        "columns": 4,
        "rows": 5
       }
      },
      "text/html": [
       "<div>\n",
       "<style scoped>\n",
       "    .dataframe tbody tr th:only-of-type {\n",
       "        vertical-align: middle;\n",
       "    }\n",
       "\n",
       "    .dataframe tbody tr th {\n",
       "        vertical-align: top;\n",
       "    }\n",
       "\n",
       "    .dataframe thead th {\n",
       "        text-align: right;\n",
       "    }\n",
       "</style>\n",
       "<table border=\"1\" class=\"dataframe\">\n",
       "  <thead>\n",
       "    <tr style=\"text-align: right;\">\n",
       "      <th></th>\n",
       "      <th>Title</th>\n",
       "      <th>IMDb_Rating</th>\n",
       "      <th>Budget_Million</th>\n",
       "      <th>Verdict</th>\n",
       "    </tr>\n",
       "  </thead>\n",
       "  <tbody>\n",
       "    <tr>\n",
       "      <th>83</th>\n",
       "      <td>Movie 84</td>\n",
       "      <td>4.789232</td>\n",
       "      <td>299.0</td>\n",
       "      <td>Average</td>\n",
       "    </tr>\n",
       "    <tr>\n",
       "      <th>52</th>\n",
       "      <td>Movie 53</td>\n",
       "      <td>5.606252</td>\n",
       "      <td>293.0</td>\n",
       "      <td>Average</td>\n",
       "    </tr>\n",
       "    <tr>\n",
       "      <th>41</th>\n",
       "      <td>Movie 42</td>\n",
       "      <td>5.921926</td>\n",
       "      <td>288.0</td>\n",
       "      <td>Average</td>\n",
       "    </tr>\n",
       "    <tr>\n",
       "      <th>61</th>\n",
       "      <td>Movie 62</td>\n",
       "      <td>8.582335</td>\n",
       "      <td>273.0</td>\n",
       "      <td>Good</td>\n",
       "    </tr>\n",
       "    <tr>\n",
       "      <th>16</th>\n",
       "      <td>Movie 17</td>\n",
       "      <td>8.139691</td>\n",
       "      <td>273.0</td>\n",
       "      <td>Good</td>\n",
       "    </tr>\n",
       "  </tbody>\n",
       "</table>\n",
       "</div>"
      ],
      "text/plain": [
       "       Title  IMDb_Rating  Budget_Million  Verdict\n",
       "83  Movie 84     4.789232           299.0  Average\n",
       "52  Movie 53     5.606252           293.0  Average\n",
       "41  Movie 42     5.921926           288.0  Average\n",
       "61  Movie 62     8.582335           273.0     Good\n",
       "16  Movie 17     8.139691           273.0     Good"
      ]
     },
     "execution_count": 134,
     "metadata": {},
     "output_type": "execute_result"
    }
   ],
   "source": [
    "def transform(val):\n",
    "    if val > 7 and val <= 10:\n",
    "        return \"Good\"\n",
    "    elif val > 4 and val <=7:\n",
    "        return \"Average\"\n",
    "    elif val > 0 and val <= 4:\n",
    "        return \"Poor\"\n",
    "    else:\n",
    "        return \"Undefined\"\n",
    "movies_with_imdb_ratings['Verdict'] = movies_with_imdb_ratings['IMDb_Rating'].apply(transform)\n",
    "avg_rating = movies_with_imdb_ratings['Budget_Million'].mean()\n",
    "movies_with_imdb_ratings[(movies_with_imdb_ratings['Budget_Million'] > avg_rating)].sort_values(by = \"Budget_Million\", ascending = False)[:5]"
   ]
  },
  {
   "cell_type": "code",
   "execution_count": 135,
   "metadata": {},
   "outputs": [
    {
     "data": {
      "text/plain": [
       "Text(0.5, 1.0, 'the trend between movie runtime and audience score')"
      ]
     },
     "execution_count": 135,
     "metadata": {},
     "output_type": "execute_result"
    },
    {
     "data": {
      "image/png": "[encoded data removed]",
      "text/plain": [
       "<Figure size 1500x800 with 1 Axes>"
      ]
     },
     "metadata": {},
     "output_type": "display_data"
    }
   ],
   "source": [
    "#What is the trend between movie runtime and audience score\n",
    "plt.figure(figsize=(15, 8))\n",
    "sns.regplot(x=df['Runtime_Minutes'], y=df['Audience_Score'])\n",
    "plt.title(\"the trend between movie runtime and audience score\")"
   ]
  },
  {
   "cell_type": "code",
   "execution_count": 136,
   "metadata": {},
   "outputs": [
    {
     "data": {
      "text/plain": [
       "Age_of_Movies\n",
       "new    53.810345\n",
       "old    57.148936\n",
       "Name: Rotten_Tomatoes_Score, dtype: float64"
      ]
     },
     "execution_count": 136,
     "metadata": {},
     "output_type": "execute_result"
    }
   ],
   "source": [
    "#Do older movies have lower Rotten Tomatoes scores than newer ones\n",
    "movie_with_lower_rotten_ratings = df.loc[:, ['Title', 'Release_Year', 'Rotten_Tomatoes_Score']]\n",
    "def transform(val):\n",
    "    if val > 2000:\n",
    "        return \"new\"\n",
    "    else:\n",
    "        return \"old\"\n",
    "movie_with_lower_rotten_ratings['Age_of_Movies'] = movie_with_lower_rotten_ratings['Release_Year'].apply(transform)\n",
    "movie_with_lower_rotten_ratings.groupby(\"Age_of_Movies\")['Rotten_Tomatoes_Score'].mean()"
   ]
  },
  {
   "cell_type": "code",
   "execution_count": 137,
   "metadata": {},
   "outputs": [
    {
     "data": {
      "application/vnd.microsoft.datawrangler.viewer.v0+json": {
       "columns": [
        {
         "name": "Language",
         "rawType": "object",
         "type": "string"
        },
        {
         "name": "mean",
         "rawType": "float64",
         "type": "float"
        },
        {
         "name": "median",
         "rawType": "float64",
         "type": "float"
        },
        {
         "name": "std",
         "rawType": "float64",
         "type": "float"
        },
        {
         "name": "count",
         "rawType": "int64",
         "type": "integer"
        }
       ],
       "conversionMethod": "pd.DataFrame",
       "ref": "1773edc5-ef0c-484f-9efe-9f35cf3d3888",
       "rows": [
        [
         "English",
         "67.63636363636364",
         "69.0",
         "19.70925025094931",
         "11"
        ],
        [
         "Korean",
         "53.88235294117647",
         "52.0",
         "18.70455276443805",
         "17"
        ],
        [
         "Spanish",
         "52.625",
         "44.5",
         "32.310712509276904",
         "8"
        ],
        [
         "Mandarin",
         "51.2",
         "52.5",
         "24.94349169177759",
         "10"
        ],
        [
         "Hindi",
         "50.23529411764706",
         "58.0",
         "26.515395084188132",
         "17"
        ],
        [
         "German",
         "50.05555555555556",
         "48.0",
         "23.725072918061187",
         "18"
        ],
        [
         "Japanese",
         "47.61538461538461",
         "46.0",
         "25.62400717276171",
         "13"
        ],
        [
         "French",
         "45.0",
         "24.0",
         "31.45472937413387",
         "11"
        ]
       ],
       "shape": {
        "columns": 4,
        "rows": 8
       }
      },
      "text/html": [
       "<div>\n",
       "<style scoped>\n",
       "    .dataframe tbody tr th:only-of-type {\n",
       "        vertical-align: middle;\n",
       "    }\n",
       "\n",
       "    .dataframe tbody tr th {\n",
       "        vertical-align: top;\n",
       "    }\n",
       "\n",
       "    .dataframe thead th {\n",
       "        text-align: right;\n",
       "    }\n",
       "</style>\n",
       "<table border=\"1\" class=\"dataframe\">\n",
       "  <thead>\n",
       "    <tr style=\"text-align: right;\">\n",
       "      <th></th>\n",
       "      <th>mean</th>\n",
       "      <th>median</th>\n",
       "      <th>std</th>\n",
       "      <th>count</th>\n",
       "    </tr>\n",
       "    <tr>\n",
       "      <th>Language</th>\n",
       "      <th></th>\n",
       "      <th></th>\n",
       "      <th></th>\n",
       "      <th></th>\n",
       "    </tr>\n",
       "  </thead>\n",
       "  <tbody>\n",
       "    <tr>\n",
       "      <th>English</th>\n",
       "      <td>67.636364</td>\n",
       "      <td>69.0</td>\n",
       "      <td>19.709250</td>\n",
       "      <td>11</td>\n",
       "    </tr>\n",
       "    <tr>\n",
       "      <th>Korean</th>\n",
       "      <td>53.882353</td>\n",
       "      <td>52.0</td>\n",
       "      <td>18.704553</td>\n",
       "      <td>17</td>\n",
       "    </tr>\n",
       "    <tr>\n",
       "      <th>Spanish</th>\n",
       "      <td>52.625000</td>\n",
       "      <td>44.5</td>\n",
       "      <td>32.310713</td>\n",
       "      <td>8</td>\n",
       "    </tr>\n",
       "    <tr>\n",
       "      <th>Mandarin</th>\n",
       "      <td>51.200000</td>\n",
       "      <td>52.5</td>\n",
       "      <td>24.943492</td>\n",
       "      <td>10</td>\n",
       "    </tr>\n",
       "    <tr>\n",
       "      <th>Hindi</th>\n",
       "      <td>50.235294</td>\n",
       "      <td>58.0</td>\n",
       "      <td>26.515395</td>\n",
       "      <td>17</td>\n",
       "    </tr>\n",
       "    <tr>\n",
       "      <th>German</th>\n",
       "      <td>50.055556</td>\n",
       "      <td>48.0</td>\n",
       "      <td>23.725073</td>\n",
       "      <td>18</td>\n",
       "    </tr>\n",
       "    <tr>\n",
       "      <th>Japanese</th>\n",
       "      <td>47.615385</td>\n",
       "      <td>46.0</td>\n",
       "      <td>25.624007</td>\n",
       "      <td>13</td>\n",
       "    </tr>\n",
       "    <tr>\n",
       "      <th>French</th>\n",
       "      <td>45.000000</td>\n",
       "      <td>24.0</td>\n",
       "      <td>31.454729</td>\n",
       "      <td>11</td>\n",
       "    </tr>\n",
       "  </tbody>\n",
       "</table>\n",
       "</div>"
      ],
      "text/plain": [
       "               mean  median        std  count\n",
       "Language                                     \n",
       "English   67.636364    69.0  19.709250     11\n",
       "Korean    53.882353    52.0  18.704553     17\n",
       "Spanish   52.625000    44.5  32.310713      8\n",
       "Mandarin  51.200000    52.5  24.943492     10\n",
       "Hindi     50.235294    58.0  26.515395     17\n",
       "German    50.055556    48.0  23.725073     18\n",
       "Japanese  47.615385    46.0  25.624007     13\n",
       "French    45.000000    24.0  31.454729     11"
      ]
     },
     "execution_count": 137,
     "metadata": {},
     "output_type": "execute_result"
    }
   ],
   "source": [
    "#Is there a significant difference in ratings between different movie languages\n",
    "df.groupby(\"Language\")[\"Audience_Score\"].agg([\"mean\", \"median\", \"std\", \"count\"]).sort_values(by=\"mean\", ascending=False)"
   ]
  },
  {
   "cell_type": "code",
   "execution_count": 151,
   "metadata": {},
   "outputs": [
    {
     "data": {
      "image/png": "[encoded data removed]",
      "text/plain": [
       "<Figure size 1500x800 with 1 Axes>"
      ]
     },
     "metadata": {},
     "output_type": "display_data"
    }
   ],
   "source": [
    "#How has the average IMDb rating changed over the years\n",
    "avg_rating_years = df.groupby('Release_Year')['IMDb_Rating'].mean().reset_index()\n",
    "#avg_rating_years.sort_values(by = \"Release_Year\", ascending = True)\n",
    "plt.figure(figsize=(15, 8))\n",
    "avg_rating_years = df.groupby('Release_Year')['IMDb_Rating'].mean().plot(kind = \"line\")"
   ]
  },
  {
   "cell_type": "code",
   "execution_count": 152,
   "metadata": {},
   "outputs": [
    {
     "data": {
      "image/png": "[encoded data removed]",
      "text/plain": [
       "<Figure size 1500x800 with 1 Axes>"
      ]
     },
     "metadata": {},
     "output_type": "display_data"
    }
   ],
   "source": [
    "#Are movies becoming longer or shorter over time\n",
    "movies_longer_or_shorter = df.groupby(\"Release_Year\")['Runtime_Minutes'].mean().reset_index()\n",
    "movies_longer_or_shorter.sort_values(by = \"Release_Year\",ascending= True)\n",
    "plt.figure(figsize=(15, 8))\n",
    "movies_longer_or_shorter = df.groupby(\"Release_Year\")['Runtime_Minutes'].mean().plot(kind = \"line\")"
   ]
  },
  {
   "cell_type": "code",
   "execution_count": 154,
   "metadata": {},
   "outputs": [
    {
     "data": {
      "image/png": "[encoded data removed]",
      "text/plain": [
       "<Figure size 1500x800 with 1 Axes>"
      ]
     },
     "metadata": {},
     "output_type": "display_data"
    }
   ],
   "source": [
    "#Has the average budget for movies increased over the decades\n",
    "movies_longer_or_shorter = df.groupby(\"Release_Year\")['Budget_Million'].mean().reset_index()\n",
    "movies_longer_or_shorter.sort_values(by = \"Release_Year\",ascending= True)\n",
    "plt.figure(figsize=(15, 8))\n",
    "movies_longer_or_shorter = df.groupby(\"Release_Year\")['Budget_Million'].mean().plot(kind = \"line\")"
   ]
  },
  {
   "cell_type": "code",
   "execution_count": 161,
   "metadata": {},
   "outputs": [
    {
     "data": {
      "application/vnd.microsoft.datawrangler.viewer.v0+json": {
       "columns": [
        {
         "name": "index",
         "rawType": "int64",
         "type": "integer"
        },
        {
         "name": "Decade",
         "rawType": "object",
         "type": "string"
        },
        {
         "name": "IMDb_Rating",
         "rawType": "float64",
         "type": "float"
        }
       ],
       "conversionMethod": "pd.DataFrame",
       "ref": "a05c38fb-aaf3-4ab9-894e-47ca9dd73b52",
       "rows": [
        [
         "1",
         "1990s",
         "6.626706256972555"
        ]
       ],
       "shape": {
        "columns": 2,
        "rows": 1
       }
      },
      "text/html": [
       "<div>\n",
       "<style scoped>\n",
       "    .dataframe tbody tr th:only-of-type {\n",
       "        vertical-align: middle;\n",
       "    }\n",
       "\n",
       "    .dataframe tbody tr th {\n",
       "        vertical-align: top;\n",
       "    }\n",
       "\n",
       "    .dataframe thead th {\n",
       "        text-align: right;\n",
       "    }\n",
       "</style>\n",
       "<table border=\"1\" class=\"dataframe\">\n",
       "  <thead>\n",
       "    <tr style=\"text-align: right;\">\n",
       "      <th></th>\n",
       "      <th>Decade</th>\n",
       "      <th>IMDb_Rating</th>\n",
       "    </tr>\n",
       "  </thead>\n",
       "  <tbody>\n",
       "    <tr>\n",
       "      <th>1</th>\n",
       "      <td>1990s</td>\n",
       "      <td>6.626706</td>\n",
       "    </tr>\n",
       "  </tbody>\n",
       "</table>\n",
       "</div>"
      ],
      "text/plain": [
       "  Decade  IMDb_Rating\n",
       "1  1990s     6.626706"
      ]
     },
     "execution_count": 161,
     "metadata": {},
     "output_type": "execute_result"
    }
   ],
   "source": [
    "#Which decade produced the highest number of highly-rated movies\n",
    "highest_rated_movie_decade = df.loc[:, ['Release_Year', 'IMDb_Rating']]\n",
    "def transform(val):\n",
    "    if val in range(1980, 1991):\n",
    "        return \"1980s\"\n",
    "    elif val in range(1991, 2001):\n",
    "        return \"1990s\"\n",
    "    elif val in range(2001, 2011):\n",
    "        return \"2000s\"\n",
    "    elif val in range(2011, 2021):\n",
    "        return \"2010s\"\n",
    "    elif val in range(2021, 2026):\n",
    "        return \"2020s\"\n",
    "    else:\n",
    "        return \"1970s and below\"\n",
    "highest_rated_movie_decade['Decade'] = highest_rated_movie_decade['Release_Year'].apply(transform)\n",
    "avg_highest_rated_movie_decade = highest_rated_movie_decade.groupby(\"Decade\")['IMDb_Rating'].mean().reset_index()\n",
    "avg_highest_rated_movie_decade.sort_values(by=\"IMDb_Rating\", ascending = False)[:1]"
   ]
  }
 ],
 "metadata": {
  "kernelspec": {
   "display_name": "base",
   "language": "python",
   "name": "python3"
  },
  "language_info": {
   "codemirror_mode": {
    "name": "ipython",
    "version": 3
   },
   "file_extension": ".py",
   "mimetype": "text/x-python",
   "name": "python",
   "nbconvert_exporter": "python",
   "pygments_lexer": "ipython3",
   "version": "3.11.7"
  }
 },
 "nbformat": 4,
 "nbformat_minor": 2
}
